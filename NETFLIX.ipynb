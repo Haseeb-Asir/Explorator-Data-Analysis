{
 "cells": [
  {
   "cell_type": "code",
   "execution_count": 27,
   "id": "057f5822",
   "metadata": {},
   "outputs": [
    {
     "name": "stdout",
     "output_type": "stream",
     "text": [
      "(8807, 12)\n"
     ]
    },
    {
     "data": {
      "text/html": [
       "<div>\n",
       "<style scoped>\n",
       "    .dataframe tbody tr th:only-of-type {\n",
       "        vertical-align: middle;\n",
       "    }\n",
       "\n",
       "    .dataframe tbody tr th {\n",
       "        vertical-align: top;\n",
       "    }\n",
       "\n",
       "    .dataframe thead th {\n",
       "        text-align: right;\n",
       "    }\n",
       "</style>\n",
       "<table border=\"1\" class=\"dataframe\">\n",
       "  <thead>\n",
       "    <tr style=\"text-align: right;\">\n",
       "      <th></th>\n",
       "      <th>show_id</th>\n",
       "      <th>type</th>\n",
       "      <th>title</th>\n",
       "      <th>director</th>\n",
       "      <th>cast</th>\n",
       "      <th>country</th>\n",
       "      <th>date_added</th>\n",
       "      <th>release_year</th>\n",
       "      <th>rating</th>\n",
       "      <th>duration</th>\n",
       "      <th>listed_in</th>\n",
       "      <th>description</th>\n",
       "    </tr>\n",
       "  </thead>\n",
       "  <tbody>\n",
       "    <tr>\n",
       "      <th>0</th>\n",
       "      <td>s1</td>\n",
       "      <td>Movie</td>\n",
       "      <td>Dick Johnson Is Dead</td>\n",
       "      <td>Kirsten Johnson</td>\n",
       "      <td>NaN</td>\n",
       "      <td>United States</td>\n",
       "      <td>September 25, 2021</td>\n",
       "      <td>2020</td>\n",
       "      <td>PG-13</td>\n",
       "      <td>90 min</td>\n",
       "      <td>Documentaries</td>\n",
       "      <td>As her father nears the end of his life, filmm...</td>\n",
       "    </tr>\n",
       "    <tr>\n",
       "      <th>1</th>\n",
       "      <td>s2</td>\n",
       "      <td>TV Show</td>\n",
       "      <td>Blood &amp; Water</td>\n",
       "      <td>NaN</td>\n",
       "      <td>Ama Qamata, Khosi Ngema, Gail Mabalane, Thaban...</td>\n",
       "      <td>South Africa</td>\n",
       "      <td>September 24, 2021</td>\n",
       "      <td>2021</td>\n",
       "      <td>TV-MA</td>\n",
       "      <td>2 Seasons</td>\n",
       "      <td>International TV Shows, TV Dramas, TV Mysteries</td>\n",
       "      <td>After crossing paths at a party, a Cape Town t...</td>\n",
       "    </tr>\n",
       "    <tr>\n",
       "      <th>2</th>\n",
       "      <td>s3</td>\n",
       "      <td>TV Show</td>\n",
       "      <td>Ganglands</td>\n",
       "      <td>Julien Leclercq</td>\n",
       "      <td>Sami Bouajila, Tracy Gotoas, Samuel Jouy, Nabi...</td>\n",
       "      <td>NaN</td>\n",
       "      <td>September 24, 2021</td>\n",
       "      <td>2021</td>\n",
       "      <td>TV-MA</td>\n",
       "      <td>1 Season</td>\n",
       "      <td>Crime TV Shows, International TV Shows, TV Act...</td>\n",
       "      <td>To protect his family from a powerful drug lor...</td>\n",
       "    </tr>\n",
       "    <tr>\n",
       "      <th>3</th>\n",
       "      <td>s4</td>\n",
       "      <td>TV Show</td>\n",
       "      <td>Jailbirds New Orleans</td>\n",
       "      <td>NaN</td>\n",
       "      <td>NaN</td>\n",
       "      <td>NaN</td>\n",
       "      <td>September 24, 2021</td>\n",
       "      <td>2021</td>\n",
       "      <td>TV-MA</td>\n",
       "      <td>1 Season</td>\n",
       "      <td>Docuseries, Reality TV</td>\n",
       "      <td>Feuds, flirtations and toilet talk go down amo...</td>\n",
       "    </tr>\n",
       "    <tr>\n",
       "      <th>4</th>\n",
       "      <td>s5</td>\n",
       "      <td>TV Show</td>\n",
       "      <td>Kota Factory</td>\n",
       "      <td>NaN</td>\n",
       "      <td>Mayur More, Jitendra Kumar, Ranjan Raj, Alam K...</td>\n",
       "      <td>India</td>\n",
       "      <td>September 24, 2021</td>\n",
       "      <td>2021</td>\n",
       "      <td>TV-MA</td>\n",
       "      <td>2 Seasons</td>\n",
       "      <td>International TV Shows, Romantic TV Shows, TV ...</td>\n",
       "      <td>In a city of coaching centers known to train I...</td>\n",
       "    </tr>\n",
       "  </tbody>\n",
       "</table>\n",
       "</div>"
      ],
      "text/plain": [
       "  show_id     type                  title         director  \\\n",
       "0      s1    Movie   Dick Johnson Is Dead  Kirsten Johnson   \n",
       "1      s2  TV Show          Blood & Water              NaN   \n",
       "2      s3  TV Show              Ganglands  Julien Leclercq   \n",
       "3      s4  TV Show  Jailbirds New Orleans              NaN   \n",
       "4      s5  TV Show           Kota Factory              NaN   \n",
       "\n",
       "                                                cast        country  \\\n",
       "0                                                NaN  United States   \n",
       "1  Ama Qamata, Khosi Ngema, Gail Mabalane, Thaban...   South Africa   \n",
       "2  Sami Bouajila, Tracy Gotoas, Samuel Jouy, Nabi...            NaN   \n",
       "3                                                NaN            NaN   \n",
       "4  Mayur More, Jitendra Kumar, Ranjan Raj, Alam K...          India   \n",
       "\n",
       "           date_added  release_year rating   duration  \\\n",
       "0  September 25, 2021          2020  PG-13     90 min   \n",
       "1  September 24, 2021          2021  TV-MA  2 Seasons   \n",
       "2  September 24, 2021          2021  TV-MA   1 Season   \n",
       "3  September 24, 2021          2021  TV-MA   1 Season   \n",
       "4  September 24, 2021          2021  TV-MA  2 Seasons   \n",
       "\n",
       "                                           listed_in  \\\n",
       "0                                      Documentaries   \n",
       "1    International TV Shows, TV Dramas, TV Mysteries   \n",
       "2  Crime TV Shows, International TV Shows, TV Act...   \n",
       "3                             Docuseries, Reality TV   \n",
       "4  International TV Shows, Romantic TV Shows, TV ...   \n",
       "\n",
       "                                         description  \n",
       "0  As her father nears the end of his life, filmm...  \n",
       "1  After crossing paths at a party, a Cape Town t...  \n",
       "2  To protect his family from a powerful drug lor...  \n",
       "3  Feuds, flirtations and toilet talk go down amo...  \n",
       "4  In a city of coaching centers known to train I...  "
      ]
     },
     "execution_count": 27,
     "metadata": {},
     "output_type": "execute_result"
    }
   ],
   "source": [
    "import pandas as pd\n",
    "import seaborn as sns\n",
    "import matplotlib.pyplot as plt\n",
    "\n",
    "df = pd.read_csv(\"netflix_titles.csv\")\n",
    "print(df.shape)\n",
    "df.head()\n"
   ]
  },
  {
   "cell_type": "code",
   "execution_count": 28,
   "id": "1d3f46b8",
   "metadata": {},
   "outputs": [
    {
     "data": {
      "text/plain": [
       "show_id            0\n",
       "type               0\n",
       "title              0\n",
       "director        2634\n",
       "cast             825\n",
       "country          831\n",
       "date_added        10\n",
       "release_year       0\n",
       "rating             4\n",
       "duration           3\n",
       "listed_in          0\n",
       "description        0\n",
       "dtype: int64"
      ]
     },
     "execution_count": 28,
     "metadata": {},
     "output_type": "execute_result"
    }
   ],
   "source": [
    "df.isnull().sum()\n",
    "\n"
   ]
  },
  {
   "cell_type": "code",
   "execution_count": 29,
   "id": "53e0785b",
   "metadata": {},
   "outputs": [],
   "source": [
    "# Fill missing categorical columns with \"Unknown\"\n",
    "df.fillna({'director': 'Unknown', 'cast': 'Unknown', 'country': 'Unknown', 'rating': 'Unknown'}, inplace=True)\n",
    "\n",
    "# Drop rows with missing 'date_added' (for simplicity)\n",
    "\n"
   ]
  },
  {
   "cell_type": "code",
   "execution_count": 30,
   "id": "fbb035ab",
   "metadata": {},
   "outputs": [],
   "source": [
    "df['date_added'] = pd.to_datetime(df['date_added'], format='mixed', errors='coerce')\n",
    "\n",
    "\n",
    "\n",
    "df['date_added'] = pd.to_datetime(df['date_added'])\n",
    "\n",
    "df['year_added'] = df['date_added'].dt.year\n",
    "df['month_added'] = df['date_added'].dt.month\n",
    "df['day_added'] = df['date_added'].dt.day\n"
   ]
  },
  {
   "cell_type": "code",
   "execution_count": 31,
   "id": "ab52119e",
   "metadata": {},
   "outputs": [
    {
     "data": {
      "text/plain": [
       "np.int64(10)"
      ]
     },
     "execution_count": 31,
     "metadata": {},
     "output_type": "execute_result"
    }
   ],
   "source": [
    "df[\"date_added\"].isnull().sum() "
   ]
  },
  {
   "cell_type": "code",
   "execution_count": 32,
   "id": "80481290",
   "metadata": {},
   "outputs": [
    {
     "name": "stderr",
     "output_type": "stream",
     "text": [
      "C:\\Users\\SC\\AppData\\Local\\Temp\\ipykernel_2396\\3861336518.py:4: FutureWarning:\n",
      "\n",
      "\n",
      "\n",
      "Passing `palette` without assigning `hue` is deprecated and will be removed in v0.14.0. Assign the `x` variable to `hue` and set `legend=False` for the same effect.\n",
      "\n",
      "\n"
     ]
    },
    {
     "data": {
      "image/png": "[encoded data removed]",
      "text/plain": [
       "<Figure size 640x480 with 1 Axes>"
      ]
     },
     "metadata": {},
     "output_type": "display_data"
    }
   ],
   "source": [
    "import seaborn as sns\n",
    "import matplotlib.pyplot as plt\n",
    "\n",
    "sns.countplot(x='type', data=df, palette='Set2')\n",
    "plt.title(\"Movies vs TV Shows on Netflix\")\n",
    "plt.show()\n"
   ]
  },
  {
   "cell_type": "code",
   "execution_count": 33,
   "id": "158ee46c",
   "metadata": {},
   "outputs": [
    {
     "name": "stderr",
     "output_type": "stream",
     "text": [
      "C:\\Users\\SC\\AppData\\Local\\Temp\\ipykernel_2396\\1394022655.py:4: FutureWarning:\n",
      "\n",
      "\n",
      "\n",
      "Passing `palette` without assigning `hue` is deprecated and will be removed in v0.14.0. Assign the `x` variable to `hue` and set `legend=False` for the same effect.\n",
      "\n",
      "\n"
     ]
    },
    {
     "data": {
      "image/png": "[encoded data removed]",
      "text/plain": [
       "<Figure size 1000x500 with 1 Axes>"
      ]
     },
     "metadata": {},
     "output_type": "display_data"
    }
   ],
   "source": [
    "top_countries = df['country'].value_counts().head(15)\n",
    "\n",
    "plt.figure(figsize=(10,5))\n",
    "sns.barplot(x=top_countries.index, y=top_countries.values, palette='viridis')\n",
    "plt.xticks(rotation=45)\n",
    "plt.title(\"Top 10 Countries with Most Netflix Content\")\n",
    "plt.show()\n"
   ]
  },
  {
   "cell_type": "code",
   "execution_count": 34,
   "id": "79b78ee2",
   "metadata": {},
   "outputs": [
    {
     "data": {
      "image/png": "[encoded data removed]",
      "text/plain": [
       "<Figure size 1200x600 with 1 Axes>"
      ]
     },
     "metadata": {},
     "output_type": "display_data"
    }
   ],
   "source": [
    "content_by_year = df['year_added'].value_counts().sort_index()\n",
    "\n",
    "plt.figure(figsize=(12,6))\n",
    "sns.lineplot(x=content_by_year.index, y=content_by_year.values, marker='o')\n",
    "plt.title(\"Netflix Content Added Per Year\")\n",
    "plt.ylabel(\"Number of Titles\")\n",
    "plt.xlabel(\"Year\")\n",
    "plt.show()\n"
   ]
  },
  {
   "cell_type": "code",
   "execution_count": 35,
   "id": "746111ce",
   "metadata": {},
   "outputs": [
    {
     "name": "stderr",
     "output_type": "stream",
     "text": [
      "C:\\Users\\SC\\AppData\\Local\\Temp\\ipykernel_2396\\3078498133.py:9: FutureWarning:\n",
      "\n",
      "\n",
      "\n",
      "Passing `palette` without assigning `hue` is deprecated and will be removed in v0.14.0. Assign the `x` variable to `hue` and set `legend=False` for the same effect.\n",
      "\n",
      "\n"
     ]
    },
    {
     "data": {
      "image/png": "[encoded data removed]",
      "text/plain": [
       "<Figure size 1000x500 with 1 Axes>"
      ]
     },
     "metadata": {},
     "output_type": "display_data"
    }
   ],
   "source": [
    "from collections import Counter\n",
    "\n",
    "genres = ','.join(df['listed_in']).split(', ')\n",
    "genre_counts = Counter(genres)\n",
    "\n",
    "top_genres = genre_counts.most_common(15)\n",
    "\n",
    "plt.figure(figsize=(10,5))\n",
    "sns.barplot(x=[x[0] for x in top_genres], y=[x[1] for x in top_genres], palette='cool')\n",
    "plt.title(\"Top 10 Genres on Netflix\")\n",
    "plt.xticks(rotation=45)\n",
    "plt.show()\n"
   ]
  },
  {
   "cell_type": "code",
   "execution_count": 36,
   "id": "18343707",
   "metadata": {},
   "outputs": [
    {
     "data": {
      "application/vnd.plotly.v1+json": {
       "config": {
        "plotlyServerURL": "https://plot.ly"
       },
       "data": [
        {
         "alignmentgroup": "True",
         "bingroup": "x",
         "hovertemplate": "type=Movie<br>year_added=%{x}<br>count=%{y}<extra></extra>",
         "legendgroup": "Movie",
         "marker": {
          "color": "#636efa",
          "pattern": {
           "shape": ""
          }
         },
         "name": "Movie",
         "offsetgroup": "Movie",
         "orientation": "v",
         "showlegend": true,
         "type": "histogram",
         "x": {
          "bdata": "AAAAAACUn0AAAAAAAJSfQAAAAAAAlJ9AAAAAAACUn0AAAAAAAJSfQAAAAAAAlJ9AAAAAAACUn0AAAAAAAJSfQAAAAAAAlJ9AAAAAAACUn0AAAAAAAJSfQAAAAAAAlJ9AAAAAAACUn0AAAAAAAJSfQAAAAAAAlJ9AAAAAAACUn0AAAAAAAJSfQAAAAAAAlJ9AAAAAAACUn0AAAAAAAJSfQAAAAAAAlJ9AAAAAAACUn0AAAAAAAJSfQAAAAAAAlJ9AAAAAAACUn0AAAAAAAJSfQAAAAAAAlJ9AAAAAAACUn0AAAAAAAJSfQAAAAAAAlJ9AAAAAAACUn0AAAAAAAJSfQAAAAAAAlJ9AAAAAAACUn0AAAAAAAJSfQAAAAAAAlJ9AAAAAAACUn0AAAAAAAJSfQAAAAAAAlJ9AAAAAAACUn0AAAAAAAJSfQAAAAAAAlJ9AAAAAAACUn0AAAAAAAJSfQAAAAAAAlJ9AAAAAAACUn0AAAAAAAJSfQAAAAAAAlJ9AAAAAAACUn0AAAAAAAJSfQAAAAAAAlJ9AAAAAAACUn0AAAAAAAJSfQAAAAAAAlJ9AAAAAAACUn0AAAAAAAJSfQAAAAAAAlJ9AAAAAAACUn0AAAAAAAJSfQAAAAAAAlJ9AAAAAAACUn0AAAAAAAJSfQAAAAAAAlJ9AAAAAAACUn0AAAAAAAJSfQAAAAAAAlJ9AAAAAAACUn0AAAAAAAJSfQAAAAAAAlJ9AAAAAAACUn0AAAAAAAJSfQAAAAAAAlJ9AAAAAAACUn0AAAAAAAJSfQAAAAAAAlJ9AAAAAAACUn0AAAAAAAJSfQAAAAAAAlJ9AAAAAAACUn0AAAAAAAJSfQAAAAAAAlJ9AAAAAAACUn0AAAAAAAJSfQAAAAAAAlJ9AAAAAAACUn0AAAAAAAJSfQAAAAAAAlJ9AAAAAAACUn0AAAAAAAJSfQAAAAAAAlJ9AAAAAAACUn0AAAAAAAJSfQAAAAAAAlJ9AAAAAAACUn0AAAAAAAJSfQAAAAAAAlJ9AAAAAAACUn0AAAAAAAJSfQAAAAAAAlJ9AAAAAAACUn0AAAAAAAJSfQAAAAAAAlJ9AAAAAAACUn0AAAAAAAJSfQAAAAAAAlJ9AAAAAAACUn0AAAAAAAJSfQAAAAAAAlJ9AAAAAAACUn0AAAAAAAJSfQAAAAAAAlJ9AAAAAAACUn0AAAAAAAJSfQAAAAAAAlJ9AAAAAAACUn0AAAAAAAJSfQAAAAAAAlJ9AAAAAAACUn0AAAAAAAJSfQAAAAAAAlJ9AAAAAAACUn0AAAAAAAJSfQAAAAAAAlJ9AAAAAAACUn0AAAAAAAJSfQAAAAAAAlJ9AAAAAAACUn0AAAAAAAJSfQAAAAAAAlJ9AAAAAAACUn0AAAAAAAJSfQAAAAAAAlJ9AAAAAAACUn0AAAAAAAJSfQAAAAAAAlJ9AAAAAAACUn0AAAAAAAJSfQAAAAAAAlJ9AAAAAAACUn0AAAAAAAJSfQAAAAAAAlJ9AAAAAAACUn0AAAAAAAJSfQAAAAAAAlJ9AAAAAAACUn0AAAAAAAJSfQAAAAAAAlJ9AAAAAAACUn0AAAAAAAJSfQAAAAAAAlJ9AAAAAAACUn0AAAAAAAJSfQAAAAAAAlJ9AAAAAAACUn0AAAAAAAJSfQAAAAAAAlJ9AAAAAAACUn0AAAAAAAJSfQAAAAAAAlJ9AAAAAAACUn0AAAAAAAJSfQAAAAAAAlJ9AAAAAAACUn0AAAAAAAJSfQAAAAAAAlJ9AAAAAAACUn0AAAAAAAJSfQAAAAAAAlJ9AAAAAAACUn0AAAAAAAJSfQAAAAAAAlJ9AAAAAAACUn0AAAAAAAJSfQAAAAAAAlJ9AAAAAAACUn0AAAAAAAJSfQAAAAAAAlJ9AAAAAAACUn0AAAAAAAJSfQAAAAAAAlJ9AAAAAAACUn0AAAAAAAJSfQAAAAAAAlJ9AAAAAAACUn0AAAAAAAJSfQAAAAAAAlJ9AAAAAAACUn0AAAAAAAJSfQAAAAAAAlJ9AAAAAAACUn0AAAAAAAJSfQAAAAAAAlJ9AAAAAAACUn0AAAAAAAJSfQAAAAAAAlJ9AAAAAAACUn0AAAAAAAJSfQAAAAAAAlJ9AAAAAAACUn0AAAAAAAJSfQAAAAAAAlJ9AAAAAAACUn0AAAAAAAJSfQAAAAAAAlJ9AAAAAAACUn0AAAAAAAJSfQAAAAAAAlJ9AAAAAAACUn0AAAAAAAJSfQAAAAAAAlJ9AAAAAAACUn0AAAAAAAJSfQAAAAAAAlJ9AAAAAAACUn0AAAAAAAJSfQAAAAAAAlJ9AAAAAAACUn0AAAAAAAJSfQAAAAAAAlJ9AAAAAAACUn0AAAAAAAJSfQAAAAAAAlJ9AAAAAAACUn0AAAAAAAJSfQAAAAAAAlJ9AAAAAAACUn0AAAAAAAJSfQAAAAAAAlJ9AAAAAAACUn0AAAAAAAJSfQAAAAAAAlJ9AAAAAAACUn0AAAAAAAJSfQAAAAAAAlJ9AAAAAAACUn0AAAAAAAJSfQAAAAAAAlJ9AAAAAAACUn0AAAAAAAJSfQAAAAAAAlJ9AAAAAAACUn0AAAAAAAJSfQAAAAAAAlJ9AAAAAAACUn0AAAAAAAJSfQAAAAAAAlJ9AAAAAAACUn0AAAAAAAJSfQAAAAAAAlJ9AAAAAAACUn0AAAAAAAJSfQAAAAAAAlJ9AAAAAAACUn0AAAAAAAJSfQAAAAAAAlJ9AAAAAAACUn0AAAAAAAJSfQAAAAAAAlJ9AAAAAAACUn0AAAAAAAJSfQAAAAAAAlJ9AAAAAAACUn0AAAAAAAJSfQAAAAAAAlJ9AAAAAAACUn0AAAAAAAJSfQAAAAAAAlJ9AAAAAAACUn0AAAAAAAJSfQAAAAAAAlJ9AAAAAAACUn0AAAAAAAJSfQAAAAAAAlJ9AAAAAAACUn0AAAAAAAJSfQAAAAAAAlJ9AAAAAAACUn0AAAAAAAJSfQAAAAAAAlJ9AAAAAAACUn0AAAAAAAJSfQAAAAAAAlJ9AAAAAAACUn0AAAAAAAJSfQAAAAAAAlJ9AAAAAAACUn0AAAAAAAJSfQAAAAAAAlJ9AAAAAAACUn0AAAAAAAJSfQAAAAAAAlJ9AAAAAAACUn0AAAAAAAJSfQAAAAAAAlJ9AAAAAAACUn0AAAAAAAJSfQAAAAAAAlJ9AAAAAAACUn0AAAAAAAJSfQAAAAAAAlJ9AAAAAAACUn0AAAAAAAJSfQAAAAAAAlJ9AAAAAAACUn0AAAAAAAJSfQAAAAAAAlJ9AAAAAAACUn0AAAAAAAJSfQAAAAAAAlJ9AAAAAAACUn0AAAAAAAJSfQAAAAAAAlJ9AAAAAAACUn0AAAAAAAJSfQAAAAAAAlJ9AAAAAAACUn0AAAAAAAJSfQAAAAAAAlJ9AAAAAAACUn0AAAAAAAJSfQAAAAAAAlJ9AAAAAAACUn0AAAAAAAJSfQAAAAAAAlJ9AAAAAAACUn0AAAAAAAJSfQAAAAAAAlJ9AAAAAAACUn0AAAAAAAJSfQAAAAAAAlJ9AAAAAAACUn0AAAAAAAJSfQAAAAAAAlJ9AAAAAAACUn0AAAAAAAJSfQAAAAAAAlJ9AAAAAAACUn0AAAAAAAJSfQAAAAAAAlJ9AAAAAAACUn0AAAAAAAJSfQAAAAAAAlJ9AAAAAAACUn0AAAAAAAJSfQAAAAAAAlJ9AAAAAAACUn0AAAAAAAJSfQAAAAAAAlJ9AAAAAAACUn0AAAAAAAJSfQAAAAAAAlJ9AAAAAAACUn0AAAAAAAJSfQAAAAAAAlJ9AAAAAAACUn0AAAAAAAJSfQAAAAAAAlJ9AAAAAAACUn0AAAAAAAJSfQAAAAAAAlJ9AAAAAAACUn0AAAAAAAJSfQAAAAAAAlJ9AAAAAAACUn0AAAAAAAJSfQAAAAAAAlJ9AAAAAAACUn0AAAAAAAJSfQAAAAAAAlJ9AAAAAAACUn0AAAAAAAJSfQAAAAAAAlJ9AAAAAAACUn0AAAAAAAJSfQAAAAAAAlJ9AAAAAAACUn0AAAAAAAJSfQAAAAAAAlJ9AAAAAAACUn0AAAAAAAJSfQAAAAAAAlJ9AAAAAAACUn0AAAAAAAJSfQAAAAAAAlJ9AAAAAAACUn0AAAAAAAJSfQAAAAAAAlJ9AAAAAAACUn0AAAAAAAJSfQAAAAAAAlJ9AAAAAAACUn0AAAAAAAJSfQAAAAAAAlJ9AAAAAAACUn0AAAAAAAJSfQAAAAAAAlJ9AAAAAAACUn0AAAAAAAJSfQAAAAAAAlJ9AAAAAAACUn0AAAAAAAJSfQAAAAAAAlJ9AAAAAAACUn0AAAAAAAJSfQAAAAAAAlJ9AAAAAAACUn0AAAAAAAJSfQAAAAAAAlJ9AAAAAAACUn0AAAAAAAJSfQAAAAAAAlJ9AAAAAAACUn0AAAAAAAJSfQAAAAAAAlJ9AAAAAAACUn0AAAAAAAJSfQAAAAAAAlJ9AAAAAAACUn0AAAAAAAJSfQAAAAAAAlJ9AAAAAAACUn0AAAAAAAJSfQAAAAAAAlJ9AAAAAAACUn0AAAAAAAJSfQAAAAAAAlJ9AAAAAAACUn0AAAAAAAJSfQAAAAAAAlJ9AAAAAAACUn0AAAAAAAJSfQAAAAAAAlJ9AAAAAAACUn0AAAAAAAJSfQAAAAAAAlJ9AAAAAAACUn0AAAAAAAJSfQAAAAAAAlJ9AAAAAAACUn0AAAAAAAJSfQAAAAAAAlJ9AAAAAAACUn0AAAAAAAJSfQAAAAAAAlJ9AAAAAAACUn0AAAAAAAJSfQAAAAAAAlJ9AAAAAAACUn0AAAAAAAJSfQAAAAAAAlJ9AAAAAAACUn0AAAAAAAJSfQAAAAAAAlJ9AAAAAAACUn0AAAAAAAJSfQAAAAAAAlJ9AAAAAAACUn0AAAAAAAJSfQAAAAAAAlJ9AAAAAAACUn0AAAAAAAJSfQAAAAAAAlJ9AAAAAAACUn0AAAAAAAJSfQAAAAAAAlJ9AAAAAAACUn0AAAAAAAJSfQAAAAAAAlJ9AAAAAAACUn0AAAAAAAJSfQAAAAAAAlJ9AAAAAAACUn0AAAAAAAJSfQAAAAAAAlJ9AAAAAAACUn0AAAAAAAJSfQAAAAAAAlJ9AAAAAAACUn0AAAAAAAJSfQAAAAAAAlJ9AAAAAAACUn0AAAAAAAJSfQAAAAAAAlJ9AAAAAAACUn0AAAAAAAJSfQAAAAAAAlJ9AAAAAAACUn0AAAAAAAJSfQAAAAAAAlJ9AAAAAAACUn0AAAAAAAJSfQAAAAAAAlJ9AAAAAAACUn0AAAAAAAJSfQAAAAAAAlJ9AAAAAAACUn0AAAAAAAJSfQAAAAAAAlJ9AAAAAAACUn0AAAAAAAJSfQAAAAAAAlJ9AAAAAAACUn0AAAAAAAJSfQAAAAAAAlJ9AAAAAAACUn0AAAAAAAJSfQAAAAAAAlJ9AAAAAAACUn0AAAAAAAJSfQAAAAAAAlJ9AAAAAAACUn0AAAAAAAJSfQAAAAAAAlJ9AAAAAAACUn0AAAAAAAJSfQAAAAAAAlJ9AAAAAAACUn0AAAAAAAJSfQAAAAAAAlJ9AAAAAAACUn0AAAAAAAJSfQAAAAAAAlJ9AAAAAAACUn0AAAAAAAJSfQAAAAAAAlJ9AAAAAAACUn0AAAAAAAJSfQAAAAAAAlJ9AAAAAAACUn0AAAAAAAJSfQAAAAAAAlJ9AAAAAAACUn0AAAAAAAJSfQAAAAAAAlJ9AAAAAAACUn0AAAAAAAJSfQAAAAAAAlJ9AAAAAAACUn0AAAAAAAJSfQAAAAAAAlJ9AAAAAAACUn0AAAAAAAJSfQAAAAAAAlJ9AAAAAAACUn0AAAAAAAJSfQAAAAAAAlJ9AAAAAAACUn0AAAAAAAJSfQAAAAAAAlJ9AAAAAAACUn0AAAAAAAJSfQAAAAAAAlJ9AAAAAAACUn0AAAAAAAJSfQAAAAAAAlJ9AAAAAAACUn0AAAAAAAJSfQAAAAAAAlJ9AAAAAAACUn0AAAAAAAJSfQAAAAAAAlJ9AAAAAAACUn0AAAAAAAJSfQAAAAAAAlJ9AAAAAAACUn0AAAAAAAJSfQAAAAAAAlJ9AAAAAAACUn0AAAAAAAJSfQAAAAAAAlJ9AAAAAAACUn0AAAAAAAJSfQAAAAAAAlJ9AAAAAAACUn0AAAAAAAJSfQAAAAAAAlJ9AAAAAAACUn0AAAAAAAJSfQAAAAAAAlJ9AAAAAAACUn0AAAAAAAJSfQAAAAAAAlJ9AAAAAAACUn0AAAAAAAJSfQAAAAAAAlJ9AAAAAAACUn0AAAAAAAJSfQAAAAAAAlJ9AAAAAAACUn0AAAAAAAJSfQAAAAAAAlJ9AAAAAAACUn0AAAAAAAJSfQAAAAAAAlJ9AAAAAAACUn0AAAAAAAJSfQAAAAAAAlJ9AAAAAAACUn0AAAAAAAJSfQAAAAAAAlJ9AAAAAAACUn0AAAAAAAJSfQAAAAAAAlJ9AAAAAAACUn0AAAAAAAJSfQAAAAAAAlJ9AAAAAAACUn0AAAAAAAJSfQAAAAAAAlJ9AAAAAAACUn0AAAAAAAJSfQAAAAAAAlJ9AAAAAAACUn0AAAAAAAJSfQAAAAAAAlJ9AAAAAAACUn0AAAAAAAJSfQAAAAAAAlJ9AAAAAAACUn0AAAAAAAJSfQAAAAAAAlJ9AAAAAAACUn0AAAAAAAJSfQAAAAAAAlJ9AAAAAAACUn0AAAAAAAJSfQAAAAAAAlJ9AAAAAAACUn0AAAAAAAJSfQAAAAAAAlJ9AAAAAAACUn0AAAAAAAJSfQAAAAAAAlJ9AAAAAAACUn0AAAAAAAJSfQAAAAAAAlJ9AAAAAAACUn0AAAAAAAJSfQAAAAAAAlJ9AAAAAAACUn0AAAAAAAJSfQAAAAAAAlJ9AAAAAAACUn0AAAAAAAJSfQAAAAAAAlJ9AAAAAAACUn0AAAAAAAJSfQAAAAAAAlJ9AAAAAAACUn0AAAAAAAJSfQAAAAAAAlJ9AAAAAAACUn0AAAAAAAJSfQAAAAAAAlJ9AAAAAAACUn0AAAAAAAJSfQAAAAAAAlJ9AAAAAAACUn0AAAAAAAJSfQAAAAAAAlJ9AAAAAAACUn0AAAAAAAJSfQAAAAAAAlJ9AAAAAAACUn0AAAAAAAJSfQAAAAAAAlJ9AAAAAAACUn0AAAAAAAJSfQAAAAAAAlJ9AAAAAAACUn0AAAAAAAJSfQAAAAAAAlJ9AAAAAAACUn0AAAAAAAJSfQAAAAAAAlJ9AAAAAAACUn0AAAAAAAJSfQAAAAAAAlJ9AAAAAAACUn0AAAAAAAJSfQAAAAAAAlJ9AAAAAAACUn0AAAAAAAJSfQAAAAAAAlJ9AAAAAAACUn0AAAAAAAJSfQAAAAAAAlJ9AAAAAAACUn0AAAAAAAJSfQAAAAAAAlJ9AAAAAAACUn0AAAAAAAJSfQAAAAAAAlJ9AAAAAAACUn0AAAAAAAJSfQAAAAAAAlJ9AAAAAAACUn0AAAAAAAJSfQAAAAAAAlJ9AAAAAAACUn0AAAAAAAJSfQAAAAAAAlJ9AAAAAAACUn0AAAAAAAJSfQAAAAAAAlJ9AAAAAAACUn0AAAAAAAJSfQAAAAAAAlJ9AAAAAAACUn0AAAAAAAJSfQAAAAAAAlJ9AAAAAAACUn0AAAAAAAJSfQAAAAAAAlJ9AAAAAAACUn0AAAAAAAJSfQAAAAAAAlJ9AAAAAAACUn0AAAAAAAJSfQAAAAAAAlJ9AAAAAAACUn0AAAAAAAJSfQAAAAAAAlJ9AAAAAAACUn0AAAAAAAJSfQAAAAAAAlJ9AAAAAAACUn0AAAAAAAJSfQAAAAAAAlJ9AAAAAAACUn0AAAAAAAJSfQAAAAAAAlJ9AAAAAAACUn0AAAAAAAJSfQAAAAAAAlJ9AAAAAAACUn0AAAAAAAJSfQAAAAAAAlJ9AAAAAAACUn0AAAAAAAJSfQAAAAAAAlJ9AAAAAAACUn0AAAAAAAJSfQAAAAAAAlJ9AAAAAAACUn0AAAAAAAJSfQAAAAAAAlJ9AAAAAAACUn0AAAAAAAJSfQAAAAAAAlJ9AAAAAAACUn0AAAAAAAJSfQAAAAAAAlJ9AAAAAAACUn0AAAAAAAJSfQAAAAAAAlJ9AAAAAAACUn0AAAAAAAJSfQAAAAAAAlJ9AAAAAAACUn0AAAAAAAJSfQAAAAAAAlJ9AAAAAAACUn0AAAAAAAJSfQAAAAAAAlJ9AAAAAAACUn0AAAAAAAJSfQAAAAAAAlJ9AAAAAAACUn0AAAAAAAJSfQAAAAAAAlJ9AAAAAAACUn0AAAAAAAJSfQAAAAAAAlJ9AAAAAAACUn0AAAAAAAJSfQAAAAAAAlJ9AAAAAAACUn0AAAAAAAJSfQAAAAAAAlJ9AAAAAAACUn0AAAAAAAJSfQAAAAAAAlJ9AAAAAAACUn0AAAAAAAJSfQAAAAAAAlJ9AAAAAAACUn0AAAAAAAJSfQAAAAAAAlJ9AAAAAAACUn0AAAAAAAJSfQAAAAAAAlJ9AAAAAAACUn0AAAAAAAJSfQAAAAAAAlJ9AAAAAAACUn0AAAAAAAJSfQAAAAAAAlJ9AAAAAAACUn0AAAAAAAJSfQAAAAAAAlJ9AAAAAAACUn0AAAAAAAJSfQAAAAAAAlJ9AAAAAAACUn0AAAAAAAJSfQAAAAAAAlJ9AAAAAAACUn0AAAAAAAJSfQAAAAAAAlJ9AAAAAAACUn0AAAAAAAJSfQAAAAAAAlJ9AAAAAAACUn0AAAAAAAJSfQAAAAAAAlJ9AAAAAAACUn0AAAAAAAJSfQAAAAAAAlJ9AAAAAAACUn0AAAAAAAJSfQAAAAAAAlJ9AAAAAAACUn0AAAAAAAJSfQAAAAAAAlJ9AAAAAAACUn0AAAAAAAJSfQAAAAAAAlJ9AAAAAAACUn0AAAAAAAJSfQAAAAAAAlJ9AAAAAAACUn0AAAAAAAJSfQAAAAAAAlJ9AAAAAAACUn0AAAAAAAJSfQAAAAAAAlJ9AAAAAAACUn0AAAAAAAJSfQAAAAAAAlJ9AAAAAAACUn0AAAAAAAJSfQAAAAAAAlJ9AAAAAAACUn0AAAAAAAJSfQAAAAAAAlJ9AAAAAAACUn0AAAAAAAJSfQAAAAAAAlJ9AAAAAAACUn0AAAAAAAJSfQAAAAAAAlJ9AAAAAAACUn0AAAAAAAJSfQAAAAAAAlJ9AAAAAAACUn0AAAAAAAJSfQAAAAAAAlJ9AAAAAAACUn0AAAAAAAJSfQAAAAAAAlJ9AAAAAAACUn0AAAAAAAJSfQAAAAAAAlJ9AAAAAAACUn0AAAAAAAJSfQAAAAAAAlJ9AAAAAAACUn0AAAAAAAJSfQAAAAAAAlJ9AAAAAAACUn0AAAAAAAJSfQAAAAAAAlJ9AAAAAAACUn0AAAAAAAJSfQAAAAAAAlJ9AAAAAAACUn0AAAAAAAJSfQAAAAAAAlJ9AAAAAAACUn0AAAAAAAJSfQAAAAAAAlJ9AAAAAAACUn0AAAAAAAJSfQAAAAAAAlJ9AAAAAAACUn0AAAAAAAJSfQAAAAAAAlJ9AAAAAAACUn0AAAAAAAJSfQAAAAAAAlJ9AAAAAAACUn0AAAAAAAJSfQAAAAAAAlJ9AAAAAAACUn0AAAAAAAJSfQAAAAAAAlJ9AAAAAAACUn0AAAAAAAJSfQAAAAAAAlJ9AAAAAAACUn0AAAAAAAJSfQAAAAAAAlJ9AAAAAAACUn0AAAAAAAJSfQAAAAAAAlJ9AAAAAAACUn0AAAAAAAJSfQAAAAAAAlJ9AAAAAAACUn0AAAAAAAJSfQAAAAAAAlJ9AAAAAAACUn0AAAAAAAJSfQAAAAAAAlJ9AAAAAAACUn0AAAAAAAJSfQAAAAAAAlJ9AAAAAAACUn0AAAAAAAJSfQAAAAAAAlJ9AAAAAAACUn0AAAAAAAJSfQAAAAAAAlJ9AAAAAAACUn0AAAAAAAJSfQAAAAAAAlJ9AAAAAAACUn0AAAAAAAJSfQAAAAAAAlJ9AAAAAAACUn0AAAAAAAJSfQAAAAAAAlJ9AAAAAAACUn0AAAAAAAJSfQAAAAAAAlJ9AAAAAAACUn0AAAAAAAJSfQAAAAAAAlJ9AAAAAAACUn0AAAAAAAJSfQAAAAAAAlJ9AAAAAAACUn0AAAAAAAJSfQAAAAAAAlJ9AAAAAAACUn0AAAAAAAJSfQAAAAAAAlJ9AAAAAAACUn0AAAAAAAJSfQAAAAAAAlJ9AAAAAAACUn0AAAAAAAJSfQAAAAAAAlJ9AAAAAAACUn0AAAAAAAJSfQAAAAAAAlJ9AAAAAAACUn0AAAAAAAJSfQAAAAAAAlJ9AAAAAAACUn0AAAAAAAJSfQAAAAAAAlJ9AAAAAAACUn0AAAAAAAJSfQAAAAAAAlJ9AAAAAAACQn0AAAAAAAJCfQAAAAAAAkJ9AAAAAAACQn0AAAAAAAJCfQAAAAAAAkJ9AAAAAAACQn0AAAAAAAJCfQAAAAAAAkJ9AAAAAAACQn0AAAAAAAJCfQAAAAAAAkJ9AAAAAAACQn0AAAAAAAJCfQAAAAAAAkJ9AAAAAAACQn0AAAAAAAJCfQAAAAAAAkJ9AAAAAAACQn0AAAAAAAJCfQAAAAAAAkJ9AAAAAAACQn0AAAAAAAJCfQAAAAAAAkJ9AAAAAAACQn0AAAAAAAJCfQAAAAAAAkJ9AAAAAAACQn0AAAAAAAJCfQAAAAAAAkJ9AAAAAAACQn0AAAAAAAJCfQAAAAAAAkJ9AAAAAAACQn0AAAAAAAJCfQAAAAAAAkJ9AAAAAAACQn0AAAAAAAJCfQAAAAAAAkJ9AAAAAAACQn0AAAAAAAJCfQAAAAAAAkJ9AAAAAAACQn0AAAAAAAJCfQAAAAAAAkJ9AAAAAAACQn0AAAAAAAJCfQAAAAAAAkJ9AAAAAAACQn0AAAAAAAJCfQAAAAAAAkJ9AAAAAAACQn0AAAAAAAJCfQAAAAAAAkJ9AAAAAAACQn0AAAAAAAJCfQAAAAAAAkJ9AAAAAAACQn0AAAAAAAJCfQAAAAAAAkJ9AAAAAAACQn0AAAAAAAJCfQAAAAAAAkJ9AAAAAAACQn0AAAAAAAJCfQAAAAAAAkJ9AAAAAAACQn0AAAAAAAJCfQAAAAAAAkJ9AAAAAAACQn0AAAAAAAJCfQAAAAAAAkJ9AAAAAAACQn0AAAAAAAJCfQAAAAAAAkJ9AAAAAAACQn0AAAAAAAJCfQAAAAAAAkJ9AAAAAAACQn0AAAAAAAJCfQAAAAAAAkJ9AAAAAAACQn0AAAAAAAJCfQAAAAAAAkJ9AAAAAAACQn0AAAAAAAJCfQAAAAAAAkJ9AAAAAAACQn0AAAAAAAJCfQAAAAAAAkJ9AAAAAAACQn0AAAAAAAJCfQAAAAAAAkJ9AAAAAAACQn0AAAAAAAJCfQAAAAAAAkJ9AAAAAAACQn0AAAAAAAJCfQAAAAAAAkJ9AAAAAAACQn0AAAAAAAJCfQAAAAAAAkJ9AAAAAAACQn0AAAAAAAJCfQAAAAAAAkJ9AAAAAAACQn0AAAAAAAJCfQAAAAAAAkJ9AAAAAAACQn0AAAAAAAJCfQAAAAAAAkJ9AAAAAAACQn0AAAAAAAJCfQAAAAAAAkJ9AAAAAAACQn0AAAAAAAJCfQAAAAAAAkJ9AAAAAAACQn0AAAAAAAJCfQAAAAAAAkJ9AAAAAAACQn0AAAAAAAJCfQAAAAAAAkJ9AAAAAAACQn0AAAAAAAJCfQAAAAAAAkJ9AAAAAAACQn0AAAAAAAJCfQAAAAAAAkJ9AAAAAAACQn0AAAAAAAJCfQAAAAAAAkJ9AAAAAAACQn0AAAAAAAJCfQAAAAAAAkJ9AAAAAAACQn0AAAAAAAJCfQAAAAAAAkJ9AAAAAAACQn0AAAAAAAJCfQAAAAAAAkJ9AAAAAAACQn0AAAAAAAJCfQAAAAAAAkJ9AAAAAAACQn0AAAAAAAJCfQAAAAAAAkJ9AAAAAAACQn0AAAAAAAJCfQAAAAAAAkJ9AAAAAAACQn0AAAAAAAJCfQAAAAAAAkJ9AAAAAAACQn0AAAAAAAJCfQAAAAAAAkJ9AAAAAAACQn0AAAAAAAJCfQAAAAAAAkJ9AAAAAAACQn0AAAAAAAJCfQAAAAAAAkJ9AAAAAAACQn0AAAAAAAJCfQAAAAAAAkJ9AAAAAAACQn0AAAAAAAJCfQAAAAAAAkJ9AAAAAAACQn0AAAAAAAJCfQAAAAAAAkJ9AAAAAAACQn0AAAAAAAJCfQAAAAAAAkJ9AAAAAAACQn0AAAAAAAJCfQAAAAAAAkJ9AAAAAAACQn0AAAAAAAJCfQAAAAAAAkJ9AAAAAAACQn0AAAAAAAJCfQAAAAAAAkJ9AAAAAAACQn0AAAAAAAJCfQAAAAAAAkJ9AAAAAAACQn0AAAAAAAJCfQAAAAAAAkJ9AAAAAAACQn0AAAAAAAJCfQAAAAAAAkJ9AAAAAAACQn0AAAAAAAJCfQAAAAAAAkJ9AAAAAAACQn0AAAAAAAJCfQAAAAAAAkJ9AAAAAAACQn0AAAAAAAJCfQAAAAAAAkJ9AAAAAAACQn0AAAAAAAJCfQAAAAAAAkJ9AAAAAAACQn0AAAAAAAJCfQAAAAAAAkJ9AAAAAAACQn0AAAAAAAJCfQAAAAAAAkJ9AAAAAAACQn0AAAAAAAJCfQAAAAAAAkJ9AAAAAAACQn0AAAAAAAJCfQAAAAAAAkJ9AAAAAAACQn0AAAAAAAJCfQAAAAAAAkJ9AAAAAAACQn0AAAAAAAJCfQAAAAAAAkJ9AAAAAAACQn0AAAAAAAJCfQAAAAAAAkJ9AAAAAAACQn0AAAAAAAJCfQAAAAAAAkJ9AAAAAAACQn0AAAAAAAJCfQAAAAAAAkJ9AAAAAAACQn0AAAAAAAJCfQAAAAAAAkJ9AAAAAAACQn0AAAAAAAJCfQAAAAAAAkJ9AAAAAAACQn0AAAAAAAJCfQAAAAAAAkJ9AAAAAAACQn0AAAAAAAJCfQAAAAAAAkJ9AAAAAAACQn0AAAAAAAJCfQAAAAAAAkJ9AAAAAAACQn0AAAAAAAJCfQAAAAAAAkJ9AAAAAAACQn0AAAAAAAJCfQAAAAAAAkJ9AAAAAAACQn0AAAAAAAJCfQAAAAAAAkJ9AAAAAAACQn0AAAAAAAJCfQAAAAAAAkJ9AAAAAAACQn0AAAAAAAJCfQAAAAAAAkJ9AAAAAAACQn0AAAAAAAJCfQAAAAAAAkJ9AAAAAAACQn0AAAAAAAJCfQAAAAAAAkJ9AAAAAAACQn0AAAAAAAJCfQAAAAAAAkJ9AAAAAAACQn0AAAAAAAJCfQAAAAAAAkJ9AAAAAAACQn0AAAAAAAJCfQAAAAAAAkJ9AAAAAAACQn0AAAAAAAJCfQAAAAAAAkJ9AAAAAAACQn0AAAAAAAJCfQAAAAAAAkJ9AAAAAAACQn0AAAAAAAJCfQAAAAAAAkJ9AAAAAAACQn0AAAAAAAJCfQAAAAAAAkJ9AAAAAAACQn0AAAAAAAJCfQAAAAAAAkJ9AAAAAAACQn0AAAAAAAJCfQAAAAAAAkJ9AAAAAAACQn0AAAAAAAJCfQAAAAAAAkJ9AAAAAAACQn0AAAAAAAJCfQAAAAAAAkJ9AAAAAAACQn0AAAAAAAJCfQAAAAAAAkJ9AAAAAAACQn0AAAAAAAJCfQAAAAAAAkJ9AAAAAAACQn0AAAAAAAJCfQAAAAAAAkJ9AAAAAAACQn0AAAAAAAJCfQAAAAAAAkJ9AAAAAAACQn0AAAAAAAJCfQAAAAAAAkJ9AAAAAAACQn0AAAAAAAJCfQAAAAAAAkJ9AAAAAAACQn0AAAAAAAJCfQAAAAAAAkJ9AAAAAAACQn0AAAAAAAJCfQAAAAAAAkJ9AAAAAAACQn0AAAAAAAJCfQAAAAAAAkJ9AAAAAAACQn0AAAAAAAJCfQAAAAAAAkJ9AAAAAAACQn0AAAAAAAJCfQAAAAAAAkJ9AAAAAAACQn0AAAAAAAJCfQAAAAAAAkJ9AAAAAAACQn0AAAAAAAJCfQAAAAAAAkJ9AAAAAAACQn0AAAAAAAJCfQAAAAAAAkJ9AAAAAAACQn0AAAAAAAJCfQAAAAAAAkJ9AAAAAAACQn0AAAAAAAJCfQAAAAAAAkJ9AAAAAAACQn0AAAAAAAJCfQAAAAAAAkJ9AAAAAAACQn0AAAAAAAJCfQAAAAAAAkJ9AAAAAAACQn0AAAAAAAJCfQAAAAAAAkJ9AAAAAAACQn0AAAAAAAJCfQAAAAAAAkJ9AAAAAAACQn0AAAAAAAJCfQAAAAAAAkJ9AAAAAAACQn0AAAAAAAJCfQAAAAAAAkJ9AAAAAAACQn0AAAAAAAJCfQAAAAAAAkJ9AAAAAAACQn0AAAAAAAJCfQAAAAAAAkJ9AAAAAAACQn0AAAAAAAJCfQAAAAAAAkJ9AAAAAAACQn0AAAAAAAJCfQAAAAAAAkJ9AAAAAAACQn0AAAAAAAJCfQAAAAAAAkJ9AAAAAAACQn0AAAAAAAJCfQAAAAAAAkJ9AAAAAAACQn0AAAAAAAJCfQAAAAAAAkJ9AAAAAAACQn0AAAAAAAJCfQAAAAAAAkJ9AAAAAAACQn0AAAAAAAJCfQAAAAAAAkJ9AAAAAAACQn0AAAAAAAJCfQAAAAAAAkJ9AAAAAAACQn0AAAAAAAJCfQAAAAAAAkJ9AAAAAAACQn0AAAAAAAJCfQAAAAAAAkJ9AAAAAAACQn0AAAAAAAJCfQAAAAAAAkJ9AAAAAAACQn0AAAAAAAJCfQAAAAAAAkJ9AAAAAAACQn0AAAAAAAJCfQAAAAAAAkJ9AAAAAAACQn0AAAAAAAJCfQAAAAAAAkJ9AAAAAAACQn0AAAAAAAJCfQAAAAAAAkJ9AAAAAAACQn0AAAAAAAJCfQAAAAAAAkJ9AAAAAAACQn0AAAAAAAJCfQAAAAAAAkJ9AAAAAAACQn0AAAAAAAJCfQAAAAAAAkJ9AAAAAAACQn0AAAAAAAJCfQAAAAAAAkJ9AAAAAAACQn0AAAAAAAJCfQAAAAAAAkJ9AAAAAAACQn0AAAAAAAJCfQAAAAAAAkJ9AAAAAAACQn0AAAAAAAJCfQAAAAAAAkJ9AAAAAAACQn0AAAAAAAJCfQAAAAAAAkJ9AAAAAAACQn0AAAAAAAJCfQAAAAAAAkJ9AAAAAAACQn0AAAAAAAJCfQAAAAAAAkJ9AAAAAAACQn0AAAAAAAJCfQAAAAAAAkJ9AAAAAAACQn0AAAAAAAJCfQAAAAAAAkJ9AAAAAAACQn0AAAAAAAJCfQAAAAAAAkJ9AAAAAAACQn0AAAAAAAJCfQAAAAAAAkJ9AAAAAAACQn0AAAAAAAJCfQAAAAAAAkJ9AAAAAAACQn0AAAAAAAJCfQAAAAAAAkJ9AAAAAAACQn0AAAAAAAJCfQAAAAAAAkJ9AAAAAAACQn0AAAAAAAJCfQAAAAAAAkJ9AAAAAAACQn0AAAAAAAJCfQAAAAAAAkJ9AAAAAAACQn0AAAAAAAJCfQAAAAAAAkJ9AAAAAAACQn0AAAAAAAJCfQAAAAAAAkJ9AAAAAAACQn0AAAAAAAJCfQAAAAAAAkJ9AAAAAAACQn0AAAAAAAJCfQAAAAAAAkJ9AAAAAAACQn0AAAAAAAJCfQAAAAAAAkJ9AAAAAAACQn0AAAAAAAJCfQAAAAAAAkJ9AAAAAAACQn0AAAAAAAJCfQAAAAAAAkJ9AAAAAAACQn0AAAAAAAJCfQAAAAAAAkJ9AAAAAAACQn0AAAAAAAJCfQAAAAAAAkJ9AAAAAAACQn0AAAAAAAJCfQAAAAAAAkJ9AAAAAAACQn0AAAAAAAJCfQAAAAAAAkJ9AAAAAAACQn0AAAAAAAJCfQAAAAAAAkJ9AAAAAAACQn0AAAAAAAJCfQAAAAAAAkJ9AAAAAAACQn0AAAAAAAJCfQAAAAAAAkJ9AAAAAAACQn0AAAAAAAJCfQAAAAAAAkJ9AAAAAAACQn0AAAAAAAJCfQAAAAAAAkJ9AAAAAAACQn0AAAAAAAJCfQAAAAAAAkJ9AAAAAAACQn0AAAAAAAJCfQAAAAAAAkJ9AAAAAAACQn0AAAAAAAJCfQAAAAAAAkJ9AAAAAAACQn0AAAAAAAJCfQAAAAAAAkJ9AAAAAAACQn0AAAAAAAJCfQAAAAAAAkJ9AAAAAAACQn0AAAAAAAJCfQAAAAAAAkJ9AAAAAAACQn0AAAAAAAJCfQAAAAAAAkJ9AAAAAAACQn0AAAAAAAJCfQAAAAAAAkJ9AAAAAAACQn0AAAAAAAJCfQAAAAAAAkJ9AAAAAAACQn0AAAAAAAJCfQAAAAAAAkJ9AAAAAAACQn0AAAAAAAJCfQAAAAAAAkJ9AAAAAAACQn0AAAAAAAJCfQAAAAAAAkJ9AAAAAAACQn0AAAAAAAJCfQAAAAAAAkJ9AAAAAAACQn0AAAAAAAJCfQAAAAAAAkJ9AAAAAAACQn0AAAAAAAJCfQAAAAAAAkJ9AAAAAAACQn0AAAAAAAJCfQAAAAAAAkJ9AAAAAAACQn0AAAAAAAJCfQAAAAAAAkJ9AAAAAAACQn0AAAAAAAJCfQAAAAAAAkJ9AAAAAAACQn0AAAAAAAJCfQAAAAAAAkJ9AAAAAAACQn0AAAAAAAJCfQAAAAAAAkJ9AAAAAAACQn0AAAAAAAJCfQAAAAAAAkJ9AAAAAAACQn0AAAAAAAJCfQAAAAAAAkJ9AAAAAAACQn0AAAAAAAJCfQAAAAAAAkJ9AAAAAAACQn0AAAAAAAJCfQAAAAAAAkJ9AAAAAAACQn0AAAAAAAJCfQAAAAAAAkJ9AAAAAAACQn0AAAAAAAJCfQAAAAAAAkJ9AAAAAAACQn0AAAAAAAJCfQAAAAAAAkJ9AAAAAAACQn0AAAAAAAJCfQAAAAAAAkJ9AAAAAAACQn0AAAAAAAJCfQAAAAAAAkJ9AAAAAAACQn0AAAAAAAJCfQAAAAAAAkJ9AAAAAAACQn0AAAAAAAJCfQAAAAAAAkJ9AAAAAAACQn0AAAAAAAJCfQAAAAAAAkJ9AAAAAAACQn0AAAAAAAJCfQAAAAAAAkJ9AAAAAAACQn0AAAAAAAJCfQAAAAAAAkJ9AAAAAAACQn0AAAAAAAJCfQAAAAAAAkJ9AAAAAAACQn0AAAAAAAJCfQAAAAAAAkJ9AAAAAAACQn0AAAAAAAJCfQAAAAAAAkJ9AAAAAAACQn0AAAAAAAJCfQAAAAAAAkJ9AAAAAAACQn0AAAAAAAJCfQAAAAAAAkJ9AAAAAAACQn0AAAAAAAJCfQAAAAAAAkJ9AAAAAAACQn0AAAAAAAJCfQAAAAAAAkJ9AAAAAAACQn0AAAAAAAJCfQAAAAAAAkJ9AAAAAAACQn0AAAAAAAJCfQAAAAAAAkJ9AAAAAAACQn0AAAAAAAJCfQAAAAAAAkJ9AAAAAAACQn0AAAAAAAJCfQAAAAAAAkJ9AAAAAAACQn0AAAAAAAJCfQAAAAAAAkJ9AAAAAAACQn0AAAAAAAJCfQAAAAAAAkJ9AAAAAAACQn0AAAAAAAJCfQAAAAAAAkJ9AAAAAAACQn0AAAAAAAJCfQAAAAAAAkJ9AAAAAAACQn0AAAAAAAJCfQAAAAAAAkJ9AAAAAAACQn0AAAAAAAJCfQAAAAAAAkJ9AAAAAAACQn0AAAAAAAJCfQAAAAAAAkJ9AAAAAAACQn0AAAAAAAJCfQAAAAAAAkJ9AAAAAAACQn0AAAAAAAJCfQAAAAAAAkJ9AAAAAAACQn0AAAAAAAJCfQAAAAAAAkJ9AAAAAAACQn0AAAAAAAJCfQAAAAAAAkJ9AAAAAAACQn0AAAAAAAJCfQAAAAAAAkJ9AAAAAAACQn0AAAAAAAJCfQAAAAAAAkJ9AAAAAAACQn0AAAAAAAJCfQAAAAAAAkJ9AAAAAAACQn0AAAAAAAJCfQAAAAAAAkJ9AAAAAAACQn0AAAAAAAJCfQAAAAAAAkJ9AAAAAAACQn0AAAAAAAJCfQAAAAAAAkJ9AAAAAAACQn0AAAAAAAJCfQAAAAAAAkJ9AAAAAAACQn0AAAAAAAJCfQAAAAAAAkJ9AAAAAAACQn0AAAAAAAJCfQAAAAAAAkJ9AAAAAAACQn0AAAAAAAJCfQAAAAAAAkJ9AAAAAAACQn0AAAAAAAJCfQAAAAAAAkJ9AAAAAAACQn0AAAAAAAJCfQAAAAAAAkJ9AAAAAAACQn0AAAAAAAJCfQAAAAAAAkJ9AAAAAAACQn0AAAAAAAJCfQAAAAAAAkJ9AAAAAAACQn0AAAAAAAJCfQAAAAAAAkJ9AAAAAAACQn0AAAAAAAJCfQAAAAAAAkJ9AAAAAAACQn0AAAAAAAJCfQAAAAAAAkJ9AAAAAAACQn0AAAAAAAJCfQAAAAAAAkJ9AAAAAAACQn0AAAAAAAJCfQAAAAAAAkJ9AAAAAAACQn0AAAAAAAJCfQAAAAAAAkJ9AAAAAAACQn0AAAAAAAJCfQAAAAAAAkJ9AAAAAAACQn0AAAAAAAJCfQAAAAAAAkJ9AAAAAAACQn0AAAAAAAJCfQAAAAAAAkJ9AAAAAAACQn0AAAAAAAJCfQAAAAAAAkJ9AAAAAAACQn0AAAAAAAJCfQAAAAAAAkJ9AAAAAAACQn0AAAAAAAJCfQAAAAAAAkJ9AAAAAAACQn0AAAAAAAJCfQAAAAAAAkJ9AAAAAAACQn0AAAAAAAJCfQAAAAAAAkJ9AAAAAAACQn0AAAAAAAJCfQAAAAAAAkJ9AAAAAAACQn0AAAAAAAJCfQAAAAAAAkJ9AAAAAAACQn0AAAAAAAJCfQAAAAAAAkJ9AAAAAAACQn0AAAAAAAJCfQAAAAAAAkJ9AAAAAAACQn0AAAAAAAJCfQAAAAAAAkJ9AAAAAAACQn0AAAAAAAJCfQAAAAAAAkJ9AAAAAAACQn0AAAAAAAJCfQAAAAAAAkJ9AAAAAAACQn0AAAAAAAJCfQAAAAAAAkJ9AAAAAAACQn0AAAAAAAJCfQAAAAAAAkJ9AAAAAAACQn0AAAAAAAJCfQAAAAAAAkJ9AAAAAAACQn0AAAAAAAJCfQAAAAAAAkJ9AAAAAAACQn0AAAAAAAJCfQAAAAAAAkJ9AAAAAAACQn0AAAAAAAJCfQAAAAAAAkJ9AAAAAAACQn0AAAAAAAJCfQAAAAAAAkJ9AAAAAAACQn0AAAAAAAJCfQAAAAAAAkJ9AAAAAAACQn0AAAAAAAJCfQAAAAAAAkJ9AAAAAAACQn0AAAAAAAJCfQAAAAAAAkJ9AAAAAAACQn0AAAAAAAJCfQAAAAAAAkJ9AAAAAAACQn0AAAAAAAJCfQAAAAAAAkJ9AAAAAAACQn0AAAAAAAJCfQAAAAAAAkJ9AAAAAAACQn0AAAAAAAJCfQAAAAAAAkJ9AAAAAAACQn0AAAAAAAJCfQAAAAAAAkJ9AAAAAAACQn0AAAAAAAJCfQAAAAAAAkJ9AAAAAAACQn0AAAAAAAJCfQAAAAAAAkJ9AAAAAAACQn0AAAAAAAJCfQAAAAAAAkJ9AAAAAAACQn0AAAAAAAJCfQAAAAAAAkJ9AAAAAAACQn0AAAAAAAJCfQAAAAAAAkJ9AAAAAAACQn0AAAAAAAJCfQAAAAAAAkJ9AAAAAAACQn0AAAAAAAJCfQAAAAAAAkJ9AAAAAAACQn0AAAAAAAJCfQAAAAAAAkJ9AAAAAAACQn0AAAAAAAJCfQAAAAAAAkJ9AAAAAAACQn0AAAAAAAJCfQAAAAAAAkJ9AAAAAAACQn0AAAAAAAJCfQAAAAAAAkJ9AAAAAAACQn0AAAAAAAJCfQAAAAAAAkJ9AAAAAAACQn0AAAAAAAJCfQAAAAAAAkJ9AAAAAAACQn0AAAAAAAJCfQAAAAAAAkJ9AAAAAAACQn0AAAAAAAJCfQAAAAAAAkJ9AAAAAAACQn0AAAAAAAJCfQAAAAAAAkJ9AAAAAAACQn0AAAAAAAJCfQAAAAAAAkJ9AAAAAAACQn0AAAAAAAJCfQAAAAAAAkJ9AAAAAAACQn0AAAAAAAJCfQAAAAAAAkJ9AAAAAAACQn0AAAAAAAJCfQAAAAAAAkJ9AAAAAAACQn0AAAAAAAJCfQAAAAAAAkJ9AAAAAAACQn0AAAAAAAJCfQAAAAAAAkJ9AAAAAAACQn0AAAAAAAJCfQAAAAAAAkJ9AAAAAAACQn0AAAAAAAJCfQAAAAAAAkJ9AAAAAAACQn0AAAAAAAJCfQAAAAAAAkJ9AAAAAAACQn0AAAAAAAJCfQAAAAAAAkJ9AAAAAAACQn0AAAAAAAJCfQAAAAAAAkJ9AAAAAAACQn0AAAAAAAJCfQAAAAAAAkJ9AAAAAAACQn0AAAAAAAJCfQAAAAAAAkJ9AAAAAAACQn0AAAAAAAJCfQAAAAAAAkJ9AAAAAAACQn0AAAAAAAJCfQAAAAAAAkJ9AAAAAAACQn0AAAAAAAJCfQAAAAAAAkJ9AAAAAAACQn0AAAAAAAJCfQAAAAAAAkJ9AAAAAAACQn0AAAAAAAJCfQAAAAAAAkJ9AAAAAAACQn0AAAAAAAJCfQAAAAAAAkJ9AAAAAAACQn0AAAAAAAJCfQAAAAAAAkJ9AAAAAAACQn0AAAAAAAJCfQAAAAAAAkJ9AAAAAAACQn0AAAAAAAJCfQAAAAAAAkJ9AAAAAAACQn0AAAAAAAJCfQAAAAAAAkJ9AAAAAAACQn0AAAAAAAJCfQAAAAAAAkJ9AAAAAAACQn0AAAAAAAJCfQAAAAAAAkJ9AAAAAAACQn0AAAAAAAJCfQAAAAAAAkJ9AAAAAAACQn0AAAAAAAJCfQAAAAAAAkJ9AAAAAAACQn0AAAAAAAJCfQAAAAAAAkJ9AAAAAAACQn0AAAAAAAJCfQAAAAAAAkJ9AAAAAAACQn0AAAAAAAJCfQAAAAAAAkJ9AAAAAAACQn0AAAAAAAJCfQAAAAAAAkJ9AAAAAAACQn0AAAAAAAJCfQAAAAAAAkJ9AAAAAAACQn0AAAAAAAJCfQAAAAAAAkJ9AAAAAAACQn0AAAAAAAJCfQAAAAAAAkJ9AAAAAAACQn0AAAAAAAJCfQAAAAAAAkJ9AAAAAAACQn0AAAAAAAJCfQAAAAAAAkJ9AAAAAAACQn0AAAAAAAJCfQAAAAAAAkJ9AAAAAAACQn0AAAAAAAJCfQAAAAAAAkJ9AAAAAAACQn0AAAAAAAJCfQAAAAAAAkJ9AAAAAAACQn0AAAAAAAJCfQAAAAAAAkJ9AAAAAAACQn0AAAAAAAJCfQAAAAAAAkJ9AAAAAAACQn0AAAAAAAJCfQAAAAAAAkJ9AAAAAAACQn0AAAAAAAJCfQAAAAAAAkJ9AAAAAAACQn0AAAAAAAJCfQAAAAAAAkJ9AAAAAAACQn0AAAAAAAJCfQAAAAAAAkJ9AAAAAAACQn0AAAAAAAJCfQAAAAAAAkJ9AAAAAAACQn0AAAAAAAJCfQAAAAAAAkJ9AAAAAAACQn0AAAAAAAJCfQAAAAAAAkJ9AAAAAAACQn0AAAAAAAIyfQAAAAAAAjJ9AAAAAAACMn0AAAAAAAIyfQAAAAAAAjJ9AAAAAAACMn0AAAAAAAIyfQAAAAAAAjJ9AAAAAAACMn0AAAAAAAIyfQAAAAAAAjJ9AAAAAAACMn0AAAAAAAIyfQAAAAAAAjJ9AAAAAAACMn0AAAAAAAIyfQAAAAAAAjJ9AAAAAAACMn0AAAAAAAIyfQAAAAAAAjJ9AAAAAAACMn0AAAAAAAIyfQAAAAAAAjJ9AAAAAAACMn0AAAAAAAIyfQAAAAAAAjJ9AAAAAAACMn0AAAAAAAIyfQAAAAAAAjJ9AAAAAAACMn0AAAAAAAIyfQAAAAAAAjJ9AAAAAAACMn0AAAAAAAIyfQAAAAAAAjJ9AAAAAAACMn0AAAAAAAIyfQAAAAAAAjJ9AAAAAAACMn0AAAAAAAIyfQAAAAAAAjJ9AAAAAAACMn0AAAAAAAIyfQAAAAAAAjJ9AAAAAAACMn0AAAAAAAIyfQAAAAAAAjJ9AAAAAAACMn0AAAAAAAIyfQAAAAAAAjJ9AAAAAAACMn0AAAAAAAIyfQAAAAAAAjJ9AAAAAAACMn0AAAAAAAIyfQAAAAAAAjJ9AAAAAAACMn0AAAAAAAIyfQAAAAAAAjJ9AAAAAAACMn0AAAAAAAIyfQAAAAAAAjJ9AAAAAAACMn0AAAAAAAIyfQAAAAAAAjJ9AAAAAAACMn0AAAAAAAIyfQAAAAAAAjJ9AAAAAAACMn0AAAAAAAIyfQAAAAAAAjJ9AAAAAAACMn0AAAAAAAIyfQAAAAAAAjJ9AAAAAAACMn0AAAAAAAIyfQAAAAAAAjJ9AAAAAAACMn0AAAAAAAIyfQAAAAAAAjJ9AAAAAAACMn0AAAAAAAIyfQAAAAAAAjJ9AAAAAAACMn0AAAAAAAIyfQAAAAAAAjJ9AAAAAAACMn0AAAAAAAIyfQAAAAAAAjJ9AAAAAAACMn0AAAAAAAIyfQAAAAAAAjJ9AAAAAAACMn0AAAAAAAIyfQAAAAAAAjJ9AAAAAAACMn0AAAAAAAIyfQAAAAAAAjJ9AAAAAAACMn0AAAAAAAIyfQAAAAAAAjJ9AAAAAAACMn0AAAAAAAIyfQAAAAAAAjJ9AAAAAAACMn0AAAAAAAIyfQAAAAAAAjJ9AAAAAAACMn0AAAAAAAIyfQAAAAAAAjJ9AAAAAAACMn0AAAAAAAIyfQAAAAAAAjJ9AAAAAAACMn0AAAAAAAIyfQAAAAAAAjJ9AAAAAAACMn0AAAAAAAIyfQAAAAAAAjJ9AAAAAAACMn0AAAAAAAIyfQAAAAAAAjJ9AAAAAAACMn0AAAAAAAIyfQAAAAAAAjJ9AAAAAAACMn0AAAAAAAIyfQAAAAAAAjJ9AAAAAAACMn0AAAAAAAIyfQAAAAAAAjJ9AAAAAAACMn0AAAAAAAIyfQAAAAAAAjJ9AAAAAAACMn0AAAAAAAIyfQAAAAAAAjJ9AAAAAAACMn0AAAAAAAIyfQAAAAAAAjJ9AAAAAAACMn0AAAAAAAIyfQAAAAAAAjJ9AAAAAAACMn0AAAAAAAIyfQAAAAAAAjJ9AAAAAAACMn0AAAAAAAIyfQAAAAAAAjJ9AAAAAAACMn0AAAAAAAIyfQAAAAAAAjJ9AAAAAAACMn0AAAAAAAIyfQAAAAAAAjJ9AAAAAAACMn0AAAAAAAIyfQAAAAAAAjJ9AAAAAAACMn0AAAAAAAIyfQAAAAAAAjJ9AAAAAAACMn0AAAAAAAIyfQAAAAAAAjJ9AAAAAAACMn0AAAAAAAIyfQAAAAAAAjJ9AAAAAAACMn0AAAAAAAIyfQAAAAAAAjJ9AAAAAAACMn0AAAAAAAIyfQAAAAAAAjJ9AAAAAAACMn0AAAAAAAIyfQAAAAAAAjJ9AAAAAAACMn0AAAAAAAIyfQAAAAAAAjJ9AAAAAAACMn0AAAAAAAIyfQAAAAAAAjJ9AAAAAAACMn0AAAAAAAIyfQAAAAAAAjJ9AAAAAAACMn0AAAAAAAIyfQAAAAAAAjJ9AAAAAAACMn0AAAAAAAIyfQAAAAAAAjJ9AAAAAAACMn0AAAAAAAIyfQAAAAAAAjJ9AAAAAAACMn0AAAAAAAIyfQAAAAAAAjJ9AAAAAAACMn0AAAAAAAIyfQAAAAAAAjJ9AAAAAAACMn0AAAAAAAIyfQAAAAAAAjJ9AAAAAAACMn0AAAAAAAIyfQAAAAAAAjJ9AAAAAAACMn0AAAAAAAIyfQAAAAAAAjJ9AAAAAAACMn0AAAAAAAIyfQAAAAAAAjJ9AAAAAAACMn0AAAAAAAIyfQAAAAAAAjJ9AAAAAAACMn0AAAAAAAIyfQAAAAAAAjJ9AAAAAAACMn0AAAAAAAIyfQAAAAAAAjJ9AAAAAAACMn0AAAAAAAIyfQAAAAAAAjJ9AAAAAAACMn0AAAAAAAIyfQAAAAAAAjJ9AAAAAAACMn0AAAAAAAIyfQAAAAAAAjJ9AAAAAAACMn0AAAAAAAIyfQAAAAAAAjJ9AAAAAAACMn0AAAAAAAIyfQAAAAAAAjJ9AAAAAAACMn0AAAAAAAIyfQAAAAAAAjJ9AAAAAAACMn0AAAAAAAIyfQAAAAAAAjJ9AAAAAAACMn0AAAAAAAIyfQAAAAAAAjJ9AAAAAAACMn0AAAAAAAIyfQAAAAAAAjJ9AAAAAAACMn0AAAAAAAIyfQAAAAAAAjJ9AAAAAAACMn0AAAAAAAIyfQAAAAAAAjJ9AAAAAAACMn0AAAAAAAIyfQAAAAAAAjJ9AAAAAAACMn0AAAAAAAIyfQAAAAAAAjJ9AAAAAAACMn0AAAAAAAIyfQAAAAAAAjJ9AAAAAAACMn0AAAAAAAIyfQAAAAAAAjJ9AAAAAAACMn0AAAAAAAIyfQAAAAAAAjJ9AAAAAAACMn0AAAAAAAIyfQAAAAAAAjJ9AAAAAAACMn0AAAAAAAIyfQAAAAAAAjJ9AAAAAAACMn0AAAAAAAIyfQAAAAAAAjJ9AAAAAAACMn0AAAAAAAIyfQAAAAAAAjJ9AAAAAAACMn0AAAAAAAIyfQAAAAAAAjJ9AAAAAAACMn0AAAAAAAIyfQAAAAAAAjJ9AAAAAAACMn0AAAAAAAIyfQAAAAAAAjJ9AAAAAAACMn0AAAAAAAIyfQAAAAAAAjJ9AAAAAAACMn0AAAAAAAIyfQAAAAAAAjJ9AAAAAAACMn0AAAAAAAIyfQAAAAAAAjJ9AAAAAAACMn0AAAAAAAIyfQAAAAAAAjJ9AAAAAAACMn0AAAAAAAIyfQAAAAAAAjJ9AAAAAAACMn0AAAAAAAIyfQAAAAAAAjJ9AAAAAAACMn0AAAAAAAIyfQAAAAAAAjJ9AAAAAAACMn0AAAAAAAIyfQAAAAAAAjJ9AAAAAAACMn0AAAAAAAIyfQAAAAAAAjJ9AAAAAAACMn0AAAAAAAIyfQAAAAAAAjJ9AAAAAAACMn0AAAAAAAIyfQAAAAAAAjJ9AAAAAAACMn0AAAAAAAIyfQAAAAAAAjJ9AAAAAAACMn0AAAAAAAIyfQAAAAAAAjJ9AAAAAAACMn0AAAAAAAIyfQAAAAAAAjJ9AAAAAAACMn0AAAAAAAIyfQAAAAAAAjJ9AAAAAAACMn0AAAAAAAIyfQAAAAAAAjJ9AAAAAAACMn0AAAAAAAIyfQAAAAAAAjJ9AAAAAAACMn0AAAAAAAIyfQAAAAAAAjJ9AAAAAAACMn0AAAAAAAIyfQAAAAAAAjJ9AAAAAAACMn0AAAAAAAIyfQAAAAAAAjJ9AAAAAAACMn0AAAAAAAIyfQAAAAAAAjJ9AAAAAAACMn0AAAAAAAIyfQAAAAAAAjJ9AAAAAAACMn0AAAAAAAIyfQAAAAAAAjJ9AAAAAAACMn0AAAAAAAIyfQAAAAAAAjJ9AAAAAAACMn0AAAAAAAIyfQAAAAAAAjJ9AAAAAAACMn0AAAAAAAIyfQAAAAAAAjJ9AAAAAAACMn0AAAAAAAIyfQAAAAAAAjJ9AAAAAAACMn0AAAAAAAIyfQAAAAAAAjJ9AAAAAAACMn0AAAAAAAIyfQAAAAAAAjJ9AAAAAAACMn0AAAAAAAIyfQAAAAAAAjJ9AAAAAAACMn0AAAAAAAIyfQAAAAAAAjJ9AAAAAAACMn0AAAAAAAIyfQAAAAAAAjJ9AAAAAAACMn0AAAAAAAIyfQAAAAAAAjJ9AAAAAAACMn0AAAAAAAIyfQAAAAAAAjJ9AAAAAAACMn0AAAAAAAIyfQAAAAAAAjJ9AAAAAAACMn0AAAAAAAIyfQAAAAAAAjJ9AAAAAAACMn0AAAAAAAIyfQAAAAAAAjJ9AAAAAAACMn0AAAAAAAIyfQAAAAAAAjJ9AAAAAAACMn0AAAAAAAIyfQAAAAAAAjJ9AAAAAAACMn0AAAAAAAIyfQAAAAAAAjJ9AAAAAAACMn0AAAAAAAIyfQAAAAAAAjJ9AAAAAAACMn0AAAAAAAIyfQAAAAAAAjJ9AAAAAAACMn0AAAAAAAIyfQAAAAAAAjJ9AAAAAAACMn0AAAAAAAIyfQAAAAAAAjJ9AAAAAAACMn0AAAAAAAIyfQAAAAAAAjJ9AAAAAAACMn0AAAAAAAIyfQAAAAAAAjJ9AAAAAAACMn0AAAAAAAIyfQAAAAAAAjJ9AAAAAAACMn0AAAAAAAIyfQAAAAAAAjJ9AAAAAAACMn0AAAAAAAIyfQAAAAAAAjJ9AAAAAAACMn0AAAAAAAIyfQAAAAAAAjJ9AAAAAAACMn0AAAAAAAIyfQAAAAAAAjJ9AAAAAAACMn0AAAAAAAIyfQAAAAAAAjJ9AAAAAAACMn0AAAAAAAIyfQAAAAAAAjJ9AAAAAAACMn0AAAAAAAIyfQAAAAAAAjJ9AAAAAAACMn0AAAAAAAIyfQAAAAAAAjJ9AAAAAAACMn0AAAAAAAIyfQAAAAAAAjJ9AAAAAAACMn0AAAAAAAIyfQAAAAAAAjJ9AAAAAAACMn0AAAAAAAIyfQAAAAAAAjJ9AAAAAAACMn0AAAAAAAIyfQAAAAAAAjJ9AAAAAAACMn0AAAAAAAIyfQAAAAAAAjJ9AAAAAAACMn0AAAAAAAIyfQAAAAAAAjJ9AAAAAAACMn0AAAAAAAIyfQAAAAAAAjJ9AAAAAAACMn0AAAAAAAIyfQAAAAAAAjJ9AAAAAAACMn0AAAAAAAIyfQAAAAAAAjJ9AAAAAAACMn0AAAAAAAIyfQAAAAAAAjJ9AAAAAAACMn0AAAAAAAIyfQAAAAAAAjJ9AAAAAAACMn0AAAAAAAIyfQAAAAAAAjJ9AAAAAAACMn0AAAAAAAIyfQAAAAAAAjJ9AAAAAAACMn0AAAAAAAIyfQAAAAAAAjJ9AAAAAAACMn0AAAAAAAIyfQAAAAAAAjJ9AAAAAAACMn0AAAAAAAIyfQAAAAAAAjJ9AAAAAAACMn0AAAAAAAIyfQAAAAAAAjJ9AAAAAAACMn0AAAAAAAIyfQAAAAAAAjJ9AAAAAAACMn0AAAAAAAIyfQAAAAAAAjJ9AAAAAAACMn0AAAAAAAIyfQAAAAAAAjJ9AAAAAAACMn0AAAAAAAIyfQAAAAAAAjJ9AAAAAAACMn0AAAAAAAIyfQAAAAAAAjJ9AAAAAAACMn0AAAAAAAIyfQAAAAAAAjJ9AAAAAAACMn0AAAAAAAIyfQAAAAAAAjJ9AAAAAAACMn0AAAAAAAIyfQAAAAAAAjJ9AAAAAAACMn0AAAAAAAIyfQAAAAAAAjJ9AAAAAAACMn0AAAAAAAIyfQAAAAAAAjJ9AAAAAAACMn0AAAAAAAIyfQAAAAAAAjJ9AAAAAAACMn0AAAAAAAIyfQAAAAAAAjJ9AAAAAAACMn0AAAAAAAIyfQAAAAAAAjJ9AAAAAAACMn0AAAAAAAIyfQAAAAAAAjJ9AAAAAAACMn0AAAAAAAIyfQAAAAAAAjJ9AAAAAAACMn0AAAAAAAIyfQAAAAAAAjJ9AAAAAAACMn0AAAAAAAIyfQAAAAAAAjJ9AAAAAAACMn0AAAAAAAIyfQAAAAAAAjJ9AAAAAAACMn0AAAAAAAIyfQAAAAAAAjJ9AAAAAAACMn0AAAAAAAIyfQAAAAAAAjJ9AAAAAAACMn0AAAAAAAIyfQAAAAAAAjJ9AAAAAAACMn0AAAAAAAIyfQAAAAAAAjJ9AAAAAAACMn0AAAAAAAIyfQAAAAAAAjJ9AAAAAAACMn0AAAAAAAIyfQAAAAAAAjJ9AAAAAAACMn0AAAAAAAIyfQAAAAAAAjJ9AAAAAAACMn0AAAAAAAIyfQAAAAAAAjJ9AAAAAAACMn0AAAAAAAIyfQAAAAAAAjJ9AAAAAAACMn0AAAAAAAIyfQAAAAAAAjJ9AAAAAAACMn0AAAAAAAIyfQAAAAAAAjJ9AAAAAAACMn0AAAAAAAIyfQAAAAAAAjJ9AAAAAAACMn0AAAAAAAIyfQAAAAAAAjJ9AAAAAAACMn0AAAAAAAIyfQAAAAAAAjJ9AAAAAAACMn0AAAAAAAIyfQAAAAAAAjJ9AAAAAAACMn0AAAAAAAIyfQAAAAAAAjJ9AAAAAAACMn0AAAAAAAIyfQAAAAAAAjJ9AAAAAAACMn0AAAAAAAIyfQAAAAAAAjJ9AAAAAAACMn0AAAAAAAIyfQAAAAAAAjJ9AAAAAAACMn0AAAAAAAIyfQAAAAAAAjJ9AAAAAAACMn0AAAAAAAIyfQAAAAAAAjJ9AAAAAAACMn0AAAAAAAIyfQAAAAAAAjJ9AAAAAAACMn0AAAAAAAIyfQAAAAAAAjJ9AAAAAAACMn0AAAAAAAIyfQAAAAAAAjJ9AAAAAAACMn0AAAAAAAIyfQAAAAAAAjJ9AAAAAAACMn0AAAAAAAIyfQAAAAAAAjJ9AAAAAAACMn0AAAAAAAIyfQAAAAAAAjJ9AAAAAAACMn0AAAAAAAIyfQAAAAAAAjJ9AAAAAAACMn0AAAAAAAIyfQAAAAAAAjJ9AAAAAAACMn0AAAAAAAIyfQAAAAAAAjJ9AAAAAAACMn0AAAAAAAIyfQAAAAAAAjJ9AAAAAAACMn0AAAAAAAIyfQAAAAAAAjJ9AAAAAAACMn0AAAAAAAIyfQAAAAAAAjJ9AAAAAAACMn0AAAAAAAIyfQAAAAAAAjJ9AAAAAAACMn0AAAAAAAIyfQAAAAAAAjJ9AAAAAAACMn0AAAAAAAIyfQAAAAAAAjJ9AAAAAAACMn0AAAAAAAIyfQAAAAAAAjJ9AAAAAAACMn0AAAAAAAIyfQAAAAAAAjJ9AAAAAAACMn0AAAAAAAIyfQAAAAAAAjJ9AAAAAAACMn0AAAAAAAIyfQAAAAAAAjJ9AAAAAAACMn0AAAAAAAIyfQAAAAAAAiJ9AAAAAAACIn0AAAAAAAIifQAAAAAAAiJ9AAAAAAACIn0AAAAAAAIifQAAAAAAAiJ9AAAAAAACIn0AAAAAAAIifQAAAAAAAiJ9AAAAAAACIn0AAAAAAAIifQAAAAAAAiJ9AAAAAAACIn0AAAAAAAIifQAAAAAAAiJ9AAAAAAACIn0AAAAAAAIifQAAAAAAAiJ9AAAAAAACIn0AAAAAAAIifQAAAAAAAiJ9AAAAAAACIn0AAAAAAAIifQAAAAAAAiJ9AAAAAAACIn0AAAAAAAIifQAAAAAAAiJ9AAAAAAACIn0AAAAAAAIifQAAAAAAAiJ9AAAAAAACIn0AAAAAAAIifQAAAAAAAiJ9AAAAAAACIn0AAAAAAAIifQAAAAAAAiJ9AAAAAAACIn0AAAAAAAIifQAAAAAAAiJ9AAAAAAACIn0AAAAAAAIifQAAAAAAAiJ9AAAAAAACIn0AAAAAAAIifQAAAAAAAiJ9AAAAAAACIn0AAAAAAAIifQAAAAAAAiJ9AAAAAAACIn0AAAAAAAIifQAAAAAAAiJ9AAAAAAACIn0AAAAAAAIifQAAAAAAAiJ9AAAAAAACIn0AAAAAAAIifQAAAAAAAiJ9AAAAAAACIn0AAAAAAAIifQAAAAAAAiJ9AAAAAAACIn0AAAAAAAIifQAAAAAAAiJ9AAAAAAACIn0AAAAAAAIifQAAAAAAAiJ9AAAAAAACIn0AAAAAAAIifQAAAAAAAiJ9AAAAAAACIn0AAAAAAAIifQAAAAAAAiJ9AAAAAAACIn0AAAAAAAIifQAAAAAAAiJ9AAAAAAACIn0AAAAAAAIifQAAAAAAAiJ9AAAAAAACIn0AAAAAAAIifQAAAAAAAiJ9AAAAAAACIn0AAAAAAAIifQAAAAAAAiJ9AAAAAAACIn0AAAAAAAIifQAAAAAAAiJ9AAAAAAACIn0AAAAAAAIifQAAAAAAAiJ9AAAAAAACIn0AAAAAAAIifQAAAAAAAiJ9AAAAAAACIn0AAAAAAAIifQAAAAAAAiJ9AAAAAAACIn0AAAAAAAIifQAAAAAAAiJ9AAAAAAACIn0AAAAAAAIifQAAAAAAAiJ9AAAAAAACIn0AAAAAAAIifQAAAAAAAiJ9AAAAAAACIn0AAAAAAAIifQAAAAAAAiJ9AAAAAAACIn0AAAAAAAIifQAAAAAAAiJ9AAAAAAACIn0AAAAAAAIifQAAAAAAAiJ9AAAAAAACIn0AAAAAAAIifQAAAAAAAiJ9AAAAAAACIn0AAAAAAAIifQAAAAAAAiJ9AAAAAAACIn0AAAAAAAIifQAAAAAAAiJ9AAAAAAACIn0AAAAAAAIifQAAAAAAAiJ9AAAAAAACIn0AAAAAAAIifQAAAAAAAiJ9AAAAAAACIn0AAAAAAAIifQAAAAAAAiJ9AAAAAAACIn0AAAAAAAIifQAAAAAAAiJ9AAAAAAACIn0AAAAAAAIifQAAAAAAAiJ9AAAAAAACIn0AAAAAAAIifQAAAAAAAiJ9AAAAAAACIn0AAAAAAAIifQAAAAAAAiJ9AAAAAAACIn0AAAAAAAIifQAAAAAAAiJ9AAAAAAACIn0AAAAAAAIifQAAAAAAAiJ9AAAAAAACIn0AAAAAAAIifQAAAAAAAiJ9AAAAAAACIn0AAAAAAAIifQAAAAAAAiJ9AAAAAAACIn0AAAAAAAIifQAAAAAAAiJ9AAAAAAACIn0AAAAAAAIifQAAAAAAAiJ9AAAAAAACIn0AAAAAAAIifQAAAAAAAiJ9AAAAAAACIn0AAAAAAAIifQAAAAAAAiJ9AAAAAAACIn0AAAAAAAIifQAAAAAAAiJ9AAAAAAACIn0AAAAAAAIifQAAAAAAAiJ9AAAAAAACIn0AAAAAAAIifQAAAAAAAiJ9AAAAAAACIn0AAAAAAAIifQAAAAAAAiJ9AAAAAAACIn0AAAAAAAIifQAAAAAAAiJ9AAAAAAACIn0AAAAAAAIifQAAAAAAAiJ9AAAAAAACIn0AAAAAAAIifQAAAAAAAiJ9AAAAAAACIn0AAAAAAAIifQAAAAAAAiJ9AAAAAAACIn0AAAAAAAIifQAAAAAAAiJ9AAAAAAACIn0AAAAAAAIifQAAAAAAAiJ9AAAAAAACIn0AAAAAAAIifQAAAAAAAiJ9AAAAAAACIn0AAAAAAAIifQAAAAAAAiJ9AAAAAAACIn0AAAAAAAIifQAAAAAAAiJ9AAAAAAACIn0AAAAAAAIifQAAAAAAAiJ9AAAAAAACIn0AAAAAAAIifQAAAAAAAiJ9AAAAAAACIn0AAAAAAAIifQAAAAAAAiJ9AAAAAAACIn0AAAAAAAIifQAAAAAAAiJ9AAAAAAACIn0AAAAAAAIifQAAAAAAAiJ9AAAAAAACIn0AAAAAAAIifQAAAAAAAiJ9AAAAAAACIn0AAAAAAAIifQAAAAAAAiJ9AAAAAAACIn0AAAAAAAIifQAAAAAAAiJ9AAAAAAACIn0AAAAAAAIifQAAAAAAAiJ9AAAAAAACIn0AAAAAAAIifQAAAAAAAiJ9AAAAAAACIn0AAAAAAAIifQAAAAAAAiJ9AAAAAAACIn0AAAAAAAIifQAAAAAAAiJ9AAAAAAACIn0AAAAAAAIifQAAAAAAAiJ9AAAAAAACIn0AAAAAAAIifQAAAAAAAiJ9AAAAAAACIn0AAAAAAAIifQAAAAAAAiJ9AAAAAAACIn0AAAAAAAIifQAAAAAAAiJ9AAAAAAACIn0AAAAAAAIifQAAAAAAAiJ9AAAAAAACIn0AAAAAAAIifQAAAAAAAiJ9AAAAAAACIn0AAAAAAAIifQAAAAAAAiJ9AAAAAAACIn0AAAAAAAIifQAAAAAAAiJ9AAAAAAACIn0AAAAAAAIifQAAAAAAAiJ9AAAAAAACIn0AAAAAAAIifQAAAAAAAiJ9AAAAAAACIn0AAAAAAAIifQAAAAAAAiJ9AAAAAAACIn0AAAAAAAIifQAAAAAAAiJ9AAAAAAACIn0AAAAAAAIifQAAAAAAAiJ9AAAAAAACIn0AAAAAAAIifQAAAAAAAiJ9AAAAAAACIn0AAAAAAAIifQAAAAAAAiJ9AAAAAAACIn0AAAAAAAIifQAAAAAAAiJ9AAAAAAACIn0AAAAAAAIifQAAAAAAAiJ9AAAAAAACIn0AAAAAAAIifQAAAAAAAiJ9AAAAAAACIn0AAAAAAAIifQAAAAAAAiJ9AAAAAAACIn0AAAAAAAIifQAAAAAAAiJ9AAAAAAACIn0AAAAAAAIifQAAAAAAAiJ9AAAAAAACIn0AAAAAAAIifQAAAAAAAiJ9AAAAAAACIn0AAAAAAAIifQAAAAAAAiJ9AAAAAAACIn0AAAAAAAIifQAAAAAAAiJ9AAAAAAACIn0AAAAAAAIifQAAAAAAAiJ9AAAAAAACIn0AAAAAAAIifQAAAAAAAiJ9AAAAAAACIn0AAAAAAAIifQAAAAAAAiJ9AAAAAAACIn0AAAAAAAIifQAAAAAAAiJ9AAAAAAACIn0AAAAAAAIifQAAAAAAAiJ9AAAAAAACIn0AAAAAAAIifQAAAAAAAiJ9AAAAAAACIn0AAAAAAAIifQAAAAAAAiJ9AAAAAAACIn0AAAAAAAIifQAAAAAAAiJ9AAAAAAACIn0AAAAAAAIifQAAAAAAAiJ9AAAAAAACIn0AAAAAAAIifQAAAAAAAiJ9AAAAAAACIn0AAAAAAAIifQAAAAAAAiJ9AAAAAAACIn0AAAAAAAIifQAAAAAAAiJ9AAAAAAACIn0AAAAAAAIifQAAAAAAAiJ9AAAAAAACIn0AAAAAAAIifQAAAAAAAiJ9AAAAAAACIn0AAAAAAAIifQAAAAAAAiJ9AAAAAAACIn0AAAAAAAIifQAAAAAAAiJ9AAAAAAACIn0AAAAAAAIifQAAAAAAAiJ9AAAAAAACIn0AAAAAAAIifQAAAAAAAiJ9AAAAAAACIn0AAAAAAAIifQAAAAAAAiJ9AAAAAAACIn0AAAAAAAIifQAAAAAAAiJ9AAAAAAACIn0AAAAAAAIifQAAAAAAAiJ9AAAAAAACIn0AAAAAAAIifQAAAAAAAiJ9AAAAAAACIn0AAAAAAAIifQAAAAAAAiJ9AAAAAAACIn0AAAAAAAIifQAAAAAAAiJ9AAAAAAACIn0AAAAAAAIifQAAAAAAAiJ9AAAAAAACIn0AAAAAAAIifQAAAAAAAiJ9AAAAAAACIn0AAAAAAAIifQAAAAAAAiJ9AAAAAAACIn0AAAAAAAIifQAAAAAAAiJ9AAAAAAACIn0AAAAAAAIifQAAAAAAAiJ9AAAAAAACIn0AAAAAAAIifQAAAAAAAiJ9AAAAAAACIn0AAAAAAAIifQAAAAAAAiJ9AAAAAAACIn0AAAAAAAIifQAAAAAAAiJ9AAAAAAACIn0AAAAAAAIifQAAAAAAAiJ9AAAAAAACIn0AAAAAAAIifQAAAAAAAiJ9AAAAAAACIn0AAAAAAAIifQAAAAAAAiJ9AAAAAAACIn0AAAAAAAIifQAAAAAAAiJ9AAAAAAACIn0AAAAAAAIifQAAAAAAAiJ9AAAAAAACIn0AAAAAAAIifQAAAAAAAiJ9AAAAAAACIn0AAAAAAAIifQAAAAAAAiJ9AAAAAAACIn0AAAAAAAIifQAAAAAAAiJ9AAAAAAACIn0AAAAAAAIifQAAAAAAAiJ9AAAAAAACIn0AAAAAAAIifQAAAAAAAiJ9AAAAAAACIn0AAAAAAAIifQAAAAAAAiJ9AAAAAAACIn0AAAAAAAIifQAAAAAAAiJ9AAAAAAACIn0AAAAAAAIifQAAAAAAAiJ9AAAAAAACIn0AAAAAAAIifQAAAAAAAiJ9AAAAAAACIn0AAAAAAAIifQAAAAAAAiJ9AAAAAAACIn0AAAAAAAIifQAAAAAAAiJ9AAAAAAACIn0AAAAAAAIifQAAAAAAAiJ9AAAAAAACIn0AAAAAAAIifQAAAAAAAiJ9AAAAAAACIn0AAAAAAAIifQAAAAAAAiJ9AAAAAAACIn0AAAAAAAIifQAAAAAAAiJ9AAAAAAACIn0AAAAAAAIifQAAAAAAAiJ9AAAAAAACIn0AAAAAAAIifQAAAAAAAiJ9AAAAAAACIn0AAAAAAAIifQAAAAAAAiJ9AAAAAAACIn0AAAAAAAIifQAAAAAAAiJ9AAAAAAACIn0AAAAAAAIifQAAAAAAAiJ9AAAAAAACIn0AAAAAAAIifQAAAAAAAiJ9AAAAAAACIn0AAAAAAAIifQAAAAAAAiJ9AAAAAAACIn0AAAAAAAIifQAAAAAAAiJ9AAAAAAACIn0AAAAAAAIifQAAAAAAAiJ9AAAAAAACIn0AAAAAAAIifQAAAAAAAiJ9AAAAAAACIn0AAAAAAAIifQAAAAAAAiJ9AAAAAAACIn0AAAAAAAIifQAAAAAAAiJ9AAAAAAACIn0AAAAAAAIifQAAAAAAAiJ9AAAAAAACIn0AAAAAAAIifQAAAAAAAiJ9AAAAAAACIn0AAAAAAAIifQAAAAAAAiJ9AAAAAAACIn0AAAAAAAIifQAAAAAAAiJ9AAAAAAACIn0AAAAAAAIifQAAAAAAAiJ9AAAAAAACIn0AAAAAAAIifQAAAAAAAiJ9AAAAAAACIn0AAAAAAAIifQAAAAAAAiJ9AAAAAAACIn0AAAAAAAIifQAAAAAAAiJ9AAAAAAACIn0AAAAAAAIifQAAAAAAAiJ9AAAAAAACIn0AAAAAAAIifQAAAAAAAiJ9AAAAAAACIn0AAAAAAAIifQAAAAAAAiJ9AAAAAAACIn0AAAAAAAIifQAAAAAAAiJ9AAAAAAACIn0AAAAAAAIifQAAAAAAAiJ9AAAAAAACIn0AAAAAAAIifQAAAAAAAiJ9AAAAAAACIn0AAAAAAAIifQAAAAAAAiJ9AAAAAAACIn0AAAAAAAIifQAAAAAAAiJ9AAAAAAACIn0AAAAAAAIifQAAAAAAAiJ9AAAAAAACIn0AAAAAAAIifQAAAAAAAiJ9AAAAAAACIn0AAAAAAAIifQAAAAAAAiJ9AAAAAAACIn0AAAAAAAIifQAAAAAAAiJ9AAAAAAACIn0AAAAAAAIifQAAAAAAAiJ9AAAAAAACIn0AAAAAAAIifQAAAAAAAiJ9AAAAAAACIn0AAAAAAAIifQAAAAAAAiJ9AAAAAAACIn0AAAAAAAIifQAAAAAAAiJ9AAAAAAACIn0AAAAAAAIifQAAAAAAAiJ9AAAAAAACIn0AAAAAAAIifQAAAAAAAiJ9AAAAAAACIn0AAAAAAAIifQAAAAAAAiJ9AAAAAAACIn0AAAAAAAIifQAAAAAAAiJ9AAAAAAACIn0AAAAAAAIifQAAAAAAAiJ9AAAAAAACIn0AAAAAAAIifQAAAAAAAiJ9AAAAAAACIn0AAAAAAAIifQAAAAAAAiJ9AAAAAAACEn0AAAAAAAISfQAAAAAAAhJ9AAAAAAACEn0AAAAAAAISfQAAAAAAAhJ9AAAAAAACEn0AAAAAAAISfQAAAAAAAhJ9AAAAAAACEn0AAAAAAAISfQAAAAAAAhJ9AAAAAAACEn0AAAAAAAISfQAAAAAAAhJ9AAAAAAACEn0AAAAAAAISfQAAAAAAAhJ9AAAAAAACEn0AAAAAAAISfQAAAAAAAhJ9AAAAAAACEn0AAAAAAAISfQAAAAAAAhJ9AAAAAAACEn0AAAAAAAISfQAAAAAAAhJ9AAAAAAACEn0AAAAAAAISfQAAAAAAAhJ9AAAAAAACEn0AAAAAAAISfQAAAAAAAhJ9AAAAAAACEn0AAAAAAAISfQAAAAAAAhJ9AAAAAAACEn0AAAAAAAISfQAAAAAAAhJ9AAAAAAACEn0AAAAAAAISfQAAAAAAAhJ9AAAAAAACEn0AAAAAAAISfQAAAAAAAhJ9AAAAAAACEn0AAAAAAAISfQAAAAAAAhJ9AAAAAAACEn0AAAAAAAISfQAAAAAAAhJ9AAAAAAACEn0AAAAAAAISfQAAAAAAAhJ9AAAAAAACEn0AAAAAAAISfQAAAAAAAhJ9AAAAAAACEn0AAAAAAAISfQAAAAAAAhJ9AAAAAAACEn0AAAAAAAISfQAAAAAAAhJ9AAAAAAACEn0AAAAAAAISfQAAAAAAAhJ9AAAAAAACEn0AAAAAAAISfQAAAAAAAhJ9AAAAAAACEn0AAAAAAAISfQAAAAAAAhJ9AAAAAAACEn0AAAAAAAISfQAAAAAAAhJ9AAAAAAACEn0AAAAAAAISfQAAAAAAAhJ9AAAAAAACEn0AAAAAAAISfQAAAAAAAhJ9AAAAAAACEn0AAAAAAAISfQAAAAAAAhJ9AAAAAAACEn0AAAAAAAISfQAAAAAAAhJ9AAAAAAACEn0AAAAAAAISfQAAAAAAAhJ9AAAAAAACEn0AAAAAAAISfQAAAAAAAhJ9AAAAAAACEn0AAAAAAAISfQAAAAAAAhJ9AAAAAAACEn0AAAAAAAISfQAAAAAAAhJ9AAAAAAACEn0AAAAAAAISfQAAAAAAAhJ9AAAAAAACEn0AAAAAAAISfQAAAAAAAhJ9AAAAAAACEn0AAAAAAAISfQAAAAAAAhJ9AAAAAAACEn0AAAAAAAISfQAAAAAAAhJ9AAAAAAACEn0AAAAAAAISfQAAAAAAAhJ9AAAAAAACEn0AAAAAAAISfQAAAAAAAhJ9AAAAAAACEn0AAAAAAAISfQAAAAAAAhJ9AAAAAAACEn0AAAAAAAISfQAAAAAAAhJ9AAAAAAACEn0AAAAAAAISfQAAAAAAAhJ9AAAAAAACEn0AAAAAAAISfQAAAAAAAhJ9AAAAAAACEn0AAAAAAAISfQAAAAAAAhJ9AAAAAAACEn0AAAAAAAISfQAAAAAAAhJ9AAAAAAACEn0AAAAAAAISfQAAAAAAAhJ9AAAAAAACEn0AAAAAAAISfQAAAAAAAhJ9AAAAAAACEn0AAAAAAAISfQAAAAAAAhJ9AAAAAAACEn0AAAAAAAISfQAAAAAAAhJ9AAAAAAACEn0AAAAAAAISfQAAAAAAAhJ9AAAAAAACEn0AAAAAAAISfQAAAAAAAhJ9AAAAAAACEn0AAAAAAAISfQAAAAAAAhJ9AAAAAAACEn0AAAAAAAISfQAAAAAAAhJ9AAAAAAACEn0AAAAAAAISfQAAAAAAAhJ9AAAAAAACEn0AAAAAAAISfQAAAAAAAhJ9AAAAAAACEn0AAAAAAAISfQAAAAAAAhJ9AAAAAAACEn0AAAAAAAISfQAAAAAAAhJ9AAAAAAACEn0AAAAAAAISfQAAAAAAAhJ9AAAAAAACEn0AAAAAAAISfQAAAAAAAhJ9AAAAAAACEn0AAAAAAAISfQAAAAAAAhJ9AAAAAAACEn0AAAAAAAISfQAAAAAAAhJ9AAAAAAACEn0AAAAAAAISfQAAAAAAAhJ9AAAAAAACEn0AAAAAAAISfQAAAAAAAhJ9AAAAAAACEn0AAAAAAAISfQAAAAAAAhJ9AAAAAAACEn0AAAAAAAISfQAAAAAAAhJ9AAAAAAACEn0AAAAAAAISfQAAAAAAAhJ9AAAAAAACEn0AAAAAAAISfQAAAAAAAhJ9AAAAAAACEn0AAAAAAAISfQAAAAAAAhJ9AAAAAAACEn0AAAAAAAISfQAAAAAAAhJ9AAAAAAACEn0AAAAAAAISfQAAAAAAAhJ9AAAAAAACEn0AAAAAAAISfQAAAAAAAhJ9AAAAAAACEn0AAAAAAAISfQAAAAAAAhJ9AAAAAAACEn0AAAAAAAISfQAAAAAAAhJ9AAAAAAACEn0AAAAAAAISfQAAAAAAAhJ9AAAAAAACEn0AAAAAAAISfQAAAAAAAhJ9AAAAAAACEn0AAAAAAAISfQAAAAAAAhJ9AAAAAAACEn0AAAAAAAISfQAAAAAAAhJ9AAAAAAACEn0AAAAAAAISfQAAAAAAAhJ9AAAAAAACEn0AAAAAAAISfQAAAAAAAhJ9AAAAAAACEn0AAAAAAAISfQAAAAAAAhJ9AAAAAAACEn0AAAAAAAISfQAAAAAAAhJ9AAAAAAACEn0AAAAAAAISfQAAAAAAAhJ9AAAAAAACEn0AAAAAAAISfQAAAAAAAhJ9AAAAAAACEn0AAAAAAAISfQAAAAAAAhJ9AAAAAAACEn0AAAAAAAISfQAAAAAAAhJ9AAAAAAACEn0AAAAAAAISfQAAAAAAAhJ9AAAAAAACEn0AAAAAAAISfQAAAAAAAhJ9AAAAAAACEn0AAAAAAAISfQAAAAAAAhJ9AAAAAAACEn0AAAAAAAISfQAAAAAAAhJ9AAAAAAACEn0AAAAAAAISfQAAAAAAAhJ9AAAAAAACEn0AAAAAAAISfQAAAAAAAhJ9AAAAAAACEn0AAAAAAAISfQAAAAAAAhJ9AAAAAAACEn0AAAAAAAISfQAAAAAAAhJ9AAAAAAACEn0AAAAAAAISfQAAAAAAAhJ9AAAAAAACEn0AAAAAAAISfQAAAAAAAhJ9AAAAAAACEn0AAAAAAAISfQAAAAAAAhJ9AAAAAAACEn0AAAAAAAISfQAAAAAAAhJ9AAAAAAACEn0AAAAAAAISfQAAAAAAAhJ9AAAAAAACEn0AAAAAAAISfQAAAAAAAhJ9AAAAAAACEn0AAAAAAAISfQAAAAAAAhJ9AAAAAAACEn0AAAAAAAISfQAAAAAAAhJ9AAAAAAACEn0AAAAAAAISfQAAAAAAAhJ9AAAAAAACEn0AAAAAAAISfQAAAAAAAhJ9AAAAAAACEn0AAAAAAAISfQAAAAAAAhJ9AAAAAAACEn0AAAAAAAISfQAAAAAAAhJ9AAAAAAACEn0AAAAAAAISfQAAAAAAAhJ9AAAAAAACEn0AAAAAAAISfQAAAAAAAhJ9AAAAAAACEn0AAAAAAAISfQAAAAAAAhJ9AAAAAAACEn0AAAAAAAISfQAAAAAAAhJ9AAAAAAACEn0AAAAAAAISfQAAAAAAAhJ9AAAAAAACEn0AAAAAAAISfQAAAAAAAhJ9AAAAAAACEn0AAAAAAAISfQAAAAAAAhJ9AAAAAAACEn0AAAAAAAISfQAAAAAAAhJ9AAAAAAACEn0AAAAAAAISfQAAAAAAAhJ9AAAAAAACEn0AAAAAAAISfQAAAAAAAhJ9AAAAAAACEn0AAAAAAAISfQAAAAAAAhJ9AAAAAAACEn0AAAAAAAISfQAAAAAAAhJ9AAAAAAACEn0AAAAAAAISfQAAAAAAAhJ9AAAAAAACEn0AAAAAAAISfQAAAAAAAhJ9AAAAAAACEn0AAAAAAAISfQAAAAAAAhJ9AAAAAAACEn0AAAAAAAISfQAAAAAAAhJ9AAAAAAACEn0AAAAAAAISfQAAAAAAAhJ9AAAAAAACEn0AAAAAAAICfQAAAAAAAgJ9AAAAAAACAn0AAAAAAAICfQAAAAAAAgJ9AAAAAAACAn0AAAAAAAICfQAAAAAAAgJ9AAAAAAACAn0AAAAAAAICfQAAAAAAAgJ9AAAAAAACAn0AAAAAAAICfQAAAAAAAgJ9AAAAAAACAn0AAAAAAAICfQAAAAAAAgJ9AAAAAAACAn0AAAAAAAICfQAAAAAAAgJ9AAAAAAACAn0AAAAAAAICfQAAAAAAAgJ9AAAAAAACAn0AAAAAAAICfQAAAAAAAgJ9AAAAAAACAn0AAAAAAAICfQAAAAAAAgJ9AAAAAAACAn0AAAAAAAICfQAAAAAAAgJ9AAAAAAACAn0AAAAAAAICfQAAAAAAAgJ9AAAAAAACAn0AAAAAAAICfQAAAAAAAgJ9AAAAAAACAn0AAAAAAAICfQAAAAAAAgJ9AAAAAAACAn0AAAAAAAICfQAAAAAAAgJ9AAAAAAACAn0AAAAAAAICfQAAAAAAAgJ9AAAAAAACAn0AAAAAAAICfQAAAAAAAgJ9AAAAAAACAn0AAAAAAAICfQAAAAAAAgJ9AAAAAAACAn0AAAAAAAICfQAAAAAAAgJ9AAAAAAACAn0AAAAAAAICfQAAAAAAAgJ9AAAAAAACAn0AAAAAAAICfQAAAAAAAgJ9AAAAAAACAn0AAAAAAAICfQAAAAAAAgJ9AAAAAAACAn0AAAAAAAICfQAAAAAAAgJ9AAAAAAACAn0AAAAAAAICfQAAAAAAAgJ9AAAAAAACAn0AAAAAAAICfQAAAAAAAgJ9AAAAAAACAn0AAAAAAAICfQAAAAAAAgJ9AAAAAAACAn0AAAAAAAICfQAAAAAAAgJ9AAAAAAACAn0AAAAAAAICfQAAAAAAAgJ9AAAAAAACAn0AAAAAAAICfQAAAAAAAgJ9AAAAAAACAn0AAAAAAAICfQAAAAAAAgJ9AAAAAAACAn0AAAAAAAICfQAAAAAAAgJ9AAAAAAACAn0AAAAAAAICfQAAAAAAAgJ9AAAAAAACAn0AAAAAAAICfQAAAAAAAgJ9AAAAAAACAn0AAAAAAAICfQAAAAAAAgJ9AAAAAAACAn0AAAAAAAICfQAAAAAAAgJ9AAAAAAACAn0AAAAAAAICfQAAAAAAAgJ9AAAAAAACAn0AAAAAAAICfQAAAAAAAgJ9AAAAAAACAn0AAAAAAAICfQAAAAAAAgJ9AAAAAAACAn0AAAAAAAICfQAAAAAAAgJ9AAAAAAACAn0AAAAAAAICfQAAAAAAAgJ9AAAAAAACAn0AAAAAAAICfQAAAAAAAgJ9AAAAAAACAn0AAAAAAAICfQAAAAAAAgJ9AAAAAAACAn0AAAAAAAICfQAAAAAAAgJ9AAAAAAACAn0AAAAAAAICfQAAAAAAAgJ9AAAAAAACAn0AAAAAAAICfQAAAAAAAgJ9AAAAAAACAn0AAAAAAAICfQAAAAAAAgJ9AAAAAAACAn0AAAAAAAICfQAAAAAAAgJ9AAAAAAAB8n0AAAAAAAHyfQAAAAAAAfJ9AAAAAAAB8n0AAAAAAAHyfQAAAAAAAfJ9AAAAAAAB8n0AAAAAAAHyfQAAAAAAAfJ9AAAAAAAB8n0AAAAAAAHyfQAAAAAAAfJ9AAAAAAAB8n0AAAAAAAHyfQAAAAAAAfJ9AAAAAAAB8n0AAAAAAAHyfQAAAAAAAfJ9AAAAAAAB8n0AAAAAAAHyfQAAAAAAAfJ9AAAAAAAB8n0AAAAAAAHyfQAAAAAAAfJ9AAAAAAAB8n0AAAAAAAHyfQAAAAAAAfJ9AAAAAAAB8n0AAAAAAAHyfQAAAAAAAfJ9AAAAAAAB8n0AAAAAAAHyfQAAAAAAAfJ9AAAAAAAB8n0AAAAAAAHyfQAAAAAAAeJ9AAAAAAAB4n0AAAAAAAHifQAAAAAAAeJ9AAAAAAAB4n0AAAAAAAHifQAAAAAAAeJ9AAAAAAAB4n0AAAAAAAHifQAAAAAAAeJ9AAAAAAAB4n0AAAAAAAHifQAAAAAAAeJ9AAAAAAAB0n0AAAAAAAHSfQAAAAAAAdJ9AAAAAAABwn0AAAAAAAGyfQAAAAAAAbJ9AAAAAAABsn0AAAAAAAGyfQAAAAAAAbJ9AAAAAAABsn0AAAAAAAGyfQAAAAAAAbJ9AAAAAAABsn0AAAAAAAGyfQAAAAAAAbJ9AAAAAAABsn0AAAAAAAGyfQAAAAAAAZJ9AAAAAAABkn0AAAAAAAGCfQAAAAAAAhJ9AAAAAAACQn0AAAAAAAIyfQAAAAAAAjJ9AAAAAAACEn0AAAAAAAIyfQAAAAAAAiJ9AAAAAAACMn0AAAAAAAIifQAAAAAAAiJ9AAAAAAACIn0AAAAAAAIifQAAAAAAAgJ9AAAAAAACQn0AAAAAAAIyfQAAAAAAAiJ9AAAAAAACEn0AAAAAAAIifQAAAAAAAhJ9AAAAAAACEn0AAAAAAAIyfQAAAAAAAiJ9AAAAAAACIn0AAAAAAAIyfQAAAAAAAgJ9AAAAAAACMn0AAAAAAAISfQAAAAAAAjJ9AAAAAAACIn0AAAAAAAIyfQAAAAAAAlJ9AAAAAAACQn0AAAAAAAIyfQAAAAAAAiJ9AAAAAAACEn0AAAAAAAIifQAAAAAAAjJ9AAAAAAACMn0AAAAAAAIifQAAAAAAAiJ9AAAAAAACIn0AAAAAAAIifQAAAAAAAkJ9AAAAAAACMn0AAAAAAAISfQAAAAAAAjJ9AAAAAAACMn0AAAAAAAIyfQAAAAAAAlJ9AAAAAAACMn0AAAAAAAIifQAAAAAAAgJ9AAAAAAACMn0AAAAAAAISfQAAAAAAAkJ9AAAAAAACMn0AAAAAAAIifQAAAAAAAiJ9AAAAAAACEn0AAAAAAAIyfQAAAAAAAjJ9AAAAAAACQn0AAAAAAAIifQAAAAAAAiJ9AAAAAAACQn0AAAAAAAJCfQAAAAAAAiJ9AAAAAAACAn0AAAAAAAIyfQAAAAAAAhJ9AAAAAAACIn0AAAAAAAISfQAAAAAAAkJ9AAAAAAACMn0AAAAAAAIyfQAAAAAAAhJ9AAAAAAACIn0AAAAAAAIyfQAAAAAAAiJ9AAAAAAACEn0AAAAAAAIifQAAAAAAAjJ9AAAAAAACAn0AAAAAAAISfQAAAAAAAjJ9AAAAAAACQn0AAAAAAAHSfQAAAAAAAhJ9AAAAAAACMn0AAAAAAAIifQAAAAAAAhJ9AAAAAAACMn0AAAAAAAJCfQAAAAAAAkJ9AAAAAAACQn0AAAAAAAIifQAAAAAAAiJ9AAAAAAACIn0AAAAAAAJCfQAAAAAAAjJ9AAAAAAACIn0AAAAAAAIifQAAAAAAAiJ9AAAAAAACMn0AAAAAAAISfQAAAAAAAiJ9AAAAAAACEn0AAAAAAAIyfQAAAAAAAiJ9AAAAAAACAn0AAAAAAAIyfQAAAAAAAgJ9AAAAAAACEn0AAAAAAAIyfQAAAAAAAjJ9AAAAAAACQn0AAAAAAAIifQAAAAAAAkJ9AAAAAAACQn0AAAAAAAIyfQAAAAAAAjJ9AAAAAAACIn0AAAAAAAIyfQAAAAAAAiJ9AAAAAAACQn0AAAAAAAIifQAAAAAAAjJ9AAAAAAACMn0AAAAAAAIifQAAAAAAAhJ9AAAAAAACIn0AAAAAAAIyfQAAAAAAAhJ9AAAAAAACIn0AAAAAAAIyfQAAAAAAAiJ9AAAAAAACIn0AAAAAAAISfQAAAAAAAjJ9AAAAAAACQn0AAAAAAAIyfQAAAAAAAhJ9AAAAAAACMn0AAAAAAAIifQAAAAAAAjJ9AAAAAAACMn0AAAAAAAIyfQAAAAAAAjJ9AAAAAAACQn0AAAAAAAIifQAAAAAAAkJ9AAAAAAACEn0AAAAAAAIyfQAAAAAAAjJ9AAAAAAACEn0AAAAAAAJCfQAAAAAAAkJ9AAAAAAACIn0AAAAAAAISfQAAAAAAAjJ9AAAAAAACMn0AAAAAAAIyfQAAAAAAAjJ9AAAAAAACMn0AAAAAAAIyfQAAAAAAAjJ9AAAAAAACMn0AAAAAAAIifQAAAAAAAhJ9AAAAAAACIn0AAAAAAAIifQAAAAAAAiJ9AAAAAAACIn0AAAAAAAIyfQAAAAAAAjJ9AAAAAAACMn0AAAAAAAISfQAAAAAAAjJ9AAAAAAACIn0AAAAAAAJCfQAAAAAAAjJ9AAAAAAACEn0AAAAAAAISfQAAAAAAAhJ9AAAAAAACEn0AAAAAAAIyfQAAAAAAAjJ9AAAAAAACMn0AAAAAAAIyfQAAAAAAAjJ9AAAAAAACMn0AAAAAAAICfQAAAAAAAjJ9AAAAAAACEn0AAAAAAAISfQAAAAAAAjJ9AAAAAAACIn0AAAAAAAIyfQAAAAAAAkJ9AAAAAAACIn0AAAAAAAJCfQAAAAAAAjJ9AAAAAAACIn0AAAAAAAICfQAAAAAAAiJ9AAAAAAACIn0AAAAAAAICfQAAAAAAAiJ9AAAAAAACMn0AAAAAAAISfQAAAAAAAiJ9AAAAAAACIn0AAAAAAAIyfQAAAAAAAiJ9AAAAAAACIn0AAAAAAAIyfQAAAAAAAiJ9AAAAAAACEn0AAAAAAAISfQAAAAAAAjJ9AAAAAAACIn0AAAAAAAIyfQAAAAAAAjJ9AAAAAAACIn0AAAAAAAISfQAAAAAAAiJ9AAAAAAACQn0AAAAAAAIifQAAAAAAAiJ9AAAAAAACIn0AAAAAAAIifQAAAAAAAhJ9AAAAAAACMn0AAAAAAAICfQAAAAAAAiJ9AAAAAAACIn0AAAAAAAIifQAAAAAAAiJ9AAAAAAACMn0AAAAAAAISfQAAAAAAAhJ9AAAAAAACEn0AAAAAAAISfQAAAAAAAhJ9AAAAAAACEn0AAAAAAAISfQAAAAAAAhJ9AAAAAAACEn0AAAAAAAISfQAAAAAAAhJ9AAAAAAACIn0AAAAAAAIifQAAAAAAAiJ9AAAAAAACIn0AAAAAAAJCfQAAAAAAAjJ9AAAAAAACMn0AAAAAAAIyfQAAAAAAAhJ9AAAAAAACMn0AAAAAAAISfQAAAAAAAiJ9AAAAAAACEn0AAAAAAAIyfQAAAAAAAjJ9AAAAAAACIn0AAAAAAAIyfQAAAAAAAjJ9AAAAAAACMn0AAAAAAAIifQAAAAAAAhJ9AAAAAAACIn0AAAAAAAISfQAAAAAAAgJ9AAAAAAACEn0AAAAAAAIyfQAAAAAAAiJ9AAAAAAACIn0AAAAAAAISfQAAAAAAAjJ9AAAAAAACMn0AAAAAAAISfQAAAAAAAjJ9AAAAAAACMn0AAAAAAAISfQAAAAAAAiJ9AAAAAAACMn0AAAAAAAIyfQAAAAAAAhJ9AAAAAAACMn0AAAAAAAISfQAAAAAAAiJ9AAAAAAACQn0AAAAAAAJCfQAAAAAAAjJ9AAAAAAACIn0AAAAAAAISfQAAAAAAAjJ9AAAAAAACEn0AAAAAAAIyfQAAAAAAAjJ9AAAAAAACIn0AAAAAAAIifQAAAAAAAiJ9AAAAAAACIn0AAAAAAAISfQAAAAAAAkJ9AAAAAAACMn0AAAAAAAIyfQAAAAAAAgJ9AAAAAAACIn0AAAAAAAISfQAAAAAAAjJ9AAAAAAACEn0AAAAAAAJCfQAAAAAAAhJ9AAAAAAACQn0AAAAAAAJCfQAAAAAAAhJ9AAAAAAACIn0AAAAAAAJCfQAAAAAAAjJ9AAAAAAACAn0AAAAAAAIyfQAAAAAAAgJ9AAAAAAACMn0AAAAAAAJSfQAAAAAAAiJ9AAAAAAACEn0AAAAAAAIyfQAAAAAAAfJ9AAAAAAACIn0AAAAAAAIyfQAAAAAAAiJ9AAAAAAACEn0AAAAAAAISfQAAAAAAAiJ9AAAAAAACIn0AAAAAAAICfQAAAAAAAlJ9AAAAAAACIn0AAAAAAAISfQAAAAAAAhJ9AAAAAAACQn0AAAAAAAISfQAAAAAAAjJ9AAAAAAACMn0AAAAAAAJCfQAAAAAAAhJ9AAAAAAACEn0AAAAAAAIifQAAAAAAAiJ9AAAAAAACEn0AAAAAAAIifQAAAAAAAiJ9AAAAAAACEn0AAAAAAAISfQAAAAAAAhJ9AAAAAAACMn0AAAAAAAIifQAAAAAAAjJ9AAAAAAACMn0AAAAAAAISfQAAAAAAAjJ9AAAAAAACEn0AAAAAAAIyfQAAAAAAAhJ9AAAAAAACMn0AAAAAAAIifQAAAAAAAhJ9AAAAAAACMn0AAAAAAAISfQAAAAAAAiJ9AAAAAAACIn0AAAAAAAISfQAAAAAAAiJ9AAAAAAACEn0AAAAAAAJSfQAAAAAAAjJ9AAAAAAACQn0AAAAAAAIifQAAAAAAAiJ9AAAAAAACMn0AAAAAAAJCfQAAAAAAAjJ9AAAAAAACMn0AAAAAAAHCfQAAAAAAAkJ9AAAAAAACIn0AAAAAAAIifQAAAAAAAjJ9AAAAAAACAn0AAAAAAAIyfQAAAAAAAjJ9AAAAAAACEn0AAAAAAAISfQAAAAAAAkJ9AAAAAAACIn0AAAAAAAIifQAAAAAAAjJ9AAAAAAACIn0AAAAAAAISfQAAAAAAAkJ9AAAAAAACMn0AAAAAAAIifQAAAAAAAkJ9AAAAAAACMn0AAAAAAAIyfQAAAAAAAhJ9AAAAAAACQn0AAAAAAAIifQAAAAAAAhJ9AAAAAAACEn0AAAAAAAIifQAAAAAAAjJ9AAAAAAACMn0AAAAAAAIyfQAAAAAAAjJ9AAAAAAACIn0AAAAAAAICfQAAAAAAAjJ9AAAAAAACMn0AAAAAAAIifQAAAAAAAhJ9AAAAAAACIn0AAAAAAAJCfQAAAAAAAkJ9AAAAAAACEn0AAAAAAAIyfQAAAAAAAjJ9AAAAAAACMn0AAAAAAAIyfQAAAAAAAjJ9AAAAAAACIn0AAAAAAAIyfQAAAAAAAjJ9AAAAAAACIn0AAAAAAAJCfQAAAAAAAhJ9AAAAAAACMn0AAAAAAAIyfQAAAAAAAiJ9AAAAAAACIn0AAAAAAAIyfQAAAAAAAkJ9AAAAAAACMn0AAAAAAAISfQAAAAAAAhJ9AAAAAAACEn0AAAAAAAJCfQAAAAAAAkJ9AAAAAAACMn0AAAAAAAISfQAAAAAAAhJ9AAAAAAACIn0AAAAAAAIifQAAAAAAAjJ9AAAAAAACEn0AAAAAAAIifQAAAAAAAiJ9AAAAAAACEn0AAAAAAAIifQAAAAAAAiJ9AAAAAAACIn0AAAAAAAIyfQAAAAAAAjJ9AAAAAAACMn0AAAAAAAJSfQAAAAAAAhJ9AAAAAAACEn0AAAAAAAISfQAAAAAAAiJ9AAAAAAACAn0AAAAAAAIyfQAAAAAAAjJ9AAAAAAACMn0AAAAAAAISfQAAAAAAAiJ9AAAAAAACIn0AAAAAAAIyfQAAAAAAAiJ9AAAAAAACMn0AAAAAAAIyfQAAAAAAAgJ9AAAAAAACIn0AAAAAAAIifQAAAAAAAiJ9AAAAAAACIn0AAAAAAAISfQAAAAAAAhJ9AAAAAAACMn0AAAAAAAIifQAAAAAAAhJ9AAAAAAACMn0AAAAAAAIifQAAAAAAAjJ9AAAAAAACEn0AAAAAAAISfQAAAAAAAiJ9AAAAAAACMn0AAAAAAAIifQAAAAAAAjJ9AAAAAAACMn0AAAAAAAIyfQAAAAAAAkJ9AAAAAAACMn0AAAAAAAICfQAAAAAAAjJ9AAAAAAACQn0AAAAAAAIyfQAAAAAAAiJ9AAAAAAACQn0AAAAAAAISfQAAAAAAAiJ9AAAAAAACAn0AAAAAAAJCfQAAAAAAAhJ9AAAAAAACQn0AAAAAAAIifQAAAAAAAjJ9AAAAAAACEn0AAAAAAAIyfQAAAAAAAhJ9AAAAAAACQn0AAAAAAAIifQAAAAAAAjJ9AAAAAAACMn0AAAAAAAISfQAAAAAAAhJ9AAAAAAACAn0AAAAAAAIyfQAAAAAAAiJ9AAAAAAACQn0AAAAAAAIifQAAAAAAAhJ9AAAAAAACIn0AAAAAAAIyfQAAAAAAAjJ9AAAAAAACAn0AAAAAAAIyfQAAAAAAAjJ9AAAAAAACMn0AAAAAAAIifQAAAAAAAkJ9AAAAAAACMn0AAAAAAAJCfQAAAAAAAkJ9AAAAAAACQn0AAAAAAAIyfQAAAAAAAhJ9AAAAAAACEn0AAAAAAAJCfQAAAAAAAkJ9AAAAAAACIn0AAAAAAAIyfQAAAAAAAiJ9AAAAAAACMn0AAAAAAAIyfQAAAAAAAkJ9AAAAAAACQn0AAAAAAAJCfQAAAAAAAhJ9AAAAAAACMn0AAAAAAAIifQAAAAAAAhJ9AAAAAAACIn0AAAAAAAIyfQAAAAAAAgJ9AAAAAAACIn0AAAAAAAIyfQAAAAAAAjJ9AAAAAAACMn0AAAAAAAJCfQAAAAAAAkJ9AAAAAAACMn0AAAAAAAIifQAAAAAAAiJ9AAAAAAACEn0AAAAAAAIifQAAAAAAAjJ9AAAAAAACIn0AAAAAAAISfQAAAAAAAhJ9AAAAAAACEn0AAAAAAAIifQAAAAAAAhJ9AAAAAAACQn0AAAAAAAISfQAAAAAAAiJ9AAAAAAACEn0AAAAAAAICfQAAAAAAAiJ9AAAAAAACIn0AAAAAAAIifQAAAAAAAiJ9AAAAAAACQn0AAAAAAAIyfQAAAAAAAjJ9AAAAAAACIn0AAAAAAAISfQAAAAAAAiJ9AAAAAAACUn0AAAAAAAIifQAAAAAAAjJ9AAAAAAACMn0AAAAAAAIifQAAAAAAAhJ9AAAAAAACIn0AAAAAAAIyfQAAAAAAAjJ9AAAAAAACQn0AAAAAAAJCfQAAAAAAAjJ9AAAAAAACMn0AAAAAAAIifQAAAAAAAjJ9AAAAAAACAn0AAAAAAAIyfQAAAAAAAjJ9AAAAAAACMn0AAAAAAAISfQAAAAAAAhJ9AAAAAAACEn0AAAAAAAIifQAAAAAAAiJ9AAAAAAACIn0AAAAAAAJCfQAAAAAAAjJ9AAAAAAACMn0AAAAAAAICfQAAAAAAAjJ9AAAAAAACIn0AAAAAAAIyfQAAAAAAAjJ9AAAAAAACEn0AAAAAAAJCfQAAAAAAAfJ9AAAAAAACAn0AAAAAAAICfQAAAAAAAiJ9AAAAAAACIn0AAAAAAAJCfQAAAAAAAkJ9AAAAAAACQn0AAAAAAAISfQAAAAAAAjJ9AAAAAAACMn0AAAAAAAIyfQAAAAAAAhJ9AAAAAAACIn0AAAAAAAIifQAAAAAAAkJ9AAAAAAACMn0AAAAAAAISfQAAAAAAAjJ9AAAAAAACIn0AAAAAAAIifQAAAAAAAiJ9AAAAAAACEn0AAAAAAAJCfQAAAAAAAgJ9AAAAAAACMn0AAAAAAAIyfQAAAAAAAjJ9AAAAAAACIn0AAAAAAAISfQAAAAAAAjJ9AAAAAAACIn0AAAAAAAISfQAAAAAAAjJ9AAAAAAACUn0AAAAAAAIyfQAAAAAAAjJ9AAAAAAACEn0AAAAAAAJCfQAAAAAAAlJ9AAAAAAACQn0AAAAAAAISfQAAAAAAAjJ9AAAAAAACAn0AAAAAAAJCfQAAAAAAAkJ9AAAAAAACIn0AAAAAAAIyfQAAAAAAAkJ9AAAAAAACIn0AAAAAAAICfQAAAAAAAgJ9AAAAAAACMn0AAAAAAAICfQAAAAAAAiJ9AAAAAAACMn0AAAAAAAIyfQAAAAAAAjJ9AAAAAAACIn0AAAAAAAISfQAAAAAAAiJ9AAAAAAACMn0AAAAAAAIifQAAAAAAAiJ9AAAAAAACIn0AAAAAAAISfQAAAAAAAiJ9AAAAAAACIn0AAAAAAAICfQAAAAAAAkJ9AAAAAAAB4n0AAAAAAAIyfQAAAAAAAjJ9AAAAAAACMn0AAAAAAAISfQAAAAAAAjJ9AAAAAAACQn0AAAAAAAIyfQAAAAAAAjJ9AAAAAAACMn0AAAAAAAIifQAAAAAAAjJ9AAAAAAACIn0AAAAAAAIyfQAAAAAAAhJ9AAAAAAACMn0AAAAAAAIifQAAAAAAAhJ9AAAAAAACQn0AAAAAAAIifQAAAAAAAiJ9AAAAAAACMn0AAAAAAAISfQAAAAAAAjJ9AAAAAAACQn0AAAAAAAIifQAAAAAAAjJ9AAAAAAACMn0AAAAAAAISfQAAAAAAAhJ9AAAAAAACQn0AAAAAAAIyfQAAAAAAAjJ9AAAAAAACEn0AAAAAAAJSfQAAAAAAAiJ9AAAAAAACEn0AAAAAAAIyfQAAAAAAAjJ9AAAAAAACUn0AAAAAAAISfQAAAAAAAkJ9AAAAAAACIn0AAAAAAAIyfQAAAAAAAjJ9AAAAAAACIn0AAAAAAAIifQAAAAAAAiJ9AAAAAAACEn0AAAAAAAISfQAAAAAAAjJ9AAAAAAACIn0AAAAAAAISfQAAAAAAAhJ9AAAAAAACIn0AAAAAAAIifQAAAAAAAkJ9AAAAAAACEn0AAAAAAAICfQAAAAAAAiJ9AAAAAAACMn0AAAAAAAIyfQAAAAAAAkJ9AAAAAAACIn0AAAAAAAIifQAAAAAAAiJ9AAAAAAACEn0AAAAAAAISfQAAAAAAAkJ9AAAAAAACMn0AAAAAAAIyfQAAAAAAAkJ9AAAAAAACIn0AAAAAAAIifQAAAAAAAhJ9AAAAAAACEn0AAAAAAAIifQAAAAAAAiJ9AAAAAAACMn0AAAAAAAIyfQAAAAAAAhJ9AAAAAAACQn0AAAAAAAIifQAAAAAAAjJ9AAAAAAACMn0AAAAAAAIifQAAAAAAAjJ9AAAAAAACMn0AAAAAAAIifQAAAAAAAjJ9AAAAAAACIn0AAAAAAAIyfQAAAAAAAiJ9AAAAAAACIn0AAAAAAAIyfQAAAAAAAjJ9AAAAAAACEn0AAAAAAAIifQAAAAAAAkJ9AAAAAAACIn0AAAAAAAISfQAAAAAAAhJ9AAAAAAACEn0AAAAAAAISfQAAAAAAAiJ9AAAAAAACQn0AAAAAAAICfQAAAAAAAhJ9AAAAAAACEn0AAAAAAAISfQAAAAAAAgJ9AAAAAAACAn0AAAAAAAICfQAAAAAAAiJ9AAAAAAACIn0AAAAAAAIifQAAAAAAAjJ9AAAAAAACMn0AAAAAAAIifQAAAAAAAiJ9AAAAAAACIn0AAAAAAAIifQAAAAAAAjJ9AAAAAAACMn0AAAAAAAIyfQAAAAAAAhJ9AAAAAAACIn0AAAAAAAIifQAAAAAAAgJ9AAAAAAACEn0AAAAAAAIyfQAAAAAAAjJ9AAAAAAACMn0AAAAAAAJCfQAAAAAAAiJ9AAAAAAACEn0AAAAAAAIifQAAAAAAAhJ9AAAAAAACMn0AAAAAAAIyfQAAAAAAAgJ9AAAAAAACIn0AAAAAAAICfQAAAAAAAiJ9AAAAAAACQn0AAAAAAAIifQAAAAAAAhJ9AAAAAAACIn0AAAAAAAJCfQAAAAAAAjJ9AAAAAAACEn0AAAAAAAIifQAAAAAAAjJ9AAAAAAACEn0AAAAAAAIyfQAAAAAAAhJ9AAAAAAACEn0AAAAAAAIyfQAAAAAAAhJ9AAAAAAACEn0AAAAAAAIifQAAAAAAAjJ9AAAAAAACMn0AAAAAAAIyfQAAAAAAAiJ9AAAAAAACMn0AAAAAAAIyfQAAAAAAAhJ9AAAAAAACEn0AAAAAAAIifQAAAAAAAiJ9AAAAAAACMn0AAAAAAAHSfQAAAAAAAjJ9AAAAAAACMn0AAAAAAAIifQAAAAAAAiJ9AAAAAAACEn0AAAAAAAIifQAAAAAAAhJ9AAAAAAACIn0AAAAAAAISfQAAAAAAAjJ9AAAAAAACEn0AAAAAAAIyfQAAAAAAAjJ9AAAAAAACMn0AAAAAAAIyfQAAAAAAAhJ9AAAAAAACIn0AAAAAAAIifQAAAAAAAjJ9AAAAAAACMn0AAAAAAAIifQAAAAAAAkJ9AAAAAAACAn0AAAAAAAIifQAAAAAAAhJ9AAAAAAACEn0AAAAAAAISfQAAAAAAAjJ9AAAAAAACMn0AAAAAAAIifQAAAAAAAiJ9AAAAAAACIn0AAAAAAAIyfQAAAAAAAeJ9AAAAAAACIn0AAAAAAAIifQAAAAAAAjJ9AAAAAAACMn0AAAAAAAICfQAAAAAAAjJ9AAAAAAACAn0AAAAAAAIifQAAAAAAAjJ9AAAAAAACEn0AAAAAAAIyfQAAAAAAAjJ9AAAAAAACIn0AAAAAAAIyfQAAAAAAAhJ9AAAAAAACEn0AAAAAAAIifQAAAAAAAhJ9AAAAAAACMn0AAAAAAAIyfQAAAAAAAgJ9AAAAAAACMn0AAAAAAAIyfQAAAAAAAiJ9AAAAAAACMn0AAAAAAAIyfQAAAAAAAjJ9AAAAAAACEn0AAAAAAAICfQAAAAAAAjJ9AAAAAAACMn0AAAAAAAIifQAAAAAAAjJ9AAAAAAACIn0AAAAAAAIyfQAAAAAAAjJ9AAAAAAACIn0AAAAAAAJSfQAAAAAAAkJ9AAAAAAACMn0AAAAAAAIyfQAAAAAAAjJ9AAAAAAACIn0AAAAAAAIifQAAAAAAAjJ9AAAAAAACEn0AAAAAAAIifQAAAAAAAjJ9AAAAAAACIn0AAAAAAAISfQAAAAAAAhJ9AAAAAAACEn0AAAAAAAISfQAAAAAAAiJ9AAAAAAACIn0AAAAAAAIifQAAAAAAAhJ9AAAAAAACQn0AAAAAAAIyfQAAAAAAAiJ9AAAAAAACIn0AAAAAAAIifQAAAAAAAiJ9AAAAAAACIn0AAAAAAAIifQAAAAAAAjJ9AAAAAAACIn0AAAAAAAIifQAAAAAAAjJ9AAAAAAACIn0AAAAAAAIyfQAAAAAAAiJ9AAAAAAACAn0AAAAAAAIyfQAAAAAAAjJ9AAAAAAACEn0AAAAAAAJCfQAAAAAAAkJ9AAAAAAACEn0AAAAAAAIyfQAAAAAAAhJ9AAAAAAACQn0AAAAAAAJCfQAAAAAAAlJ9AAAAAAACIn0AAAAAAAIyfQAAAAAAAgJ9AAAAAAACMn0AAAAAAAJCfQAAAAAAAiJ9AAAAAAACEn0AAAAAAAJCfQAAAAAAAhJ9AAAAAAACQn0AAAAAAAISfQAAAAAAAjJ9AAAAAAACEn0AAAAAAAIyfQAAAAAAAjJ9AAAAAAACEn0AAAAAAAISfQAAAAAAAhJ9AAAAAAACEn0AAAAAAAISfQAAAAAAAhJ9AAAAAAACEn0AAAAAAAISfQAAAAAAAhJ9AAAAAAACIn0AAAAAAAHyfQAAAAAAAjJ9AAAAAAACMn0AAAAAAAJCfQAAAAAAAiJ9AAAAAAABwn0AAAAAAAISfQAAAAAAAiJ9AAAAAAACMn0AAAAAAAISfQAAAAAAAiJ9AAAAAAACIn0AAAAAAAIifQAAAAAAAhJ9AAAAAAACIn0AAAAAAAJCfQAAAAAAAhJ9AAAAAAACIn0AAAAAAAIifQAAAAAAAhJ9AAAAAAACMn0AAAAAAAIyfQAAAAAAAiJ9AAAAAAACEn0AAAAAAAJCfQAAAAAAAjJ9AAAAAAACMn0AAAAAAAIifQAAAAAAAjJ9AAAAAAACMn0AAAAAAAJCfQAAAAAAAkJ9AAAAAAACQn0AAAAAAAJCfQAAAAAAAiJ9AAAAAAACIn0AAAAAAAJCfQAAAAAAAiJ9AAAAAAACIn0AAAAAAAIyfQAAAAAAAiJ9AAAAAAACMn0AAAAAAAHyfQAAAAAAAhJ9AAAAAAACEn0AAAAAAAIyfQAAAAAAAiJ9AAAAAAACMn0AAAAAAAIyfQAAAAAAAiJ9AAAAAAACMn0AAAAAAAIyfQAAAAAAAgJ9AAAAAAACIn0AAAAAAAIyfQAAAAAAAjJ9AAAAAAACIn0AAAAAAAIifQAAAAAAAiJ9AAAAAAACEn0AAAAAAAJCfQAAAAAAAiJ9AAAAAAACMn0AAAAAAAIyfQAAAAAAAhJ9AAAAAAACAn0AAAAAAAICfQAAAAAAAjJ9AAAAAAACIn0AAAAAAAJCfQAAAAAAAhJ9AAAAAAACMn0AAAAAAAIyfQAAAAAAAhJ9AAAAAAACIn0AAAAAAAICfQAAAAAAAhJ9AAAAAAACEn0AAAAAAAISfQAAAAAAAkJ9AAAAAAACIn0AAAAAAAIifQAAAAAAAiJ9AAAAAAACMn0AAAAAAAIyfQAAAAAAAjJ9AAAAAAACMn0AAAAAAAISfQAAAAAAAiJ9AAAAAAACIn0AAAAAAAIifQAAAAAAAhJ9AAAAAAACMn0AAAAAAAICfQAAAAAAAiJ9AAAAAAACIn0AAAAAAAICfQAAAAAAAhJ9AAAAAAACQn0AAAAAAAIyfQAAAAAAAaJ9AAAAAAACIn0AAAAAAAISfQAAAAAAAiJ9AAAAAAACEn0AAAAAAAHyfQAAAAAAAkJ9AAAAAAACEn0AAAAAAAIifQAAAAAAAiJ9AAAAAAACMn0AAAAAAAIifQAAAAAAAiJ9AAAAAAACMn0AAAAAAAIifQAAAAAAAiJ9AAAAAAACQn0AAAAAAAIifQAAAAAAAhJ9AAAAAAACIn0AAAAAAAISfQAAAAAAAiJ9AAAAAAACQn0AAAAAAAISfQAAAAAAAhJ9AAAAAAACMn0AAAAAAAJCfQAAAAAAAgJ9AAAAAAACEn0AAAAAAAIifQAAAAAAAjJ9AAAAAAACIn0AAAAAAAIifQAAAAAAAfJ9AAAAAAAB4n0AAAAAAAIifQAAAAAAAjJ9AAAAAAACMn0AAAAAAAIifQAAAAAAAiJ9AAAAAAACIn0AAAAAAAISfQAAAAAAAiJ9AAAAAAACMn0AAAAAAAISfQAAAAAAAiJ9AAAAAAACIn0AAAAAAAISfQAAAAAAAjJ9AAAAAAACMn0AAAAAAAIifQAAAAAAAjJ9AAAAAAACEn0AAAAAAAIifQAAAAAAAiJ9AAAAAAACIn0AAAAAAAIyfQAAAAAAAjJ9AAAAAAACMn0AAAAAAAISfQAAAAAAAjJ9AAAAAAACMn0AAAAAAAIifQAAAAAAAjJ9AAAAAAACMn0AAAAAAAJCfQAAAAAAAhJ9AAAAAAACIn0AAAAAAAIifQAAAAAAAkJ9AAAAAAACEn0AAAAAAAISfQAAAAAAAfJ9AAAAAAACEn0AAAAAAAISfQAAAAAAAhJ9AAAAAAACAn0AAAAAAAISfQAAAAAAAjJ9AAAAAAACEn0AAAAAAAIifQAAAAAAAhJ9AAAAAAACIn0AAAAAAAIifQAAAAAAAjJ9AAAAAAACQn0AAAAAAAIyfQAAAAAAAhJ9AAAAAAACMn0AAAAAAAICfQAAAAAAAjJ9AAAAAAACIn0AAAAAAAIifQAAAAAAAfJ9AAAAAAACIn0AAAAAAAIifQAAAAAAAiJ9AAAAAAACIn0AAAAAAAIifQAAAAAAAiJ9AAAAAAACEn0AAAAAAAIifQAAAAAAAhJ9AAAAAAAB8n0AAAAAAAIifQAAAAAAAkJ9AAAAAAACQn0AAAAAAAIyfQAAAAAAAhJ9AAAAAAACEn0AAAAAAAIifQAAAAAAAiJ9AAAAAAACIn0AAAAAAAISfQAAAAAAAiJ9AAAAAAACMn0AAAAAAAIifQAAAAAAAkJ9AAAAAAACEn0AAAAAAAIifQAAAAAAAjJ9AAAAAAACMn0AAAAAAAJSfQAAAAAAAjJ9AAAAAAACIn0AAAAAAAJCfQAAAAAAAiJ9AAAAAAACMn0AAAAAAAIifQAAAAAAAiJ9AAAAAAACIn0AAAAAAAIyfQAAAAAAAiJ9AAAAAAACEn0AAAAAAAISfQAAAAAAAhJ9AAAAAAAB8n0AAAAAAAHifQAAAAAAAjJ9AAAAAAACIn0AAAAAAAISfQAAAAAAAjJ9AAAAAAACIn0AAAAAAAIyfQAAAAAAAjJ9AAAAAAACIn0AAAAAAAIyfQAAAAAAAhJ9AAAAAAACIn0AAAAAAAJCfQAAAAAAAjJ9AAAAAAACEn0AAAAAAAISfQAAAAAAAhJ9AAAAAAACEn0AAAAAAAIyfQAAAAAAAiJ9AAAAAAACIn0AAAAAAAIifQAAAAAAAgJ9AAAAAAACAn0AAAAAAAISfQAAAAAAAhJ9AAAAAAACEn0AAAAAAAIyfQAAAAAAAkJ9AAAAAAACEn0AAAAAAAIyfQAAAAAAAiJ9AAAAAAACQn0AAAAAAAIyfQAAAAAAAkJ9AAAAAAACMn0AAAAAAAIifQAAAAAAAiJ9AAAAAAACMn0AAAAAAAJCfQAAAAAAAkJ9AAAAAAACMn0AAAAAAAIifQAAAAAAAjJ9AAAAAAACMn0AAAAAAAIyfQAAAAAAAjJ9AAAAAAACMn0AAAAAAAIyfQAAAAAAAjJ9AAAAAAACMn0AAAAAAAIyfQAAAAAAAjJ9AAAAAAACMn0AAAAAAAIyfQAAAAAAAjJ9AAAAAAACMn0AAAAAAAIyfQAAAAAAAjJ9AAAAAAACMn0AAAAAAAIyfQAAAAAAAjJ9AAAAAAACMn0AAAAAAAJCfQAAAAAAAjJ9AAAAAAACIn0AAAAAAAIifQAAAAAAAhJ9AAAAAAACIn0AAAAAAAIifQAAAAAAAiJ9AAAAAAACIn0AAAAAAAIifQAAAAAAAjJ9AAAAAAACMn0AAAAAAAIyfQAAAAAAAjJ9AAAAAAACMn0AAAAAAAICfQAAAAAAAhJ9AAAAAAACIn0AAAAAAAIifQAAAAAAAiJ9AAAAAAACEn0AAAAAAAIyfQAAAAAAAiJ9AAAAAAACIn0AAAAAAAIifQAAAAAAAiJ9AAAAAAACIn0AAAAAAAIifQAAAAAAAiJ9AAAAAAACQn0AAAAAAAIyfQAAAAAAAiJ9AAAAAAACMn0AAAAAAAISfQAAAAAAAjJ9AAAAAAACIn0AAAAAAAISfQAAAAAAAiJ9AAAAAAACIn0AAAAAAAIyfQAAAAAAAiJ9AAAAAAACEn0AAAAAAAJCfQAAAAAAAiJ9AAAAAAACEn0AAAAAAAIifQAAAAAAAiJ9AAAAAAACEn0AAAAAAAISfQAAAAAAAjJ9AAAAAAACQn0AAAAAAAIifQAAAAAAAjJ9AAAAAAACMn0AAAAAAAIifQAAAAAAAjJ9AAAAAAACIn0AAAAAAAIifQAAAAAAAiJ9AAAAAAACMn0AAAAAAAIifQAAAAAAAiJ9AAAAAAACAn0AAAAAAAICfQAAAAAAAjJ9AAAAAAACEn0AAAAAAAIyfQAAAAAAAkJ9AAAAAAACIn0AAAAAAAIifQAAAAAAAhJ9AAAAAAACUn0AAAAAAAISfQAAAAAAAiJ9AAAAAAACQn0AAAAAAAISfQAAAAAAAkJ9AAAAAAACIn0AAAAAAAIifQAAAAAAAiJ9AAAAAAAB4n0AAAAAAAISfQAAAAAAAjJ9AAAAAAACEn0AAAAAAAIyfQAAAAAAAjJ9AAAAAAACMn0AAAAAAAISfQAAAAAAAiJ9AAAAAAACMn0AAAAAAAISfQAAAAAAAjJ9AAAAAAACIn0AAAAAAAIifQAAAAAAAjJ9AAAAAAACMn0AAAAAAAJCfQAAAAAAAjJ9AAAAAAACIn0AAAAAAAIifQAAAAAAAiJ9AAAAAAACMn0AAAAAAAJCfQAAAAAAAiJ9AAAAAAACQn0AAAAAAAISfQAAAAAAAjJ9AAAAAAACMn0AAAAAAAIyfQAAAAAAAiJ9AAAAAAACMn0AAAAAAAICfQAAAAAAAgJ9AAAAAAACAn0AAAAAAAICfQAAAAAAAgJ9AAAAAAACAn0AAAAAAAICfQAAAAAAAgJ9AAAAAAACEn0AAAAAAAISfQAAAAAAAiJ9AAAAAAACAn0AAAAAAAIyfQAAAAAAAiJ9AAAAAAACIn0AAAAAAAIyfQAAAAAAAjJ9AAAAAAACIn0AAAAAAAIyfQAAAAAAAhJ9AAAAAAACEn0AAAAAAAISfQAAAAAAAkJ9AAAAAAACQn0AAAAAAAIyfQAAAAAAAiJ9AAAAAAACMn0AAAAAAAIyfQAAAAAAAhJ9AAAAAAACEn0AAAAAAAIyfQAAAAAAAiJ9AAAAAAACAn0AAAAAAAISfQAAAAAAAhJ9AAAAAAACMn0AAAAAAAIyfQAAAAAAAjJ9AAAAAAACMn0AAAAAAAIyfQAAAAAAAjJ9AAAAAAACIn0AAAAAAAIifQAAAAAAAgJ9AAAAAAACMn0AAAAAAAISfQAAAAAAAjJ9AAAAAAACMn0AAAAAAAISfQAAAAAAAjJ9AAAAAAACIn0AAAAAAAIifQAAAAAAAhJ9AAAAAAACMn0AAAAAAAICfQAAAAAAAhJ9AAAAAAACIn0AAAAAAAJCfQAAAAAAAkJ9AAAAAAACQn0AAAAAAAIifQAAAAAAAhJ9AAAAAAACIn0AAAAAAAISfQAAAAAAAiJ9AAAAAAACMn0AAAAAAAICfQAAAAAAAjJ9AAAAAAACIn0AAAAAAAISfQAAAAAAAhJ9AAAAAAACMn0AAAAAAAICfQAAAAAAAiJ9AAAAAAACMn0AAAAAAAIyfQAAAAAAAjJ9AAAAAAACMn0AAAAAAAIyfQAAAAAAAjJ9AAAAAAACEn0AAAAAAAIyfQAAAAAAAjJ9AAAAAAACEn0AAAAAAAISfQAAAAAAAiJ9AAAAAAACMn0AAAAAAAIyfQAAAAAAAhJ9AAAAAAACMn0AAAAAAAIyfQAAAAAAAiJ9AAAAAAACEn0AAAAAAAIyfQAAAAAAAjJ9AAAAAAACIn0AAAAAAAJCfQAAAAAAAjJ9AAAAAAACMn0AAAAAAAHyfQAAAAAAAdJ9AAAAAAACEn0AAAAAAAISfQAAAAAAAlJ9AAAAAAACMn0AAAAAAAISfQAAAAAAAhJ9AAAAAAACEn0AAAAAAAIyfQAAAAAAAhJ9AAAAAAACQn0AAAAAAAISfQAAAAAAAiJ9AAAAAAACIn0AAAAAAAIyfQAAAAAAAiJ9AAAAAAACIn0AAAAAAAIyfQAAAAAAAiJ9AAAAAAACMn0AAAAAAAISfQAAAAAAAiJ9AAAAAAACMn0AAAAAAAISfQAAAAAAAfJ9AAAAAAACMn0AAAAAAAISfQAAAAAAAhJ9AAAAAAACIn0AAAAAAAIifQAAAAAAAjJ9AAAAAAACMn0AAAAAAAIifQAAAAAAAjJ9AAAAAAACQn0AAAAAAAISfQAAAAAAAjJ9AAAAAAACMn0AAAAAAAJCfQAAAAAAAiJ9AAAAAAACQn0AAAAAAAJCfQAAAAAAAkJ9AAAAAAACQn0AAAAAAAIifQAAAAAAAkJ9AAAAAAACMn0AAAAAAAIifQAAAAAAAjJ9AAAAAAACMn0AAAAAAAJCfQAAAAAAAkJ9AAAAAAACMn0AAAAAAAIyfQAAAAAAAiJ9AAAAAAACIn0AAAAAAAISfQAAAAAAAhJ9AAAAAAACEn0AAAAAAAISfQAAAAAAAhJ9AAAAAAACEn0AAAAAAAISfQAAAAAAAhJ9AAAAAAACEn0AAAAAAAISfQAAAAAAAhJ9AAAAAAACMn0AAAAAAAIifQAAAAAAAkJ9AAAAAAACUn0AAAAAAAJSfQAAAAAAAhJ9AAAAAAACEn0AAAAAAAIyfQAAAAAAAiJ9AAAAAAACIn0AAAAAAAIifQAAAAAAAiJ9AAAAAAACIn0AAAAAAAIyfQAAAAAAAiJ9AAAAAAACQn0AAAAAAAISfQAAAAAAAlJ9AAAAAAACMn0AAAAAAAIifQAAAAAAAiJ9AAAAAAACIn0AAAAAAAIifQAAAAAAAjJ9AAAAAAACMn0AAAAAAAISfQAAAAAAAiJ9AAAAAAACIn0AAAAAAAIyfQAAAAAAAiJ9AAAAAAACIn0AAAAAAAIyfQAAAAAAAhJ9AAAAAAACEn0AAAAAAAIifQAAAAAAAiJ9AAAAAAACMn0AAAAAAAJCfQAAAAAAAgJ9AAAAAAACIn0AAAAAAAIyfQAAAAAAAhJ9AAAAAAACIn0AAAAAAAIyfQAAAAAAAhJ9AAAAAAACQn0AAAAAAAIyfQAAAAAAAkJ9AAAAAAACIn0AAAAAAAIyfQAAAAAAAjJ9AAAAAAACEn0AAAAAAAHyfQAAAAAAAkJ9AAAAAAACIn0AAAAAAAIyfQAAAAAAAjJ9AAAAAAACIn0AAAAAAAIyfQAAAAAAAjJ9AAAAAAACIn0AAAAAAAISfQAAAAAAAjJ9AAAAAAACIn0AAAAAAAICfQAAAAAAAkJ9AAAAAAACMn0AAAAAAAICfQAAAAAAAjJ9AAAAAAACEn0AAAAAAAJCfQAAAAAAAjJ9AAAAAAACMn0AAAAAAAIyfQAAAAAAAkJ9AAAAAAACUn0AAAAAAAJCfQAAAAAAAjJ9AAAAAAACMn0AAAAAAAIyfQAAAAAAAgJ9AAAAAAACMn0AAAAAAAIyfQAAAAAAAiJ9AAAAAAACEn0AAAAAAAIifQAAAAAAAjJ9AAAAAAACAn0AAAAAAAIyfQAAAAAAAjJ9AAAAAAACIn0AAAAAAAIifQAAAAAAAiJ9AAAAAAACIn0AAAAAAAISfQAAAAAAAfJ9AAAAAAACEn0AAAAAAAJCfQAAAAAAAkJ9AAAAAAACQn0AAAAAAAJCfQAAAAAAAhJ9AAAAAAACMn0AAAAAAAJSfQAAAAAAAhJ9AAAAAAACQn0AAAAAAAIyfQAAAAAAAfJ9AAAAAAACIn0AAAAAAAIifQAAAAAAAgJ9AAAAAAACEn0AAAAAAAJCfQAAAAAAAgJ9AAAAAAACEn0AAAAAAAIyfQAAAAAAAiJ9AAAAAAACIn0AAAAAAAJSfQAAAAAAAjJ9AAAAAAACMn0AAAAAAAIyfQAAAAAAAiJ9AAAAAAACIn0AAAAAAAIifQAAAAAAAhJ9AAAAAAACMn0AAAAAAAJCfQAAAAAAAjJ9AAAAAAACMn0AAAAAAAISfQAAAAAAAiJ9AAAAAAACIn0AAAAAAAIifQAAAAAAAjJ9AAAAAAACEn0AAAAAAAIifQAAAAAAAiJ9AAAAAAACEn0AAAAAAAIyfQAAAAAAAjJ9AAAAAAACEn0AAAAAAAIifQAAAAAAAhJ9AAAAAAACMn0AAAAAAAJCfQAAAAAAAkJ9AAAAAAACIn0AAAAAAAICfQAAAAAAAiJ9AAAAAAACMn0AAAAAAAJCfQAAAAAAAkJ9AAAAAAACAn0AAAAAAAIifQAAAAAAAhJ9AAAAAAACEn0AAAAAAAIyfQAAAAAAAiJ9AAAAAAACMn0AAAAAAAIifQAAAAAAAhJ9AAAAAAACQn0AAAAAAAIyfQAAAAAAAiJ9AAAAAAACIn0AAAAAAAJSfQAAAAAAAkJ9AAAAAAACQn0AAAAAAAJCfQAAAAAAAjJ9AAAAAAACEn0AAAAAAAIifQAAAAAAAkJ9AAAAAAACQn0AAAAAAAIifQAAAAAAAiJ9AAAAAAACIn0AAAAAAAISfQAAAAAAAiJ9AAAAAAACMn0AAAAAAAISfQAAAAAAAiJ9AAAAAAACEn0AAAAAAAIyfQAAAAAAAjJ9AAAAAAACEn0AAAAAAAIyfQAAAAAAAhJ9AAAAAAACMn0AAAAAAAIyfQAAAAAAAkJ9AAAAAAACMn0AAAAAAAIyfQAAAAAAAjJ9AAAAAAACIn0AAAAAAAIyfQAAAAAAAjJ9AAAAAAACMn0AAAAAAAIyfQAAAAAAAjJ9AAAAAAACIn0AAAAAAAIyfQAAAAAAAkJ9AAAAAAACIn0AAAAAAAIifQAAAAAAAkJ9AAAAAAACIn0AAAAAAAISfQAAAAAAAjJ9AAAAAAACMn0AAAAAAAISfQAAAAAAAjJ9AAAAAAACEn0AAAAAAAICfQAAAAAAAjJ9AAAAAAACMn0AAAAAAAIyfQAAAAAAAiJ9AAAAAAACMn0AAAAAAAIyfQAAAAAAAjJ9AAAAAAACMn0AAAAAAAJCfQAAAAAAAjJ9AAAAAAACMn0AAAAAAAIyfQAAAAAAAkJ9AAAAAAACEn0AAAAAAAIifQAAAAAAAiJ9AAAAAAACMn0AAAAAAAIyfQAAAAAAAiJ9AAAAAAACEn0AAAAAAAIyfQAAAAAAAlJ9AAAAAAACIn0AAAAAAAIyfQAAAAAAAiJ9AAAAAAACMn0AAAAAAAIyfQAAAAAAAiJ9AAAAAAACIn0AAAAAAAISfQAAAAAAAjJ9AAAAAAACQn0AAAAAAAJCfQAAAAAAAhJ9AAAAAAACIn0AAAAAAAIifQAAAAAAAkJ9AAAAAAACMn0AAAAAAAISfQAAAAAAAgJ9AAAAAAACIn0AAAAAAAIyfQAAAAAAAjJ9AAAAAAACQn0AAAAAAAICfQAAAAAAAjJ9AAAAAAACMn0AAAAAAAIifQAAAAAAAjJ9AAAAAAACMn0AAAAAAAIifQAAAAAAAjJ9AAAAAAACIn0AAAAAAAJCfQAAAAAAAhJ9AAAAAAACQn0AAAAAAAISfQAAAAAAAkJ9AAAAAAACIn0AAAAAAAIyfQAAAAAAAkJ9AAAAAAACUn0AAAAAAAIyfQAAAAAAAiJ9AAAAAAACAn0AAAAAAAIyfQAAAAAAAiJ9AAAAAAACIn0AAAAAAAIifQAAAAAAAiJ9AAAAAAACMn0AAAAAAAIyfQAAAAAAAjJ9AAAAAAACQn0AAAAAAAISfQAAAAAAAiJ9AAAAAAACQn0AAAAAAAIyfQAAAAAAAkJ9AAAAAAACMn0AAAAAAAICfQAAAAAAAiJ9AAAAAAACEn0AAAAAAAIifQAAAAAAAhJ9AAAAAAACEn0AAAAAAAIifQAAAAAAAjJ9AAAAAAACIn0AAAAAAAISfQAAAAAAAjJ9AAAAAAACEn0AAAAAAAIyfQAAAAAAAjJ9AAAAAAACQn0AAAAAAAIifQAAAAAAAhJ9AAAAAAACMn0AAAAAAAJCfQAAAAAAAgJ9AAAAAAACMn0AAAAAAAIifQAAAAAAAjJ9AAAAAAACIn0AAAAAAAIifQAAAAAAAiJ9AAAAAAACMn0AAAAAAAIifQAAAAAAAhJ9AAAAAAACAn0AAAAAAAIyfQAAAAAAAkJ9AAAAAAACIn0AAAAAAAICfQAAAAAAAjJ9AAAAAAACMn0AAAAAAAISfQAAAAAAAjJ9AAAAAAACIn0AAAAAAAIifQAAAAAAAkJ9AAAAAAACMn0AAAAAAAIifQAAAAAAAiJ9AAAAAAACMn0AAAAAAAIyfQAAAAAAAjJ9AAAAAAACAn0AAAAAAAJCfQAAAAAAAkJ9AAAAAAACMn0AAAAAAAISfQAAAAAAAjJ9AAAAAAACIn0AAAAAAAIifQAAAAAAAiJ9AAAAAAACQn0AAAAAAAIyfQAAAAAAAjJ9AAAAAAACMn0AAAAAAAIyfQAAAAAAAhJ9AAAAAAACEn0AAAAAAAIyfQAAAAAAAgJ9AAAAAAACMn0AAAAAAAHyfQAAAAAAAkJ9AAAAAAACIn0AAAAAAAJCfQAAAAAAAlJ9AAAAAAACQn0AAAAAAAISfQAAAAAAAjJ9AAAAAAACAn0AAAAAAAIyfQAAAAAAAjJ9AAAAAAACMn0AAAAAAAJCfQAAAAAAAiJ9AAAAAAACMn0AAAAAAAJCfQAAAAAAAjJ9AAAAAAACIn0AAAAAAAJCfQAAAAAAAjJ9AAAAAAAB8n0AAAAAAAIyfQAAAAAAAeJ9AAAAAAACIn0AAAAAAAJCfQAAAAAAAhJ9AAAAAAACIn0AAAAAAAIyfQAAAAAAAlJ9AAAAAAACIn0AAAAAAAISfQAAAAAAAjJ9AAAAAAACQn0AAAAAAAIyfQAAAAAAAhJ9AAAAAAACMn0AAAAAAAIyfQAAAAAAAjJ9AAAAAAACIn0AAAAAAAIyfQAAAAAAAhJ9AAAAAAACEn0AAAAAAAIyfQAAAAAAAiJ9AAAAAAACIn0AAAAAAAIyfQAAAAAAAhJ9AAAAAAACIn0AAAAAAAIyfQAAAAAAAkJ9AAAAAAACEn0AAAAAAAISfQAAAAAAAiJ9AAAAAAACMn0AAAAAAAJCfQAAAAAAAiJ9AAAAAAACMn0AAAAAAAISfQAAAAAAAhJ9AAAAAAACMn0AAAAAAAIyfQAAAAAAAiJ9AAAAAAACIn0AAAAAAAIyfQAAAAAAAhJ9AAAAAAACIn0AAAAAAAJCfQAAAAAAAkJ9AAAAAAACIn0AAAAAAAISfQAAAAAAAiJ9AAAAAAACQn0AAAAAAAIyfQAAAAAAAiJ9AAAAAAACMn0AAAAAAAJCfQAAAAAAAjJ9AAAAAAACEn0AAAAAAAIyfQAAAAAAAhJ9AAAAAAACMn0AAAAAAAIifQAAAAAAAjJ9AAAAAAACQn0AAAAAAAIyfQAAAAAAAjJ9AAAAAAACIn0AAAAAAAIifQAAAAAAAjJ9AAAAAAACMn0AAAAAAAIyfQAAAAAAAiJ9AAAAAAACEn0AAAAAAAIyfQAAAAAAAhJ9AAAAAAACMn0AAAAAAAIyfQAAAAAAAiJ9AAAAAAACEn0AAAAAAAIyfQAAAAAAAkJ9AAAAAAACMn0AAAAAAAIyfQAAAAAAAiJ9AAAAAAACEn0AAAAAAAIyfQAAAAAAAjJ9AAAAAAACIn0AAAAAAAIyfQAAAAAAAhJ9AAAAAAACEn0AAAAAAAIifQAAAAAAAjJ9AAAAAAACMn0AAAAAAAIyfQAAAAAAAhJ9AAAAAAACIn0AAAAAAAISfQAAAAAAAiJ9AAAAAAACMn0AAAAAAAICfQAAAAAAAhJ9AAAAAAAB8n0AAAAAAAISfQAAAAAAAiJ9AAAAAAACIn0AAAAAAAJCfQAAAAAAAgJ9AAAAAAACAn0AAAAAAAISfQAAAAAAAjJ9AAAAAAACIn0AAAAAAAISfQAAAAAAAhJ9AAAAAAACIn0AAAAAAAIifQAAAAAAAfJ9AAAAAAACMn0AAAAAAAISfQAAAAAAAjJ9AAAAAAACEn0AAAAAAAIyfQAAAAAAAjJ9AAAAAAACIn0AAAAAAAJCfQAAAAAAAgJ9AAAAAAACMn0AAAAAAAIyfQAAAAAAAiJ9AAAAAAACEn0AAAAAAAIyfQAAAAAAAiJ9AAAAAAACIn0AAAAAAAIyfQAAAAAAAhJ9AAAAAAACIn0AAAAAAAICfQAAAAAAAkJ9AAAAAAACQn0AAAAAAAJCfQAAAAAAAkJ9AAAAAAACQn0AAAAAAAIifQAAAAAAAjJ9AAAAAAACMn0AAAAAAAIifQAAAAAAAhJ9AAAAAAACQn0AAAAAAAIifQAAAAAAAiJ9AAAAAAACQn0AAAAAAAIifQAAAAAAAkJ9AAAAAAACMn0AAAAAAAIifQAAAAAAAhJ9AAAAAAACMn0AAAAAAAIifQAAAAAAAhJ9AAAAAAACMn0AAAAAAAISfQAAAAAAAjJ9AAAAAAACEn0AAAAAAAHyfQAAAAAAAjJ9AAAAAAACEn0AAAAAAAIifQAAAAAAAjJ9AAAAAAACEn0AAAAAAAISfQAAAAAAAiJ9AAAAAAACEn0AAAAAAAISfQAAAAAAAjJ9AAAAAAACMn0AAAAAAAIyfQAAAAAAAkJ9AAAAAAACIn0AAAAAAAIyfQAAAAAAAjJ9AAAAAAACIn0AAAAAAAIyfQAAAAAAAhJ9AAAAAAACMn0AAAAAAAISfQAAAAAAAhJ9AAAAAAACEn0AAAAAAAIyfQAAAAAAAhJ9AAAAAAACEn0AAAAAAAIifQAAAAAAAhJ9AAAAAAACEn0AAAAAAAIyfQAAAAAAAjJ9AAAAAAACEn0AAAAAAAISfQAAAAAAAiJ9AAAAAAACQn0AAAAAAAIyfQAAAAAAAhJ9AAAAAAACMn0AAAAAAAIyfQAAAAAAAjJ9AAAAAAACMn0AAAAAAAIyfQAAAAAAAjJ9AAAAAAACEn0AAAAAAAIifQAAAAAAAiJ9AAAAAAACQn0AAAAAAAIyfQAAAAAAAgJ9AAAAAAACMn0AAAAAAAIifQAAAAAAAhJ9AAAAAAACMn0AAAAAAAIifQAAAAAAAiJ9AAAAAAACEn0AAAAAAAISfQAAAAAAAiJ9AAAAAAACMn0AAAAAAAIyfQAAAAAAAiJ9AAAAAAACQn0AAAAAAAIyfQAAAAAAAiJ9AAAAAAACIn0AAAAAAAICfQAAAAAAAgJ9AAAAAAACQn0AAAAAAAIifQAAAAAAAhJ9AAAAAAACMn0AAAAAAAISfQAAAAAAAhJ9AAAAAAACMn0AAAAAAAIyfQAAAAAAAhJ9AAAAAAACEn0AAAAAAAJCfQAAAAAAAkJ9AAAAAAACEn0AAAAAAAJCfQAAAAAAAiJ9AAAAAAACAn0AAAAAAAIyfQAAAAAAAiJ9AAAAAAACMn0AAAAAAAIifQAAAAAAAjJ9AAAAAAACMn0AAAAAAAIyfQAAAAAAAjJ9AAAAAAACMn0AAAAAAAISfQAAAAAAAhJ9AAAAAAACEn0AAAAAAAJCfQAAAAAAAhJ9AAAAAAACMn0AAAAAAAIyfQAAAAAAAhJ9AAAAAAACIn0AAAAAAAIifQAAAAAAAhJ9AAAAAAACEn0AAAAAAAIifQAAAAAAAjJ9AAAAAAAB8n0AAAAAAAIifQAAAAAAAiJ9AAAAAAACIn0AAAAAAAICfQAAAAAAAgJ9AAAAAAACIn0AAAAAAAISfQAAAAAAAhJ9AAAAAAACAn0AAAAAAAIyfQAAAAAAAjJ9AAAAAAACMn0AAAAAAAICfQAAAAAAAjJ9AAAAAAACIn0AAAAAAAIyfQAAAAAAAiJ9AAAAAAACAn0AAAAAAAIyfQAAAAAAAjJ9AAAAAAACQn0AAAAAAAIyfQA==",
          "dtype": "f8"
         },
         "xaxis": "x",
         "yaxis": "y"
        },
        {
         "alignmentgroup": "True",
         "bingroup": "x",
         "hovertemplate": "type=TV Show<br>year_added=%{x}<br>count=%{y}<extra></extra>",
         "legendgroup": "TV Show",
         "marker": {
          "color": "#EF553B",
          "pattern": {
           "shape": ""
          }
         },
         "name": "TV Show",
         "offsetgroup": "TV Show",
         "orientation": "v",
         "showlegend": true,
         "type": "histogram",
         "x": {
          "bdata": "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",
          "dtype": "f8"
         },
         "xaxis": "x",
         "yaxis": "y"
        }
       ],
       "layout": {
        "barmode": "group",
        "legend": {
         "title": {
          "text": "type"
         },
         "tracegroupgap": 0
        },
        "template": {
         "data": {
          "bar": [
           {
            "error_x": {
             "color": "#2a3f5f"
            },
            "error_y": {
             "color": "#2a3f5f"
            },
            "marker": {
             "line": {
              "color": "#E5ECF6",
              "width": 0.5
             },
             "pattern": {
              "fillmode": "overlay",
              "size": 10,
              "solidity": 0.2
             }
            },
            "type": "bar"
           }
          ],
          "barpolar": [
           {
            "marker": {
             "line": {
              "color": "#E5ECF6",
              "width": 0.5
             },
             "pattern": {
              "fillmode": "overlay",
              "size": 10,
              "solidity": 0.2
             }
            },
            "type": "barpolar"
           }
          ],
          "carpet": [
           {
            "aaxis": {
             "endlinecolor": "#2a3f5f",
             "gridcolor": "white",
             "linecolor": "white",
             "minorgridcolor": "white",
             "startlinecolor": "#2a3f5f"
            },
            "baxis": {
             "endlinecolor": "#2a3f5f",
             "gridcolor": "white",
             "linecolor": "white",
             "minorgridcolor": "white",
             "startlinecolor": "#2a3f5f"
            },
            "type": "carpet"
           }
          ],
          "choropleth": [
           {
            "colorbar": {
             "outlinewidth": 0,
             "ticks": ""
            },
            "type": "choropleth"
           }
          ],
          "contour": [
           {
            "colorbar": {
             "outlinewidth": 0,
             "ticks": ""
            },
            "colorscale": [
             [
              0,
              "#0d0887"
             ],
             [
              0.1111111111111111,
              "#46039f"
             ],
             [
              0.2222222222222222,
              "#7201a8"
             ],
             [
              0.3333333333333333,
              "#9c179e"
             ],
             [
              0.4444444444444444,
              "#bd3786"
             ],
             [
              0.5555555555555556,
              "#d8576b"
             ],
             [
              0.6666666666666666,
              "#ed7953"
             ],
             [
              0.7777777777777778,
              "#fb9f3a"
             ],
             [
              0.8888888888888888,
              "#fdca26"
             ],
             [
              1,
              "#f0f921"
             ]
            ],
            "type": "contour"
           }
          ],
          "contourcarpet": [
           {
            "colorbar": {
             "outlinewidth": 0,
             "ticks": ""
            },
            "type": "contourcarpet"
           }
          ],
          "heatmap": [
           {
            "colorbar": {
             "outlinewidth": 0,
             "ticks": ""
            },
            "colorscale": [
             [
              0,
              "#0d0887"
             ],
             [
              0.1111111111111111,
              "#46039f"
             ],
             [
              0.2222222222222222,
              "#7201a8"
             ],
             [
              0.3333333333333333,
              "#9c179e"
             ],
             [
              0.4444444444444444,
              "#bd3786"
             ],
             [
              0.5555555555555556,
              "#d8576b"
             ],
             [
              0.6666666666666666,
              "#ed7953"
             ],
             [
              0.7777777777777778,
              "#fb9f3a"
             ],
             [
              0.8888888888888888,
              "#fdca26"
             ],
             [
              1,
              "#f0f921"
             ]
            ],
            "type": "heatmap"
           }
          ],
          "histogram": [
           {
            "marker": {
             "pattern": {
              "fillmode": "overlay",
              "size": 10,
              "solidity": 0.2
             }
            },
            "type": "histogram"
           }
          ],
          "histogram2d": [
           {
            "colorbar": {
             "outlinewidth": 0,
             "ticks": ""
            },
            "colorscale": [
             [
              0,
              "#0d0887"
             ],
             [
              0.1111111111111111,
              "#46039f"
             ],
             [
              0.2222222222222222,
              "#7201a8"
             ],
             [
              0.3333333333333333,
              "#9c179e"
             ],
             [
              0.4444444444444444,
              "#bd3786"
             ],
             [
              0.5555555555555556,
              "#d8576b"
             ],
             [
              0.6666666666666666,
              "#ed7953"
             ],
             [
              0.7777777777777778,
              "#fb9f3a"
             ],
             [
              0.8888888888888888,
              "#fdca26"
             ],
             [
              1,
              "#f0f921"
             ]
            ],
            "type": "histogram2d"
           }
          ],
          "histogram2dcontour": [
           {
            "colorbar": {
             "outlinewidth": 0,
             "ticks": ""
            },
            "colorscale": [
             [
              0,
              "#0d0887"
             ],
             [
              0.1111111111111111,
              "#46039f"
             ],
             [
              0.2222222222222222,
              "#7201a8"
             ],
             [
              0.3333333333333333,
              "#9c179e"
             ],
             [
              0.4444444444444444,
              "#bd3786"
             ],
             [
              0.5555555555555556,
              "#d8576b"
             ],
             [
              0.6666666666666666,
              "#ed7953"
             ],
             [
              0.7777777777777778,
              "#fb9f3a"
             ],
             [
              0.8888888888888888,
              "#fdca26"
             ],
             [
              1,
              "#f0f921"
             ]
            ],
            "type": "histogram2dcontour"
           }
          ],
          "mesh3d": [
           {
            "colorbar": {
             "outlinewidth": 0,
             "ticks": ""
            },
            "type": "mesh3d"
           }
          ],
          "parcoords": [
           {
            "line": {
             "colorbar": {
              "outlinewidth": 0,
              "ticks": ""
             }
            },
            "type": "parcoords"
           }
          ],
          "pie": [
           {
            "automargin": true,
            "type": "pie"
           }
          ],
          "scatter": [
           {
            "fillpattern": {
             "fillmode": "overlay",
             "size": 10,
             "solidity": 0.2
            },
            "type": "scatter"
           }
          ],
          "scatter3d": [
           {
            "line": {
             "colorbar": {
              "outlinewidth": 0,
              "ticks": ""
             }
            },
            "marker": {
             "colorbar": {
              "outlinewidth": 0,
              "ticks": ""
             }
            },
            "type": "scatter3d"
           }
          ],
          "scattercarpet": [
           {
            "marker": {
             "colorbar": {
              "outlinewidth": 0,
              "ticks": ""
             }
            },
            "type": "scattercarpet"
           }
          ],
          "scattergeo": [
           {
            "marker": {
             "colorbar": {
              "outlinewidth": 0,
              "ticks": ""
             }
            },
            "type": "scattergeo"
           }
          ],
          "scattergl": [
           {
            "marker": {
             "colorbar": {
              "outlinewidth": 0,
              "ticks": ""
             }
            },
            "type": "scattergl"
           }
          ],
          "scattermap": [
           {
            "marker": {
             "colorbar": {
              "outlinewidth": 0,
              "ticks": ""
             }
            },
            "type": "scattermap"
           }
          ],
          "scattermapbox": [
           {
            "marker": {
             "colorbar": {
              "outlinewidth": 0,
              "ticks": ""
             }
            },
            "type": "scattermapbox"
           }
          ],
          "scatterpolar": [
           {
            "marker": {
             "colorbar": {
              "outlinewidth": 0,
              "ticks": ""
             }
            },
            "type": "scatterpolar"
           }
          ],
          "scatterpolargl": [
           {
            "marker": {
             "colorbar": {
              "outlinewidth": 0,
              "ticks": ""
             }
            },
            "type": "scatterpolargl"
           }
          ],
          "scatterternary": [
           {
            "marker": {
             "colorbar": {
              "outlinewidth": 0,
              "ticks": ""
             }
            },
            "type": "scatterternary"
           }
          ],
          "surface": [
           {
            "colorbar": {
             "outlinewidth": 0,
             "ticks": ""
            },
            "colorscale": [
             [
              0,
              "#0d0887"
             ],
             [
              0.1111111111111111,
              "#46039f"
             ],
             [
              0.2222222222222222,
              "#7201a8"
             ],
             [
              0.3333333333333333,
              "#9c179e"
             ],
             [
              0.4444444444444444,
              "#bd3786"
             ],
             [
              0.5555555555555556,
              "#d8576b"
             ],
             [
              0.6666666666666666,
              "#ed7953"
             ],
             [
              0.7777777777777778,
              "#fb9f3a"
             ],
             [
              0.8888888888888888,
              "#fdca26"
             ],
             [
              1,
              "#f0f921"
             ]
            ],
            "type": "surface"
           }
          ],
          "table": [
           {
            "cells": {
             "fill": {
              "color": "#EBF0F8"
             },
             "line": {
              "color": "white"
             }
            },
            "header": {
             "fill": {
              "color": "#C8D4E3"
             },
             "line": {
              "color": "white"
             }
            },
            "type": "table"
           }
          ]
         },
         "layout": {
          "annotationdefaults": {
           "arrowcolor": "#2a3f5f",
           "arrowhead": 0,
           "arrowwidth": 1
          },
          "autotypenumbers": "strict",
          "coloraxis": {
           "colorbar": {
            "outlinewidth": 0,
            "ticks": ""
           }
          },
          "colorscale": {
           "diverging": [
            [
             0,
             "#8e0152"
            ],
            [
             0.1,
             "#c51b7d"
            ],
            [
             0.2,
             "#de77ae"
            ],
            [
             0.3,
             "#f1b6da"
            ],
            [
             0.4,
             "#fde0ef"
            ],
            [
             0.5,
             "#f7f7f7"
            ],
            [
             0.6,
             "#e6f5d0"
            ],
            [
             0.7,
             "#b8e186"
            ],
            [
             0.8,
             "#7fbc41"
            ],
            [
             0.9,
             "#4d9221"
            ],
            [
             1,
             "#276419"
            ]
           ],
           "sequential": [
            [
             0,
             "#0d0887"
            ],
            [
             0.1111111111111111,
             "#46039f"
            ],
            [
             0.2222222222222222,
             "#7201a8"
            ],
            [
             0.3333333333333333,
             "#9c179e"
            ],
            [
             0.4444444444444444,
             "#bd3786"
            ],
            [
             0.5555555555555556,
             "#d8576b"
            ],
            [
             0.6666666666666666,
             "#ed7953"
            ],
            [
             0.7777777777777778,
             "#fb9f3a"
            ],
            [
             0.8888888888888888,
             "#fdca26"
            ],
            [
             1,
             "#f0f921"
            ]
           ],
           "sequentialminus": [
            [
             0,
             "#0d0887"
            ],
            [
             0.1111111111111111,
             "#46039f"
            ],
            [
             0.2222222222222222,
             "#7201a8"
            ],
            [
             0.3333333333333333,
             "#9c179e"
            ],
            [
             0.4444444444444444,
             "#bd3786"
            ],
            [
             0.5555555555555556,
             "#d8576b"
            ],
            [
             0.6666666666666666,
             "#ed7953"
            ],
            [
             0.7777777777777778,
             "#fb9f3a"
            ],
            [
             0.8888888888888888,
             "#fdca26"
            ],
            [
             1,
             "#f0f921"
            ]
           ]
          },
          "colorway": [
           "#636efa",
           "#EF553B",
           "#00cc96",
           "#ab63fa",
           "#FFA15A",
           "#19d3f3",
           "#FF6692",
           "#B6E880",
           "#FF97FF",
           "#FECB52"
          ],
          "font": {
           "color": "#2a3f5f"
          },
          "geo": {
           "bgcolor": "white",
           "lakecolor": "white",
           "landcolor": "#E5ECF6",
           "showlakes": true,
           "showland": true,
           "subunitcolor": "white"
          },
          "hoverlabel": {
           "align": "left"
          },
          "hovermode": "closest",
          "mapbox": {
           "style": "light"
          },
          "paper_bgcolor": "white",
          "plot_bgcolor": "#E5ECF6",
          "polar": {
           "angularaxis": {
            "gridcolor": "white",
            "linecolor": "white",
            "ticks": ""
           },
           "bgcolor": "#E5ECF6",
           "radialaxis": {
            "gridcolor": "white",
            "linecolor": "white",
            "ticks": ""
           }
          },
          "scene": {
           "xaxis": {
            "backgroundcolor": "#E5ECF6",
            "gridcolor": "white",
            "gridwidth": 2,
            "linecolor": "white",
            "showbackground": true,
            "ticks": "",
            "zerolinecolor": "white"
           },
           "yaxis": {
            "backgroundcolor": "#E5ECF6",
            "gridcolor": "white",
            "gridwidth": 2,
            "linecolor": "white",
            "showbackground": true,
            "ticks": "",
            "zerolinecolor": "white"
           },
           "zaxis": {
            "backgroundcolor": "#E5ECF6",
            "gridcolor": "white",
            "gridwidth": 2,
            "linecolor": "white",
            "showbackground": true,
            "ticks": "",
            "zerolinecolor": "white"
           }
          },
          "shapedefaults": {
           "line": {
            "color": "#2a3f5f"
           }
          },
          "ternary": {
           "aaxis": {
            "gridcolor": "white",
            "linecolor": "white",
            "ticks": ""
           },
           "baxis": {
            "gridcolor": "white",
            "linecolor": "white",
            "ticks": ""
           },
           "bgcolor": "#E5ECF6",
           "caxis": {
            "gridcolor": "white",
            "linecolor": "white",
            "ticks": ""
           }
          },
          "title": {
           "x": 0.05
          },
          "xaxis": {
           "automargin": true,
           "gridcolor": "white",
           "linecolor": "white",
           "ticks": "",
           "title": {
            "standoff": 15
           },
           "zerolinecolor": "white",
           "zerolinewidth": 2
          },
          "yaxis": {
           "automargin": true,
           "gridcolor": "white",
           "linecolor": "white",
           "ticks": "",
           "title": {
            "standoff": 15
           },
           "zerolinecolor": "white",
           "zerolinewidth": 2
          }
         }
        },
        "title": {
         "text": "Year-wise Content Added by Type"
        },
        "xaxis": {
         "anchor": "y",
         "domain": [
          0,
          1
         ],
         "title": {
          "text": "year_added"
         }
        },
        "yaxis": {
         "anchor": "x",
         "domain": [
          0,
          1
         ],
         "title": {
          "text": "count"
         }
        }
       }
      }
     },
     "metadata": {},
     "output_type": "display_data"
    }
   ],
   "source": [
    "import plotly.express as px\n",
    "\n",
    "fig = px.histogram(df, x='year_added', color='type', barmode='group',\n",
    "                   title=\"Year-wise Content Added by Type\")\n",
    "fig.show()\n"
   ]
  },
  {
   "cell_type": "code",
   "execution_count": 37,
   "id": "03729295",
   "metadata": {},
   "outputs": [
    {
     "data": {
      "image/png": "[encoded data removed]",
      "text/plain": [
       "<Figure size 1200x600 with 1 Axes>"
      ]
     },
     "metadata": {},
     "output_type": "display_data"
    }
   ],
   "source": [
    "# Count content per year\n",
    "content_by_year = df['year_added'].value_counts().sort_index()\n",
    "\n",
    "# Plot\n",
    "plt.figure(figsize=(12,6))\n",
    "sns.lineplot(x=content_by_year.index, y=content_by_year.values, marker='o', linewidth=2)\n",
    "plt.title(\"Netflix Content Added Per Year\", fontsize=14)\n",
    "plt.xlabel(\"Year\")\n",
    "plt.ylabel(\"Number of Titles Added\")\n",
    "plt.grid(True)\n",
    "plt.xticks(rotation=45)\n",
    "plt.show()\n"
   ]
  },
  {
   "cell_type": "code",
   "execution_count": 38,
   "id": "fcd98c89",
   "metadata": {},
   "outputs": [
    {
     "name": "stderr",
     "output_type": "stream",
     "text": [
      "C:\\Users\\SC\\AppData\\Local\\Temp\\ipykernel_2396\\3480802047.py:5: DeprecationWarning:\n",
      "\n",
      "DataFrameGroupBy.apply operated on the grouping columns. This behavior is deprecated, and in a future version of pandas the grouping columns will be excluded from the operation. Either pass `include_groups=False` to exclude the groupings or explicitly select the grouping columns after groupby to silence this warning.\n",
      "\n"
     ]
    },
    {
     "data": {
      "image/png": "[encoded data removed]",
      "text/plain": [
       "<Figure size 1400x800 with 1 Axes>"
      ]
     },
     "metadata": {},
     "output_type": "display_data"
    }
   ],
   "source": [
    "# Group by country and genre_list and count occurrences\n",
    "genre_by_country = df_top.groupby(['country', 'genre_list']).size().reset_index(name='count')\n",
    "\n",
    "# Sort by count and filter for top genres (if necessary)\n",
    "top_genre_by_country = genre_by_country.groupby('country').apply(lambda x: x.nlargest(5, 'count')).reset_index(drop=True)\n",
    "\n",
    "# Plot\n",
    "plt.figure(figsize=(14,8))\n",
    "sns.barplot(x='count', y='genre_list', hue='country', data=top_genre_by_country, palette='viridis')\n",
    "plt.title(\"Top Genres by Country (Top 5 Countries)\", fontsize=14)\n",
    "plt.xlabel(\"Number of Titles\")\n",
    "plt.ylabel(\"Genre\")\n",
    "plt.legend(title=\"Country\")\n",
    "plt.show()\n",
    "\n"
   ]
  },
  {
   "cell_type": "code",
   "execution_count": 39,
   "id": "59e77738",
   "metadata": {},
   "outputs": [
    {
     "name": "stderr",
     "output_type": "stream",
     "text": [
      "C:\\Users\\SC\\AppData\\Local\\Temp\\ipykernel_2396\\3902244818.py:7: DeprecationWarning:\n",
      "\n",
      "DataFrameGroupBy.apply operated on the grouping columns. This behavior is deprecated, and in a future version of pandas the grouping columns will be excluded from the operation. Either pass `include_groups=False` to exclude the groupings or explicitly select the grouping columns after groupby to silence this warning.\n",
      "\n"
     ]
    },
    {
     "data": {
      "application/vnd.plotly.v1+json": {
       "config": {
        "plotlyServerURL": "https://plot.ly"
       },
       "data": [
        {
         "hovertemplate": "country=India<br>Number of Titles=%{x}<br>Genre=%{y}<extra></extra>",
         "legendgroup": "India",
         "marker": {
          "color": "rgb(228,26,28)",
          "pattern": {
           "shape": ""
          }
         },
         "name": "India",
         "orientation": "h",
         "showlegend": true,
         "textposition": "auto",
         "type": "bar",
         "x": {
          "bdata": "MQNsAjQBlgB/AA==",
          "dtype": "i2"
         },
         "xaxis": "x",
         "y": [
          "International Movies",
          "Dramas",
          "Comedies",
          "Independent Movies",
          "Action & Adventure"
         ],
         "yaxis": "y"
        },
        {
         "hovertemplate": "country=Japan<br>Number of Titles=%{x}<br>Genre=%{y}<extra></extra>",
         "legendgroup": "Japan",
         "marker": {
          "color": "rgb(55,126,184)",
          "pattern": {
           "shape": ""
          }
         },
         "name": "Japan",
         "orientation": "h",
         "showlegend": true,
         "textposition": "auto",
         "type": "bar",
         "x": {
          "bdata": "jQCDADoANgAuAA==",
          "dtype": "i2"
         },
         "xaxis": "x",
         "y": [
          "International TV Shows",
          "Anime Series",
          "International Movies",
          "Anime Features",
          "Action & Adventure"
         ],
         "yaxis": "y"
        },
        {
         "hovertemplate": "country=South Korea<br>Number of Titles=%{x}<br>Genre=%{y}<extra></extra>",
         "legendgroup": "South Korea",
         "marker": {
          "color": "rgb(77,175,74)",
          "pattern": {
           "shape": ""
          }
         },
         "name": "South Korea",
         "orientation": "h",
         "showlegend": true,
         "textposition": "auto",
         "type": "bar",
         "x": {
          "bdata": "lQCCAEsAJgAkAA==",
          "dtype": "i2"
         },
         "xaxis": "x",
         "y": [
          "International TV Shows",
          "Korean TV Shows",
          "Romantic TV Shows",
          "International Movies",
          "TV Dramas"
         ],
         "yaxis": "y"
        },
        {
         "hovertemplate": "country=United Kingdom<br>Number of Titles=%{x}<br>Genre=%{y}<extra></extra>",
         "legendgroup": "United Kingdom",
         "marker": {
          "color": "rgb(152,78,163)",
          "pattern": {
           "shape": ""
          }
         },
         "name": "United Kingdom",
         "orientation": "h",
         "showlegend": true,
         "textposition": "auto",
         "type": "bar",
         "x": {
          "bdata": "xABwAFQATgBCAA==",
          "dtype": "i2"
         },
         "xaxis": "x",
         "y": [
          "British TV Shows",
          "International TV Shows",
          "Documentaries",
          "Docuseries",
          "International Movies"
         ],
         "yaxis": "y"
        },
        {
         "hovertemplate": "country=United States<br>Number of Titles=%{x}<br>Genre=%{y}<extra></extra>",
         "legendgroup": "United States",
         "marker": {
          "color": "rgb(255,127,0)",
          "pattern": {
           "shape": ""
          }
         },
         "name": "United States",
         "orientation": "h",
         "showlegend": true,
         "textposition": "auto",
         "type": "bar",
         "x": {
          "bdata": "TwIMApsBLgEQAQ==",
          "dtype": "i2"
         },
         "xaxis": "x",
         "y": [
          "Dramas",
          "Comedies",
          "Documentaries",
          "Independent Movies",
          "Children & Family Movies"
         ],
         "yaxis": "y"
        }
       ],
       "layout": {
        "barmode": "relative",
        "legend": {
         "title": {
          "text": "Country"
         },
         "tracegroupgap": 0
        },
        "showlegend": true,
        "template": {
         "data": {
          "bar": [
           {
            "error_x": {
             "color": "#2a3f5f"
            },
            "error_y": {
             "color": "#2a3f5f"
            },
            "marker": {
             "line": {
              "color": "#E5ECF6",
              "width": 0.5
             },
             "pattern": {
              "fillmode": "overlay",
              "size": 10,
              "solidity": 0.2
             }
            },
            "type": "bar"
           }
          ],
          "barpolar": [
           {
            "marker": {
             "line": {
              "color": "#E5ECF6",
              "width": 0.5
             },
             "pattern": {
              "fillmode": "overlay",
              "size": 10,
              "solidity": 0.2
             }
            },
            "type": "barpolar"
           }
          ],
          "carpet": [
           {
            "aaxis": {
             "endlinecolor": "#2a3f5f",
             "gridcolor": "white",
             "linecolor": "white",
             "minorgridcolor": "white",
             "startlinecolor": "#2a3f5f"
            },
            "baxis": {
             "endlinecolor": "#2a3f5f",
             "gridcolor": "white",
             "linecolor": "white",
             "minorgridcolor": "white",
             "startlinecolor": "#2a3f5f"
            },
            "type": "carpet"
           }
          ],
          "choropleth": [
           {
            "colorbar": {
             "outlinewidth": 0,
             "ticks": ""
            },
            "type": "choropleth"
           }
          ],
          "contour": [
           {
            "colorbar": {
             "outlinewidth": 0,
             "ticks": ""
            },
            "colorscale": [
             [
              0,
              "#0d0887"
             ],
             [
              0.1111111111111111,
              "#46039f"
             ],
             [
              0.2222222222222222,
              "#7201a8"
             ],
             [
              0.3333333333333333,
              "#9c179e"
             ],
             [
              0.4444444444444444,
              "#bd3786"
             ],
             [
              0.5555555555555556,
              "#d8576b"
             ],
             [
              0.6666666666666666,
              "#ed7953"
             ],
             [
              0.7777777777777778,
              "#fb9f3a"
             ],
             [
              0.8888888888888888,
              "#fdca26"
             ],
             [
              1,
              "#f0f921"
             ]
            ],
            "type": "contour"
           }
          ],
          "contourcarpet": [
           {
            "colorbar": {
             "outlinewidth": 0,
             "ticks": ""
            },
            "type": "contourcarpet"
           }
          ],
          "heatmap": [
           {
            "colorbar": {
             "outlinewidth": 0,
             "ticks": ""
            },
            "colorscale": [
             [
              0,
              "#0d0887"
             ],
             [
              0.1111111111111111,
              "#46039f"
             ],
             [
              0.2222222222222222,
              "#7201a8"
             ],
             [
              0.3333333333333333,
              "#9c179e"
             ],
             [
              0.4444444444444444,
              "#bd3786"
             ],
             [
              0.5555555555555556,
              "#d8576b"
             ],
             [
              0.6666666666666666,
              "#ed7953"
             ],
             [
              0.7777777777777778,
              "#fb9f3a"
             ],
             [
              0.8888888888888888,
              "#fdca26"
             ],
             [
              1,
              "#f0f921"
             ]
            ],
            "type": "heatmap"
           }
          ],
          "histogram": [
           {
            "marker": {
             "pattern": {
              "fillmode": "overlay",
              "size": 10,
              "solidity": 0.2
             }
            },
            "type": "histogram"
           }
          ],
          "histogram2d": [
           {
            "colorbar": {
             "outlinewidth": 0,
             "ticks": ""
            },
            "colorscale": [
             [
              0,
              "#0d0887"
             ],
             [
              0.1111111111111111,
              "#46039f"
             ],
             [
              0.2222222222222222,
              "#7201a8"
             ],
             [
              0.3333333333333333,
              "#9c179e"
             ],
             [
              0.4444444444444444,
              "#bd3786"
             ],
             [
              0.5555555555555556,
              "#d8576b"
             ],
             [
              0.6666666666666666,
              "#ed7953"
             ],
             [
              0.7777777777777778,
              "#fb9f3a"
             ],
             [
              0.8888888888888888,
              "#fdca26"
             ],
             [
              1,
              "#f0f921"
             ]
            ],
            "type": "histogram2d"
           }
          ],
          "histogram2dcontour": [
           {
            "colorbar": {
             "outlinewidth": 0,
             "ticks": ""
            },
            "colorscale": [
             [
              0,
              "#0d0887"
             ],
             [
              0.1111111111111111,
              "#46039f"
             ],
             [
              0.2222222222222222,
              "#7201a8"
             ],
             [
              0.3333333333333333,
              "#9c179e"
             ],
             [
              0.4444444444444444,
              "#bd3786"
             ],
             [
              0.5555555555555556,
              "#d8576b"
             ],
             [
              0.6666666666666666,
              "#ed7953"
             ],
             [
              0.7777777777777778,
              "#fb9f3a"
             ],
             [
              0.8888888888888888,
              "#fdca26"
             ],
             [
              1,
              "#f0f921"
             ]
            ],
            "type": "histogram2dcontour"
           }
          ],
          "mesh3d": [
           {
            "colorbar": {
             "outlinewidth": 0,
             "ticks": ""
            },
            "type": "mesh3d"
           }
          ],
          "parcoords": [
           {
            "line": {
             "colorbar": {
              "outlinewidth": 0,
              "ticks": ""
             }
            },
            "type": "parcoords"
           }
          ],
          "pie": [
           {
            "automargin": true,
            "type": "pie"
           }
          ],
          "scatter": [
           {
            "fillpattern": {
             "fillmode": "overlay",
             "size": 10,
             "solidity": 0.2
            },
            "type": "scatter"
           }
          ],
          "scatter3d": [
           {
            "line": {
             "colorbar": {
              "outlinewidth": 0,
              "ticks": ""
             }
            },
            "marker": {
             "colorbar": {
              "outlinewidth": 0,
              "ticks": ""
             }
            },
            "type": "scatter3d"
           }
          ],
          "scattercarpet": [
           {
            "marker": {
             "colorbar": {
              "outlinewidth": 0,
              "ticks": ""
             }
            },
            "type": "scattercarpet"
           }
          ],
          "scattergeo": [
           {
            "marker": {
             "colorbar": {
              "outlinewidth": 0,
              "ticks": ""
             }
            },
            "type": "scattergeo"
           }
          ],
          "scattergl": [
           {
            "marker": {
             "colorbar": {
              "outlinewidth": 0,
              "ticks": ""
             }
            },
            "type": "scattergl"
           }
          ],
          "scattermap": [
           {
            "marker": {
             "colorbar": {
              "outlinewidth": 0,
              "ticks": ""
             }
            },
            "type": "scattermap"
           }
          ],
          "scattermapbox": [
           {
            "marker": {
             "colorbar": {
              "outlinewidth": 0,
              "ticks": ""
             }
            },
            "type": "scattermapbox"
           }
          ],
          "scatterpolar": [
           {
            "marker": {
             "colorbar": {
              "outlinewidth": 0,
              "ticks": ""
             }
            },
            "type": "scatterpolar"
           }
          ],
          "scatterpolargl": [
           {
            "marker": {
             "colorbar": {
              "outlinewidth": 0,
              "ticks": ""
             }
            },
            "type": "scatterpolargl"
           }
          ],
          "scatterternary": [
           {
            "marker": {
             "colorbar": {
              "outlinewidth": 0,
              "ticks": ""
             }
            },
            "type": "scatterternary"
           }
          ],
          "surface": [
           {
            "colorbar": {
             "outlinewidth": 0,
             "ticks": ""
            },
            "colorscale": [
             [
              0,
              "#0d0887"
             ],
             [
              0.1111111111111111,
              "#46039f"
             ],
             [
              0.2222222222222222,
              "#7201a8"
             ],
             [
              0.3333333333333333,
              "#9c179e"
             ],
             [
              0.4444444444444444,
              "#bd3786"
             ],
             [
              0.5555555555555556,
              "#d8576b"
             ],
             [
              0.6666666666666666,
              "#ed7953"
             ],
             [
              0.7777777777777778,
              "#fb9f3a"
             ],
             [
              0.8888888888888888,
              "#fdca26"
             ],
             [
              1,
              "#f0f921"
             ]
            ],
            "type": "surface"
           }
          ],
          "table": [
           {
            "cells": {
             "fill": {
              "color": "#EBF0F8"
             },
             "line": {
              "color": "white"
             }
            },
            "header": {
             "fill": {
              "color": "#C8D4E3"
             },
             "line": {
              "color": "white"
             }
            },
            "type": "table"
           }
          ]
         },
         "layout": {
          "annotationdefaults": {
           "arrowcolor": "#2a3f5f",
           "arrowhead": 0,
           "arrowwidth": 1
          },
          "autotypenumbers": "strict",
          "coloraxis": {
           "colorbar": {
            "outlinewidth": 0,
            "ticks": ""
           }
          },
          "colorscale": {
           "diverging": [
            [
             0,
             "#8e0152"
            ],
            [
             0.1,
             "#c51b7d"
            ],
            [
             0.2,
             "#de77ae"
            ],
            [
             0.3,
             "#f1b6da"
            ],
            [
             0.4,
             "#fde0ef"
            ],
            [
             0.5,
             "#f7f7f7"
            ],
            [
             0.6,
             "#e6f5d0"
            ],
            [
             0.7,
             "#b8e186"
            ],
            [
             0.8,
             "#7fbc41"
            ],
            [
             0.9,
             "#4d9221"
            ],
            [
             1,
             "#276419"
            ]
           ],
           "sequential": [
            [
             0,
             "#0d0887"
            ],
            [
             0.1111111111111111,
             "#46039f"
            ],
            [
             0.2222222222222222,
             "#7201a8"
            ],
            [
             0.3333333333333333,
             "#9c179e"
            ],
            [
             0.4444444444444444,
             "#bd3786"
            ],
            [
             0.5555555555555556,
             "#d8576b"
            ],
            [
             0.6666666666666666,
             "#ed7953"
            ],
            [
             0.7777777777777778,
             "#fb9f3a"
            ],
            [
             0.8888888888888888,
             "#fdca26"
            ],
            [
             1,
             "#f0f921"
            ]
           ],
           "sequentialminus": [
            [
             0,
             "#0d0887"
            ],
            [
             0.1111111111111111,
             "#46039f"
            ],
            [
             0.2222222222222222,
             "#7201a8"
            ],
            [
             0.3333333333333333,
             "#9c179e"
            ],
            [
             0.4444444444444444,
             "#bd3786"
            ],
            [
             0.5555555555555556,
             "#d8576b"
            ],
            [
             0.6666666666666666,
             "#ed7953"
            ],
            [
             0.7777777777777778,
             "#fb9f3a"
            ],
            [
             0.8888888888888888,
             "#fdca26"
            ],
            [
             1,
             "#f0f921"
            ]
           ]
          },
          "colorway": [
           "#636efa",
           "#EF553B",
           "#00cc96",
           "#ab63fa",
           "#FFA15A",
           "#19d3f3",
           "#FF6692",
           "#B6E880",
           "#FF97FF",
           "#FECB52"
          ],
          "font": {
           "color": "#2a3f5f"
          },
          "geo": {
           "bgcolor": "white",
           "lakecolor": "white",
           "landcolor": "#E5ECF6",
           "showlakes": true,
           "showland": true,
           "subunitcolor": "white"
          },
          "hoverlabel": {
           "align": "left"
          },
          "hovermode": "closest",
          "mapbox": {
           "style": "light"
          },
          "paper_bgcolor": "white",
          "plot_bgcolor": "#E5ECF6",
          "polar": {
           "angularaxis": {
            "gridcolor": "white",
            "linecolor": "white",
            "ticks": ""
           },
           "bgcolor": "#E5ECF6",
           "radialaxis": {
            "gridcolor": "white",
            "linecolor": "white",
            "ticks": ""
           }
          },
          "scene": {
           "xaxis": {
            "backgroundcolor": "#E5ECF6",
            "gridcolor": "white",
            "gridwidth": 2,
            "linecolor": "white",
            "showbackground": true,
            "ticks": "",
            "zerolinecolor": "white"
           },
           "yaxis": {
            "backgroundcolor": "#E5ECF6",
            "gridcolor": "white",
            "gridwidth": 2,
            "linecolor": "white",
            "showbackground": true,
            "ticks": "",
            "zerolinecolor": "white"
           },
           "zaxis": {
            "backgroundcolor": "#E5ECF6",
            "gridcolor": "white",
            "gridwidth": 2,
            "linecolor": "white",
            "showbackground": true,
            "ticks": "",
            "zerolinecolor": "white"
           }
          },
          "shapedefaults": {
           "line": {
            "color": "#2a3f5f"
           }
          },
          "ternary": {
           "aaxis": {
            "gridcolor": "white",
            "linecolor": "white",
            "ticks": ""
           },
           "baxis": {
            "gridcolor": "white",
            "linecolor": "white",
            "ticks": ""
           },
           "bgcolor": "#E5ECF6",
           "caxis": {
            "gridcolor": "white",
            "linecolor": "white",
            "ticks": ""
           }
          },
          "title": {
           "x": 0.05
          },
          "xaxis": {
           "automargin": true,
           "gridcolor": "white",
           "linecolor": "white",
           "ticks": "",
           "title": {
            "standoff": 15
           },
           "zerolinecolor": "white",
           "zerolinewidth": 2
          },
          "yaxis": {
           "automargin": true,
           "gridcolor": "white",
           "linecolor": "white",
           "ticks": "",
           "title": {
            "standoff": 15
           },
           "zerolinecolor": "white",
           "zerolinewidth": 2
          }
         }
        },
        "title": {
         "text": "Top Genres by Country (Top 5 Countries)"
        },
        "xaxis": {
         "anchor": "y",
         "domain": [
          0,
          1
         ],
         "title": {
          "text": "Number of Titles"
         }
        },
        "yaxis": {
         "anchor": "x",
         "domain": [
          0,
          1
         ],
         "title": {
          "text": "Genre"
         }
        }
       }
      }
     },
     "metadata": {},
     "output_type": "display_data"
    }
   ],
   "source": [
    "import plotly.express as px\n",
    "\n",
    "# Group by country and genre_list, then count occurrences\n",
    "genre_by_country = df_top.groupby(['country', 'genre_list']).size().reset_index(name='count')\n",
    "\n",
    "# Sort by count and filter for top genres (if necessary)\n",
    "top_genre_by_country = genre_by_country.groupby('country').apply(lambda x: x.nlargest(5, 'count')).reset_index(drop=True)\n",
    "\n",
    "# Plot using Plotly\n",
    "fig = px.bar(top_genre_by_country, \n",
    "             x='count', \n",
    "             y='genre_list', \n",
    "             color='country', \n",
    "             title='Top Genres by Country (Top 5 Countries)',\n",
    "             labels={'count': 'Number of Titles', 'genre_list': 'Genre'},\n",
    "             orientation='h',  # Horizontal bar chart\n",
    "             color_discrete_sequence=px.colors.qualitative.Set1)\n",
    "\n",
    "fig.update_layout(\n",
    "    xaxis_title='Number of Titles',\n",
    "    yaxis_title='Genre',\n",
    "    legend_title='Country',\n",
    "    showlegend=True\n",
    ")\n",
    "\n",
    "fig.show()\n"
   ]
  },
  {
   "cell_type": "code",
   "execution_count": null,
   "id": "9a66bd37",
   "metadata": {},
   "outputs": [],
   "source": []
  }
 ],
 "metadata": {
  "kernelspec": {
   "display_name": "Python 3",
   "language": "python",
   "name": "python3"
  },
  "language_info": {
   "codemirror_mode": {
    "name": "ipython",
    "version": 3
   },
   "file_extension": ".py",
   "mimetype": "text/x-python",
   "name": "python",
   "nbconvert_exporter": "python",
   "pygments_lexer": "ipython3",
   "version": "3.11.0"
  }
 },
 "nbformat": 4,
 "nbformat_minor": 5
}
